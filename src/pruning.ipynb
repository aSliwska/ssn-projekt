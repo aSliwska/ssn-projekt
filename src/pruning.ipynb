{
 "cells": [
  {
   "cell_type": "code",
   "id": "initial_id",
   "metadata": {
    "collapsed": true,
    "ExecuteTime": {
     "end_time": "2025-05-12T23:17:18.326987Z",
     "start_time": "2025-05-12T23:17:11.945993Z"
    }
   },
   "source": [
    "import copy\n",
    "\n",
    "import matplotlib.pyplot as plt\n",
    "import torch\n",
    "from torch.utils.data import DataLoader, random_split\n",
    "import torchvision\n",
    "import torch.nn as nn\n",
    "from torchvision.transforms import v2\n",
    "import multiprocessing\n",
    "import torch.nn.utils.prune as prune\n",
    "import torch.nn.functional as F\n"
   ],
   "outputs": [],
   "execution_count": 2
  },
  {
   "metadata": {
    "ExecuteTime": {
     "end_time": "2025-05-12T23:17:19.256151Z",
     "start_time": "2025-05-12T23:17:19.226168Z"
    }
   },
   "cell_type": "code",
   "source": "print(torch.cuda.is_available())",
   "id": "e0859d293dcf910d",
   "outputs": [
    {
     "name": "stdout",
     "output_type": "stream",
     "text": [
      "True\n"
     ]
    }
   ],
   "execution_count": 3
  },
  {
   "metadata": {
    "ExecuteTime": {
     "end_time": "2025-05-12T23:17:20.679547Z",
     "start_time": "2025-05-12T23:17:20.672019Z"
    }
   },
   "cell_type": "code",
   "source": [
    "# run variables\n",
    "\n",
    "seed = 42\n",
    "file_name = 'base_pruned'\n",
    "# file_name = 'student_self_taught'\n",
    "\n",
    "class BaseNN(nn.Module):\n",
    "    def __init__(self, conv1_out = 128, conv2_out = 64, conv3_out = 32, num_classes=10):\n",
    "        super(BaseNN, self).__init__()\n",
    "\n",
    "        ### teacher\n",
    "        self.features = nn.Sequential(\n",
    "            nn.Conv2d(3, conv1_out, kernel_size=3, padding=1),\n",
    "            nn.ReLU(),\n",
    "            nn.Conv2d(conv1_out, conv2_out, kernel_size=3, padding=1),\n",
    "            nn.ReLU(),\n",
    "            nn.MaxPool2d(kernel_size=2, stride=2),\n",
    "            nn.Conv2d(conv2_out, conv2_out, kernel_size=3, padding=1),\n",
    "            nn.ReLU(),\n",
    "            nn.Conv2d(conv2_out, conv3_out, kernel_size=3, padding=1),\n",
    "            nn.ReLU(),\n",
    "            nn.MaxPool2d(kernel_size=2, stride=2),\n",
    "        )\n",
    "        self.classifier = nn.Sequential(\n",
    "            nn.Linear(2048, 512),\n",
    "            nn.ReLU(),\n",
    "            nn.Dropout(0.1),\n",
    "            nn.Linear(512, num_classes)\n",
    "        )\n",
    "\n",
    "        ### student\n",
    "        # self.features = nn.Sequential(\n",
    "        #     nn.Conv2d(3, 16, kernel_size=3, padding=1),\n",
    "        #     nn.ReLU(),\n",
    "        #     nn.MaxPool2d(kernel_size=2, stride=2),\n",
    "        #     nn.Conv2d(16, 16, kernel_size=3, padding=1),\n",
    "        #     nn.ReLU(),\n",
    "        #     nn.MaxPool2d(kernel_size=2, stride=2),\n",
    "        # )\n",
    "        # self.classifier = nn.Sequential(\n",
    "        #     nn.Linear(1024, 256),\n",
    "        #     nn.ReLU(),\n",
    "        #     nn.Dropout(0.1),\n",
    "        #     nn.Linear(256, num_classes)\n",
    "        # )\n",
    "\n",
    "    def forward(self, x):\n",
    "        x = self.features(x)\n",
    "        x = torch.flatten(x, 1)\n",
    "        x = self.classifier(x)\n",
    "        return x"
   ],
   "id": "d4fcbd8c27e5803d",
   "outputs": [],
   "execution_count": 4
  },
  {
   "metadata": {
    "ExecuteTime": {
     "end_time": "2025-05-12T23:17:25.180788Z",
     "start_time": "2025-05-12T23:17:25.169774Z"
    }
   },
   "cell_type": "code",
   "source": [
    "# device settings\n",
    "\n",
    "num_workers = 2\n",
    "\n",
    "print(torch.cuda.get_device_name(torch.cuda.current_device()))\n",
    "\n",
    "#device = torch.accelerator.current_accelerator().type if torch.accelerator.is_available() else \"cpu\"\n",
    "\n",
    "device = \"cuda\" if torch.cuda.is_available() else \"cpu\"\n",
    "\n",
    "print(f\"Using {device} device\")"
   ],
   "id": "d38b3b647c6fcab6",
   "outputs": [
    {
     "name": "stdout",
     "output_type": "stream",
     "text": [
      "NVIDIA GeForce RTX 2060\n",
      "Using cuda device\n"
     ]
    }
   ],
   "execution_count": 5
  },
  {
   "metadata": {
    "ExecuteTime": {
     "end_time": "2025-05-12T23:17:29.487965Z",
     "start_time": "2025-05-12T23:17:27.969006Z"
    }
   },
   "cell_type": "code",
   "source": [
    "# define datasets and loaders\n",
    "\n",
    "transform = v2.Compose([\n",
    "    v2.ToImage(),\n",
    "    v2.ToDtype(torch.float32, scale=True),\n",
    "    v2.Normalize(mean=[0.485, 0.456, 0.406], std=[0.229, 0.224, 0.225]),\n",
    "])\n",
    "\n",
    "train_dataset = torchvision.datasets.CIFAR10(\"./../data\", train=True, transform=transform, download=True)\n",
    "test_dataset = torchvision.datasets.CIFAR10(\"./../data\", train=False, transform=transform, download=True)\n",
    "\n",
    "train_dataset, validation_dataset =  random_split(train_dataset, [0.8, 0.2])\n",
    "\n",
    "print('train set size:', len(train_dataset))\n",
    "print('validation set size:', len(validation_dataset))\n",
    "print('test set size:', len(test_dataset))\n",
    "\n",
    "train_loader = DataLoader(train_dataset, batch_size=64, shuffle=True, num_workers=num_workers)\n",
    "validation_loader = DataLoader(validation_dataset, batch_size=64, shuffle=True, num_workers=num_workers)\n",
    "test_loader = DataLoader(test_dataset, batch_size=64, shuffle=False, num_workers=num_workers)\n",
    "\n",
    "class_names = [\"airplane\", \"automobile\", \"bird\", \"cat\", \"deer\", \"dog\", \"frog\", \"horse\", \"ship\", \"truck\"]"
   ],
   "id": "24253639fd75c073",
   "outputs": [
    {
     "name": "stdout",
     "output_type": "stream",
     "text": [
      "Files already downloaded and verified\n",
      "Files already downloaded and verified\n",
      "train set size: 40000\n",
      "validation set size: 10000\n",
      "test set size: 10000\n"
     ]
    }
   ],
   "execution_count": 6
  },
  {
   "metadata": {
    "ExecuteTime": {
     "end_time": "2025-05-12T23:17:31.765547Z",
     "start_time": "2025-05-12T23:17:31.754468Z"
    }
   },
   "cell_type": "code",
   "source": [
    "def train(model, epochs, learning_rate):\n",
    "    trainingEpoch_loss = []\n",
    "    validationEpoch_loss = []\n",
    "    criterion = nn.CrossEntropyLoss()\n",
    "    optimizer = torch.optim.Adam(model.parameters(), lr=learning_rate)\n",
    "\n",
    "    for epoch in range(epochs):\n",
    "        # training\n",
    "        model.train()\n",
    "        running_loss = 0.0\n",
    "        for inputs, labels in train_loader:\n",
    "            inputs, labels = inputs.to(device), labels.to(device)\n",
    "\n",
    "            optimizer.zero_grad()\n",
    "            outputs = model(inputs)\n",
    "            loss = criterion(outputs, labels)\n",
    "            loss.backward()\n",
    "            optimizer.step()\n",
    "\n",
    "            running_loss += loss.item()\n",
    "\n",
    "        print(f\"Epoch {epoch+1}/{epochs}, Loss: {running_loss / len(train_loader)}\")\n",
    "        trainingEpoch_loss.append(running_loss / len(train_loader))\n",
    "\n",
    "        # validation\n",
    "        model.eval()\n",
    "        validation_loss = 0.0\n",
    "        for inputs, labels in validation_loader:\n",
    "            inputs, labels = inputs.to(device), labels.to(device)\n",
    "\n",
    "            outputs = model(inputs)\n",
    "            loss = criterion(outputs, labels)\n",
    "\n",
    "            validation_loss += loss.item()\n",
    "\n",
    "        validationEpoch_loss.append(validation_loss / len(validation_loader))\n",
    "\n",
    "    return trainingEpoch_loss, validationEpoch_loss"
   ],
   "id": "e01509899c40d22e",
   "outputs": [],
   "execution_count": 7
  },
  {
   "metadata": {
    "ExecuteTime": {
     "end_time": "2025-05-12T23:17:37.580056Z",
     "start_time": "2025-05-12T23:17:37.574638Z"
    }
   },
   "cell_type": "code",
   "source": [
    "def test(model):\n",
    "    model.eval()\n",
    "\n",
    "    correct = 0\n",
    "    total = 0\n",
    "\n",
    "    with torch.no_grad():\n",
    "        for inputs, labels in test_loader:\n",
    "            inputs, labels = inputs.to(device), labels.to(device)\n",
    "\n",
    "            outputs = model(inputs)\n",
    "            _, predicted = torch.max(outputs.data, 1)\n",
    "\n",
    "            total += labels.size(0)\n",
    "            correct += (predicted == labels).sum().item()\n",
    "\n",
    "    accuracy = 100 * correct / total\n",
    "    print(f\"Test Accuracy: {accuracy:.2f}%\")\n",
    "    return accuracy"
   ],
   "id": "619077d019e61ed4",
   "outputs": [],
   "execution_count": 8
  },
  {
   "metadata": {
    "ExecuteTime": {
     "end_time": "2025-05-12T23:17:42.787143Z",
     "start_time": "2025-05-12T23:17:42.648556Z"
    }
   },
   "cell_type": "code",
   "source": [
    "torch.manual_seed(seed)\n",
    "model_base = BaseNN(num_classes=10).to(device)\n"
   ],
   "id": "e4e3053f7ed533b",
   "outputs": [],
   "execution_count": 9
  },
  {
   "metadata": {
    "ExecuteTime": {
     "end_time": "2025-05-12T23:23:06.367079Z",
     "start_time": "2025-05-12T23:17:45.798427Z"
    }
   },
   "cell_type": "code",
   "source": "trainingEpoch_loss, validationEpoch_loss = train(model_base, epochs=10, learning_rate=0.001)",
   "id": "246d587409692b18",
   "outputs": [
    {
     "name": "stdout",
     "output_type": "stream",
     "text": [
      "Epoch 1/10, Loss: 1.4036573497772218\n",
      "Epoch 2/10, Loss: 0.920231166267395\n",
      "Epoch 3/10, Loss: 0.716661383152008\n",
      "Epoch 4/10, Loss: 0.5651234618186951\n",
      "Epoch 5/10, Loss: 0.4249002545833588\n",
      "Epoch 6/10, Loss: 0.3078280714511871\n",
      "Epoch 7/10, Loss: 0.21853899303674698\n",
      "Epoch 8/10, Loss: 0.17695938194692135\n",
      "Epoch 9/10, Loss: 0.13657943984866142\n",
      "Epoch 10/10, Loss: 0.12573194804787635\n"
     ]
    }
   ],
   "execution_count": 10
  },
  {
   "metadata": {
    "ExecuteTime": {
     "end_time": "2025-05-12T23:23:59.016599Z",
     "start_time": "2025-05-12T23:23:47.698107Z"
    }
   },
   "cell_type": "code",
   "source": "test(model_base)",
   "id": "278741bcf39770d2",
   "outputs": [
    {
     "name": "stdout",
     "output_type": "stream",
     "text": [
      "Test Accuracy: 73.45%\n"
     ]
    },
    {
     "data": {
      "text/plain": [
       "73.45"
      ]
     },
     "execution_count": 11,
     "metadata": {},
     "output_type": "execute_result"
    }
   ],
   "execution_count": 11
  },
  {
   "metadata": {
    "ExecuteTime": {
     "end_time": "2025-05-12T23:24:01.373133Z",
     "start_time": "2025-05-12T23:24:01.221888Z"
    }
   },
   "cell_type": "code",
   "source": [
    "plt.plot(trainingEpoch_loss, label='train_loss')\n",
    "plt.plot(validationEpoch_loss,label='val_loss')\n",
    "plt.legend()\n",
    "plt.show()"
   ],
   "id": "247ceb18d9b692bb",
   "outputs": [
    {
     "data": {
      "text/plain": [
       "<Figure size 640x480 with 1 Axes>"
      ],
      "image/png": "[encoded data removed]"
     },
     "metadata": {},
     "output_type": "display_data"
    }
   ],
   "execution_count": 12
  },
  {
   "metadata": {
    "ExecuteTime": {
     "end_time": "2025-05-12T23:24:05.681725Z",
     "start_time": "2025-05-12T23:24:05.676202Z"
    }
   },
   "cell_type": "code",
   "source": [
    "# === Sparsity ===\n",
    "def calculate_sparsity(model):\n",
    "    zero, total = 0, 0\n",
    "    for p in model.parameters():\n",
    "        total += p.numel()\n",
    "        zero += (p == 0).sum().item()\n",
    "    return 100.0 * zero / total"
   ],
   "id": "6c82a287ac4193f7",
   "outputs": [],
   "execution_count": 13
  },
  {
   "metadata": {
    "ExecuteTime": {
     "end_time": "2025-05-13T00:07:09.291861Z",
     "start_time": "2025-05-13T00:07:08.982405Z"
    }
   },
   "cell_type": "code",
   "source": [
    "# === Unstructured pruning ===\n",
    "unstructured_model = copy.deepcopy(model_base)\n",
    "prune.l1_unstructured(unstructured_model.classifier[0], name='weight', amount=0.8)\n",
    "prune.l1_unstructured(unstructured_model.classifier[3], name='weight', amount=0.8)\n",
    "\n",
    "prune.l1_unstructured(unstructured_model.features[0], name='weight', amount=0.8)\n",
    "prune.l1_unstructured(unstructured_model.features[2], name='weight', amount=0.8)\n",
    "\n",
    "print(f\"Sparsity: {calculate_sparsity(unstructured_model):.2f}%\")\n",
    "\n",
    "# === Usuwanie zerowych wag ===\n",
    "def remove_zero_weights(model):\n",
    "    for name, p in model.named_parameters():\n",
    "        if 'weight' in name:\n",
    "            # Używamy maski do usunięcia zerowych wag\n",
    "            p.data = p.data * (p != 0).float()\n",
    "\n",
    "# Usuwamy wagi wyzerowane\n",
    "remove_zero_weights(unstructured_model)\n",
    "\n",
    "# === Usuwanie masek pruningowych ===\n",
    "for module in [unstructured_model.classifier[0], unstructured_model.classifier[3], unstructured_model.features[0], unstructured_model.features[2]]:\n",
    "    prune.remove(module, 'weight')\n",
    "\n",
    "print(f\"Sparsity: {calculate_sparsity(unstructured_model):.2f}%\")\n"
   ],
   "id": "cb8c02e41689d424",
   "outputs": [
    {
     "name": "stdout",
     "output_type": "stream",
     "text": [
      "Sparsity: 0.00%\n",
      "Sparsity: 76.22%\n"
     ]
    }
   ],
   "execution_count": 42
  },
  {
   "metadata": {
    "ExecuteTime": {
     "end_time": "2025-05-13T00:08:54.465182Z",
     "start_time": "2025-05-13T00:07:22.110258Z"
    }
   },
   "cell_type": "code",
   "source": "trainingEpoch_loss, validationEpoch_loss = train(unstructured_model, epochs=3, learning_rate=0.001)",
   "id": "fbca733fe5bf77e5",
   "outputs": [
    {
     "name": "stdout",
     "output_type": "stream",
     "text": [
      "Epoch 1/3, Loss: 0.20672038903832435\n",
      "Epoch 2/3, Loss: 0.11497222856879234\n",
      "Epoch 3/3, Loss: 0.10612922834008932\n"
     ]
    }
   ],
   "execution_count": 43
  },
  {
   "metadata": {
    "ExecuteTime": {
     "end_time": "2025-05-13T00:09:07.498261Z",
     "start_time": "2025-05-13T00:08:57.005628Z"
    }
   },
   "cell_type": "code",
   "source": "test(unstructured_model)",
   "id": "14fc489d28dcbb5f",
   "outputs": [
    {
     "name": "stdout",
     "output_type": "stream",
     "text": [
      "Test Accuracy: 72.89%\n"
     ]
    },
    {
     "data": {
      "text/plain": [
       "72.89"
      ]
     },
     "execution_count": 44,
     "metadata": {},
     "output_type": "execute_result"
    }
   ],
   "execution_count": 44
  },
  {
   "metadata": {
    "ExecuteTime": {
     "end_time": "2025-05-13T00:09:10.048454Z",
     "start_time": "2025-05-13T00:09:09.923142Z"
    }
   },
   "cell_type": "code",
   "source": [
    "plt.plot(trainingEpoch_loss, label='train_loss')\n",
    "plt.plot(validationEpoch_loss,label='val_loss')\n",
    "plt.legend()\n",
    "# plt.ylim(top=2)\n",
    "plt.show()"
   ],
   "id": "e6317ab8a6932bb1",
   "outputs": [
    {
     "data": {
      "text/plain": [
       "<Figure size 640x480 with 1 Axes>"
      ],
      "image/png": "[encoded data removed]"
     },
     "metadata": {},
     "output_type": "display_data"
    }
   ],
   "execution_count": 45
  },
  {
   "metadata": {
    "ExecuteTime": {
     "end_time": "2025-05-13T00:09:14.602987Z",
     "start_time": "2025-05-13T00:09:14.597938Z"
    }
   },
   "cell_type": "code",
   "source": [
    "# === Usuwanie zerowych wag ===\n",
    "def remove_zero_weights(model):\n",
    "    for name, p in model.named_parameters():\n",
    "        if 'weight' in name:\n",
    "            # Używamy maski do usunięcia zerowych wag\n",
    "            p.data = p.data * (p != 0).float()\n",
    "\n",
    "# Usuwamy wagi wyzerowane\n",
    "remove_zero_weights(unstructured_model)"
   ],
   "id": "ad894f1249c12bd2",
   "outputs": [],
   "execution_count": 46
  },
  {
   "metadata": {
    "ExecuteTime": {
     "end_time": "2025-05-13T00:09:18.382604Z",
     "start_time": "2025-05-13T00:09:18.367581Z"
    }
   },
   "cell_type": "code",
   "source": "torch.save(unstructured_model.state_dict(), \"../models/\" + \"unstructured_model\" + \".pt\")",
   "id": "7b433cd772b62cc6",
   "outputs": [],
   "execution_count": 47
  },
  {
   "metadata": {
    "ExecuteTime": {
     "end_time": "2025-05-13T00:09:30.780036Z",
     "start_time": "2025-05-13T00:09:30.774041Z"
    }
   },
   "cell_type": "code",
   "source": [
    "# === Structured pruning - kanały Conv2d ===\n",
    "def get_pruned_channels(conv_layer, amount):\n",
    "    weight = conv_layer.weight.detach().cpu()\n",
    "    norms = weight.view(weight.size(0), -1).norm(p=2, dim=1)\n",
    "    num_prune = int(amount * weight.size(0))\n",
    "    keep_indices = torch.argsort(norms)[num_prune:]\n",
    "    return keep_indices.tolist()"
   ],
   "id": "d020b48ffb24edf8",
   "outputs": [],
   "execution_count": 48
  },
  {
   "metadata": {
    "ExecuteTime": {
     "end_time": "2025-05-13T00:11:30.595241Z",
     "start_time": "2025-05-13T00:11:30.577227Z"
    }
   },
   "cell_type": "code",
   "source": [
    "# Pruning 50% kanałów pierwszej i drugiej warstwy konwolucyjnej\n",
    "keep1 = get_pruned_channels(model_base.features[0], amount=0.5)\n",
    "keep2 = get_pruned_channels(model_base.features[2], amount=0.5)\n",
    "structured_model = BaseNN(conv1_out=len(keep1), conv2_out= len(keep2)).to(device)"
   ],
   "id": "2f4c69f7c6c23016",
   "outputs": [],
   "execution_count": 50
  },
  {
   "metadata": {
    "ExecuteTime": {
     "end_time": "2025-05-13T00:16:40.932988Z",
     "start_time": "2025-05-13T00:11:33.622617Z"
    }
   },
   "cell_type": "code",
   "source": "trainingEpoch_loss, validationEpoch_loss = train(structured_model, epochs=10, learning_rate=0.001)",
   "id": "e07af6e15dea3e3c",
   "outputs": [
    {
     "name": "stdout",
     "output_type": "stream",
     "text": [
      "Epoch 1/10, Loss: 1.4137703093528748\n",
      "Epoch 2/10, Loss: 0.9585212079048157\n",
      "Epoch 3/10, Loss: 0.7415416924953461\n",
      "Epoch 4/10, Loss: 0.600065524148941\n",
      "Epoch 5/10, Loss: 0.4630236392259598\n",
      "Epoch 6/10, Loss: 0.34460117068290713\n",
      "Epoch 7/10, Loss: 0.25164495407342913\n",
      "Epoch 8/10, Loss: 0.19137949063777923\n",
      "Epoch 9/10, Loss: 0.14518955717086793\n",
      "Epoch 10/10, Loss: 0.13221699908673765\n"
     ]
    }
   ],
   "execution_count": 51
  },
  {
   "metadata": {
    "ExecuteTime": {
     "end_time": "2025-05-13T00:16:56.991778Z",
     "start_time": "2025-05-13T00:16:46.323219Z"
    }
   },
   "cell_type": "code",
   "source": "test(structured_model)",
   "id": "e863e215591da35d",
   "outputs": [
    {
     "name": "stdout",
     "output_type": "stream",
     "text": [
      "Test Accuracy: 72.98%\n"
     ]
    },
    {
     "data": {
      "text/plain": [
       "72.98"
      ]
     },
     "execution_count": 52,
     "metadata": {},
     "output_type": "execute_result"
    }
   ],
   "execution_count": 52
  },
  {
   "metadata": {
    "ExecuteTime": {
     "end_time": "2025-05-13T00:17:05.791283Z",
     "start_time": "2025-05-13T00:17:05.689276Z"
    }
   },
   "cell_type": "code",
   "source": [
    "plt.plot(trainingEpoch_loss, label='train_loss')\n",
    "plt.plot(validationEpoch_loss,label='val_loss')\n",
    "plt.legend()\n",
    "plt.show()"
   ],
   "id": "9c60c8bd7d7cf95",
   "outputs": [
    {
     "data": {
      "text/plain": [
       "<Figure size 640x480 with 1 Axes>"
      ],
      "image/png": "[encoded data removed]"
     },
     "metadata": {},
     "output_type": "display_data"
    }
   ],
   "execution_count": 53
  },
  {
   "metadata": {
    "ExecuteTime": {
     "end_time": "2025-05-13T00:17:44.303812Z",
     "start_time": "2025-05-13T00:17:44.287276Z"
    }
   },
   "cell_type": "code",
   "source": "torch.save(structured_model.state_dict(), \"../models/\" + \"structured_model\" + \".pt\")",
   "id": "6fe7b3d039fe20f6",
   "outputs": [],
   "execution_count": 55
  }
 ],
 "metadata": {
  "kernelspec": {
   "display_name": "Python 3",
   "language": "python",
   "name": "python3"
  },
  "language_info": {
   "codemirror_mode": {
    "name": "ipython",
    "version": 2
   },
   "file_extension": ".py",
   "mimetype": "text/x-python",
   "name": "python",
   "nbconvert_exporter": "python",
   "pygments_lexer": "ipython2",
   "version": "2.7.6"
  }
 },
 "nbformat": 4,
 "nbformat_minor": 5
}
