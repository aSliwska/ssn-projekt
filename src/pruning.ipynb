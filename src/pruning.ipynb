{
 "cells": [
  {
   "cell_type": "code",
   "id": "initial_id",
   "metadata": {
    "collapsed": true,
    "ExecuteTime": {
     "end_time": "2025-06-23T18:08:59.344495Z",
     "start_time": "2025-06-23T18:08:59.340264Z"
    }
   },
   "source": [
    "import copy\n",
    "\n",
    "import matplotlib.pyplot as plt\n",
    "import torch\n",
    "from torch.utils.data import DataLoader, random_split\n",
    "import torchvision\n",
    "import torch.nn as nn\n",
    "from fvcore.nn import FlopCountAnalysis\n",
    "from torchvision.transforms import v2\n",
    "import torch.nn.utils.prune as prune\n",
    "import onnx\n"
   ],
   "outputs": [],
   "execution_count": 79
  },
  {
   "metadata": {
    "ExecuteTime": {
     "end_time": "2025-06-23T18:09:01.336116Z",
     "start_time": "2025-06-23T18:09:01.332083Z"
    }
   },
   "cell_type": "code",
   "source": "print(torch.cuda.is_available())",
   "id": "e0859d293dcf910d",
   "outputs": [
    {
     "name": "stdout",
     "output_type": "stream",
     "text": [
      "True\n"
     ]
    }
   ],
   "execution_count": 80
  },
  {
   "metadata": {
    "ExecuteTime": {
     "end_time": "2025-06-23T19:53:06.995170Z",
     "start_time": "2025-06-23T19:53:06.988165Z"
    }
   },
   "cell_type": "code",
   "source": [
    "# run variables\n",
    "\n",
    "seed = 42\n",
    "file_name = 'base_pruned'\n",
    "# file_name = 'student_self_taught'\n",
    "\n",
    "class BaseNN(nn.Module):\n",
    "    def __init__(self, conv1_out = 128, conv2_out = 64, conv3_out = 32, num_classes=10):\n",
    "        super(BaseNN, self).__init__()\n",
    "\n",
    "        ### teacher\n",
    "        self.features = nn.Sequential(\n",
    "            nn.Conv2d(3, conv1_out, kernel_size=3, padding=1),\n",
    "            nn.ReLU(),\n",
    "            nn.Conv2d(conv1_out, conv2_out, kernel_size=3, padding=1),\n",
    "            nn.ReLU(),\n",
    "            nn.MaxPool2d(kernel_size=2, stride=2),\n",
    "            nn.Conv2d(conv2_out, conv2_out, kernel_size=3, padding=1),\n",
    "            nn.ReLU(),\n",
    "            nn.Conv2d(conv2_out, conv3_out, kernel_size=3, padding=1),\n",
    "            nn.ReLU(),\n",
    "            nn.MaxPool2d(kernel_size=2, stride=2),\n",
    "        )\n",
    "        self.classifier = nn.Sequential(\n",
    "            nn.Linear(conv3_out * 8 * 8, 512),\n",
    "            nn.ReLU(),\n",
    "            nn.Dropout(0.1),\n",
    "            nn.Linear(512, num_classes)\n",
    "        )\n",
    "\n",
    "    def forward(self, x):\n",
    "        x = self.features(x)\n",
    "        x = torch.flatten(x, 1)\n",
    "        x = self.classifier(x)\n",
    "        return x"
   ],
   "id": "d4fcbd8c27e5803d",
   "outputs": [],
   "execution_count": 131
  },
  {
   "metadata": {
    "ExecuteTime": {
     "end_time": "2025-06-23T18:09:12.126825Z",
     "start_time": "2025-06-23T18:09:12.121313Z"
    }
   },
   "cell_type": "code",
   "source": [
    "# device settings\n",
    "\n",
    "num_workers = 2\n",
    "\n",
    "print(torch.cuda.get_device_name(torch.cuda.current_device()))\n",
    "\n",
    "#device = torch.accelerator.current_accelerator().type if torch.accelerator.is_available() else \"cpu\"\n",
    "\n",
    "device = \"cuda\" if torch.cuda.is_available() else \"cpu\"\n",
    "\n",
    "print(f\"Using {device} device\")"
   ],
   "id": "d38b3b647c6fcab6",
   "outputs": [
    {
     "name": "stdout",
     "output_type": "stream",
     "text": [
      "NVIDIA GeForce RTX 2060\n",
      "Using cuda device\n"
     ]
    }
   ],
   "execution_count": 82
  },
  {
   "metadata": {
    "ExecuteTime": {
     "end_time": "2025-06-23T18:09:16.118821Z",
     "start_time": "2025-06-23T18:09:14.591905Z"
    }
   },
   "cell_type": "code",
   "source": [
    "# define datasets and loaders\n",
    "\n",
    "transform = v2.Compose([\n",
    "    v2.ToImage(),\n",
    "    v2.ToDtype(torch.float32, scale=True),\n",
    "    v2.Normalize(mean=[0.485, 0.456, 0.406], std=[0.229, 0.224, 0.225]),\n",
    "])\n",
    "\n",
    "train_dataset = torchvision.datasets.CIFAR10(\"./../data\", train=True, transform=transform, download=True)\n",
    "test_dataset = torchvision.datasets.CIFAR10(\"./../data\", train=False, transform=transform, download=True)\n",
    "\n",
    "train_dataset, validation_dataset =  random_split(train_dataset, [0.8, 0.2])\n",
    "\n",
    "print('train set size:', len(train_dataset))\n",
    "print('validation set size:', len(validation_dataset))\n",
    "print('test set size:', len(test_dataset))\n",
    "\n",
    "train_loader = DataLoader(train_dataset, batch_size=64, shuffle=True, num_workers=num_workers)\n",
    "validation_loader = DataLoader(validation_dataset, batch_size=64, shuffle=True, num_workers=num_workers)\n",
    "test_loader = DataLoader(test_dataset, batch_size=64, shuffle=False, num_workers=num_workers)\n",
    "\n",
    "class_names = [\"airplane\", \"automobile\", \"bird\", \"cat\", \"deer\", \"dog\", \"frog\", \"horse\", \"ship\", \"truck\"]"
   ],
   "id": "24253639fd75c073",
   "outputs": [
    {
     "name": "stdout",
     "output_type": "stream",
     "text": [
      "Files already downloaded and verified\n",
      "Files already downloaded and verified\n",
      "train set size: 40000\n",
      "validation set size: 10000\n",
      "test set size: 10000\n"
     ]
    }
   ],
   "execution_count": 83
  },
  {
   "metadata": {
    "ExecuteTime": {
     "end_time": "2025-06-23T18:09:18.418049Z",
     "start_time": "2025-06-23T18:09:18.412035Z"
    }
   },
   "cell_type": "code",
   "source": [
    "def train(model, epochs, learning_rate):\n",
    "    trainingEpoch_loss = []\n",
    "    validationEpoch_loss = []\n",
    "    criterion = nn.CrossEntropyLoss()\n",
    "    optimizer = torch.optim.Adam(model.parameters(), lr=learning_rate)\n",
    "\n",
    "    for epoch in range(epochs):\n",
    "        # training\n",
    "        model.train()\n",
    "        running_loss = 0.0\n",
    "        for inputs, labels in train_loader:\n",
    "            inputs, labels = inputs.to(device), labels.to(device)\n",
    "\n",
    "            optimizer.zero_grad()\n",
    "            outputs = model(inputs)\n",
    "            loss = criterion(outputs, labels)\n",
    "            loss.backward()\n",
    "            optimizer.step()\n",
    "\n",
    "            running_loss += loss.item()\n",
    "\n",
    "        print(f\"Epoch {epoch+1}/{epochs}, Loss: {running_loss / len(train_loader)}\")\n",
    "        trainingEpoch_loss.append(running_loss / len(train_loader))\n",
    "\n",
    "        # validation\n",
    "        model.eval()\n",
    "        validation_loss = 0.0\n",
    "        for inputs, labels in validation_loader:\n",
    "            inputs, labels = inputs.to(device), labels.to(device)\n",
    "\n",
    "            outputs = model(inputs)\n",
    "            loss = criterion(outputs, labels)\n",
    "\n",
    "            validation_loss += loss.item()\n",
    "\n",
    "        validationEpoch_loss.append(validation_loss / len(validation_loader))\n",
    "\n",
    "    return trainingEpoch_loss, validationEpoch_loss"
   ],
   "id": "e01509899c40d22e",
   "outputs": [],
   "execution_count": 84
  },
  {
   "metadata": {
    "ExecuteTime": {
     "end_time": "2025-06-23T18:09:28.354991Z",
     "start_time": "2025-06-23T18:09:28.349648Z"
    }
   },
   "cell_type": "code",
   "source": [
    "\n",
    "def test(model):\n",
    "    model.eval()\n",
    "\n",
    "    correct = 0\n",
    "    total = 0\n",
    "\n",
    "    with torch.no_grad():\n",
    "        for inputs, labels in test_loader:\n",
    "            inputs, labels = inputs.to(device), labels.to(device)\n",
    "\n",
    "            outputs = model(inputs)\n",
    "            _, predicted = torch.max(outputs.data, 1)\n",
    "\n",
    "            total += labels.size(0)\n",
    "            correct += (predicted == labels).sum().item()\n",
    "\n",
    "    accuracy = 100 * correct / total\n",
    "    print(f\"Test Accuracy: {accuracy:.2f}%\")\n",
    "    return accuracy\n"
   ],
   "id": "619077d019e61ed4",
   "outputs": [],
   "execution_count": 87
  },
  {
   "metadata": {
    "ExecuteTime": {
     "end_time": "2025-06-23T18:09:25.397246Z",
     "start_time": "2025-06-23T18:09:25.377318Z"
    }
   },
   "cell_type": "code",
   "source": [
    "torch.manual_seed(seed)\n",
    "model_base = BaseNN(num_classes=10).to(device)\n"
   ],
   "id": "e4e3053f7ed533b",
   "outputs": [],
   "execution_count": 86
  },
  {
   "metadata": {
    "ExecuteTime": {
     "end_time": "2025-06-23T18:14:53.837142Z",
     "start_time": "2025-06-23T18:09:32.892348Z"
    }
   },
   "cell_type": "code",
   "source": "trainingEpoch_loss, validationEpoch_loss = train(model_base, epochs=10, learning_rate=0.001)",
   "id": "246d587409692b18",
   "outputs": [
    {
     "name": "stdout",
     "output_type": "stream",
     "text": [
      "Epoch 1/10, Loss: 1.3680790350914\n",
      "Epoch 2/10, Loss: 0.9080827822685241\n",
      "Epoch 3/10, Loss: 0.7026727115631104\n",
      "Epoch 4/10, Loss: 0.5401674045801163\n",
      "Epoch 5/10, Loss: 0.4019766563415527\n",
      "Epoch 6/10, Loss: 0.28280955748558045\n",
      "Epoch 7/10, Loss: 0.2190617665708065\n",
      "Epoch 8/10, Loss: 0.1727651247471571\n",
      "Epoch 9/10, Loss: 0.15302276037931442\n",
      "Epoch 10/10, Loss: 0.12898654088824987\n"
     ]
    }
   ],
   "execution_count": 88
  },
  {
   "metadata": {
    "ExecuteTime": {
     "end_time": "2025-06-23T18:22:05.654697Z",
     "start_time": "2025-06-23T18:21:54.822331Z"
    }
   },
   "cell_type": "code",
   "source": "test(model_base)",
   "id": "278741bcf39770d2",
   "outputs": [
    {
     "name": "stdout",
     "output_type": "stream",
     "text": [
      "Test Accuracy: 72.11%\n"
     ]
    },
    {
     "data": {
      "text/plain": [
       "72.11"
      ]
     },
     "execution_count": 89,
     "metadata": {},
     "output_type": "execute_result"
    }
   ],
   "execution_count": 89
  },
  {
   "metadata": {
    "ExecuteTime": {
     "end_time": "2025-06-23T18:22:09.498294Z",
     "start_time": "2025-06-23T18:22:09.494438Z"
    }
   },
   "cell_type": "code",
   "source": [
    "def count_parameters(model):\n",
    "    total = sum(p.numel() for p in model.parameters())\n",
    "    trainable = sum(p.numel() for p in model.parameters() if p.requires_grad)\n",
    "    return total, trainable"
   ],
   "id": "4ca92656640e3a84",
   "outputs": [],
   "execution_count": 90
  },
  {
   "metadata": {
    "ExecuteTime": {
     "end_time": "2025-06-23T18:22:12.347730Z",
     "start_time": "2025-06-23T18:22:12.343612Z"
    }
   },
   "cell_type": "code",
   "source": [
    "total, trainable = count_parameters(model_base)\n",
    "\n",
    "print(f\"📦 Liczba wszystkich parametrów: {total}\")"
   ],
   "id": "923f9e0dad91478d",
   "outputs": [
    {
     "name": "stdout",
     "output_type": "stream",
     "text": [
      "📦 Liczba wszystkich parametrów: 1186986\n"
     ]
    }
   ],
   "execution_count": 91
  },
  {
   "metadata": {
    "ExecuteTime": {
     "end_time": "2025-06-23T18:22:18.311460Z",
     "start_time": "2025-06-23T18:22:18.197090Z"
    }
   },
   "cell_type": "code",
   "source": [
    "plt.plot(trainingEpoch_loss, label='train_loss')\n",
    "plt.plot(validationEpoch_loss,label='val_loss')\n",
    "plt.legend()\n",
    "plt.show()"
   ],
   "id": "247ceb18d9b692bb",
   "outputs": [
    {
     "data": {
      "text/plain": [
       "<Figure size 640x480 with 1 Axes>"
      ],
      "image/png": "[encoded data removed]"
     },
     "metadata": {},
     "output_type": "display_data"
    }
   ],
   "execution_count": 92
  },
  {
   "metadata": {
    "ExecuteTime": {
     "end_time": "2025-06-23T18:22:40.710738Z",
     "start_time": "2025-06-23T18:22:40.707227Z"
    }
   },
   "cell_type": "code",
   "source": [
    "# === Sparsity ===\n",
    "def calculate_sparsity(model):\n",
    "    zero, total = 0, 0\n",
    "    for p in model.parameters():\n",
    "        total += p.numel()\n",
    "        zero += (p == 0).sum().item()\n",
    "    return 100.0 * zero / total"
   ],
   "id": "6c82a287ac4193f7",
   "outputs": [],
   "execution_count": 94
  },
  {
   "metadata": {
    "ExecuteTime": {
     "end_time": "2025-06-23T18:23:04.636938Z",
     "start_time": "2025-06-23T18:23:04.397869Z"
    }
   },
   "cell_type": "code",
   "source": [
    "# === Unstructured pruning ===\n",
    "unstructured_model = copy.deepcopy(model_base)\n",
    "prune.l1_unstructured(unstructured_model.classifier[0], name='weight', amount=0.9)\n",
    "prune.l1_unstructured(unstructured_model.classifier[3], name='weight', amount=0.9)\n",
    "\n",
    "prune.l1_unstructured(unstructured_model.features[0], name='weight', amount=0.9)\n",
    "prune.l1_unstructured(unstructured_model.features[2], name='weight', amount=0.9)\n"
   ],
   "id": "cb8c02e41689d424",
   "outputs": [
    {
     "data": {
      "text/plain": [
       "Conv2d(128, 64, kernel_size=(3, 3), stride=(1, 1), padding=(1, 1))"
      ]
     },
     "execution_count": 95,
     "metadata": {},
     "output_type": "execute_result"
    }
   ],
   "execution_count": 95
  },
  {
   "metadata": {
    "ExecuteTime": {
     "end_time": "2025-06-23T18:26:58.190650Z",
     "start_time": "2025-06-23T18:23:23.130233Z"
    }
   },
   "cell_type": "code",
   "source": "trainingEpoch_loss, validationEpoch_loss = train(unstructured_model, epochs=7, learning_rate=0.0001)",
   "id": "fbca733fe5bf77e5",
   "outputs": [
    {
     "name": "stdout",
     "output_type": "stream",
     "text": [
      "Epoch 1/7, Loss: 1.6281987529754638\n",
      "Epoch 2/7, Loss: 0.8702598644256592\n",
      "Epoch 3/7, Loss: 0.681368865776062\n",
      "Epoch 4/7, Loss: 0.5888709562778472\n",
      "Epoch 5/7, Loss: 0.5315017437934876\n",
      "Epoch 6/7, Loss: 0.48798484754562377\n",
      "Epoch 7/7, Loss: 0.4521580106019974\n"
     ]
    }
   ],
   "execution_count": 96
  },
  {
   "metadata": {
    "ExecuteTime": {
     "end_time": "2025-06-23T18:27:14.623352Z",
     "start_time": "2025-06-23T18:27:03.689361Z"
    }
   },
   "cell_type": "code",
   "source": "test(unstructured_model)",
   "id": "14fc489d28dcbb5f",
   "outputs": [
    {
     "name": "stdout",
     "output_type": "stream",
     "text": [
      "Test Accuracy: 70.33%\n"
     ]
    },
    {
     "data": {
      "text/plain": [
       "70.33"
      ]
     },
     "execution_count": 97,
     "metadata": {},
     "output_type": "execute_result"
    }
   ],
   "execution_count": 97
  },
  {
   "metadata": {
    "ExecuteTime": {
     "end_time": "2025-06-23T18:27:17.674482Z",
     "start_time": "2025-06-23T18:27:17.556669Z"
    }
   },
   "cell_type": "code",
   "source": [
    "plt.plot(trainingEpoch_loss, label='train_loss')\n",
    "plt.plot(validationEpoch_loss,label='val_loss')\n",
    "plt.legend()\n",
    "plt.show()"
   ],
   "id": "e6317ab8a6932bb1",
   "outputs": [
    {
     "data": {
      "text/plain": [
       "<Figure size 640x480 with 1 Axes>"
      ],
      "image/png": "[encoded data removed]"
     },
     "metadata": {},
     "output_type": "display_data"
    }
   ],
   "execution_count": 98
  },
  {
   "metadata": {
    "ExecuteTime": {
     "end_time": "2025-06-23T18:27:32.026495Z",
     "start_time": "2025-06-23T18:27:32.022235Z"
    }
   },
   "cell_type": "code",
   "source": [
    "def count_nonzero_parameters(model):\n",
    "    total_nonzero = 0\n",
    "    for name, param in model.named_parameters():\n",
    "        if 'weight' in name:\n",
    "            total_nonzero += (param != 0).sum().item()\n",
    "    return total_nonzero"
   ],
   "id": "e122c301639763a2",
   "outputs": [],
   "execution_count": 99
  },
  {
   "metadata": {
    "ExecuteTime": {
     "end_time": "2025-06-23T18:27:34.065432Z",
     "start_time": "2025-06-23T18:27:34.061018Z"
    }
   },
   "cell_type": "code",
   "source": [
    "total, trainable = count_parameters(unstructured_model)\n",
    "\n",
    "print(f\"📦 Liczba wszystkich parametrów: {total}\")"
   ],
   "id": "98b326576e20cb5f",
   "outputs": [
    {
     "name": "stdout",
     "output_type": "stream",
     "text": [
      "📦 Liczba wszystkich parametrów: 1186986\n"
     ]
    }
   ],
   "execution_count": 100
  },
  {
   "metadata": {
    "ExecuteTime": {
     "end_time": "2025-06-23T18:27:51.202938Z",
     "start_time": "2025-06-23T18:27:51.176906Z"
    }
   },
   "cell_type": "code",
   "source": [
    "print(f\"Sparsity: {calculate_sparsity(unstructured_model):.2f}%\")\n",
    "\n",
    "# === Usuwanie masek pruningowych ===\n",
    "for module in [unstructured_model.classifier[0], unstructured_model.classifier[3], unstructured_model.features[0], unstructured_model.features[2]]:\n",
    "    prune.remove(module, 'weight')\n",
    "\n",
    "print(f\"Sparsity: {calculate_sparsity(unstructured_model):.2f}%\")"
   ],
   "id": "32aff0044a25192d",
   "outputs": [
    {
     "name": "stdout",
     "output_type": "stream",
     "text": [
      "Sparsity: 0.00%\n",
      "Sparsity: 85.75%\n"
     ]
    }
   ],
   "execution_count": 101
  },
  {
   "metadata": {
    "ExecuteTime": {
     "end_time": "2025-06-23T18:28:04.601607Z",
     "start_time": "2025-06-23T18:28:04.587969Z"
    }
   },
   "cell_type": "code",
   "source": [
    "zeros_weight_count = count_nonzero_parameters(unstructured_model)\n",
    "print(f\"📦 Liczba niezerowych parametrów: {zeros_weight_count}\")"
   ],
   "id": "5e14bf565e1eaa14",
   "outputs": [
    {
     "name": "stdout",
     "output_type": "stream",
     "text": [
      "📦 Liczba niezerowych parametrów: 168385\n"
     ]
    }
   ],
   "execution_count": 102
  },
  {
   "metadata": {
    "ExecuteTime": {
     "end_time": "2025-06-23T18:28:12.096595Z",
     "start_time": "2025-06-23T18:28:12.081960Z"
    }
   },
   "cell_type": "code",
   "source": "torch.save(unstructured_model.state_dict(), \"../models/\" + \"unstructured_model\" + \".pt\")",
   "id": "7b433cd772b62cc6",
   "outputs": [],
   "execution_count": 103
  },
  {
   "metadata": {
    "ExecuteTime": {
     "end_time": "2025-06-23T18:28:41.850037Z",
     "start_time": "2025-06-23T18:28:41.691880Z"
    }
   },
   "cell_type": "code",
   "source": [
    "dummy_input = torch.randn(1, 3, 32, 32, dtype=torch.float32).to(device)\n",
    "\n",
    "torch.onnx.export(model_base, dummy_input, \"model_base.onnx\",\n",
    "                  input_names=[\"input\"], output_names=[\"output\"], opset_version=11,\n",
    "                  dynamic_axes={\"input\": {0: \"batch_size\"}, \"output\": {0: \"batch_size\"}})\n",
    "\n",
    "torch.onnx.export(unstructured_model, dummy_input, \"model_sparse.onnx\",\n",
    "                  input_names=[\"input\"], output_names=[\"output\"], opset_version=11,\n",
    "                  dynamic_axes={\"input\": {0: \"batch_size\"}, \"output\": {0: \"batch_size\"}})"
   ],
   "id": "2add39df058eb9",
   "outputs": [],
   "execution_count": 105
  },
  {
   "metadata": {
    "ExecuteTime": {
     "end_time": "2025-06-23T18:28:45.290050Z",
     "start_time": "2025-06-23T18:28:45.285045Z"
    }
   },
   "cell_type": "code",
   "source": [
    "#from deepsparse import Engine\n",
    "import torchvision.transforms as transforms\n",
    "import torchvision.datasets as datasets\n",
    "from torch.utils.data import DataLoader\n",
    "import numpy as np\n",
    "import time"
   ],
   "id": "305bf037ba24b642",
   "outputs": [],
   "execution_count": 106
  },
  {
   "metadata": {},
   "cell_type": "code",
   "outputs": [],
   "execution_count": null,
   "source": [
    "transform = transforms.Compose([\n",
    "    transforms.ToTensor(),\n",
    "    transforms.Normalize(mean=[0.485, 0.456, 0.406], std=[0.229, 0.224, 0.225]),\n",
    "])\n",
    "\n",
    "test_dataset = datasets.CIFAR10(root='./../data', train=False, transform=transform, download=True)\n",
    "test_loader = DataLoader(test_dataset, batch_size=1, shuffle=False)\n",
    "\n",
    "engine_base = Engine(\"model_base.onnx\")\n",
    "engine_sparse = Engine(\"model_sparse.onnx\")\n",
    "\n",
    "def run_inference(engine, dataloader, max_batches=1000):\n",
    "    engine_outputs = []\n",
    "    total_time = 0.0\n",
    "    for i, (inputs, labels) in enumerate(dataloader):\n",
    "        if i >= max_batches:\n",
    "            break\n",
    "        inputs_np = inputs.numpy()\n",
    "        start = time.time()\n",
    "        outputs = engine.run([inputs_np])\n",
    "        end = time.time()\n",
    "        total_time += (end - start)\n",
    "        engine_outputs.append(outputs[0])\n",
    "    avg_time = total_time / max_batches\n",
    "    return avg_time\n",
    "\n",
    "# Pomiar czasu inferencji\n",
    "base_time = run_inference(engine_base, test_loader)\n",
    "sparse_time = run_inference(engine_sparse, test_loader)\n",
    "\n",
    "print(f\"Average inference time per sample (base model): {base_time:.6f} s\")\n",
    "print(f\"Average inference time per sample (sparse model): {sparse_time:.6f} s\")"
   ],
   "id": "a4fdd8fbb9cefeb"
  },
  {
   "metadata": {
    "ExecuteTime": {
     "end_time": "2025-06-23T18:28:49.112032Z",
     "start_time": "2025-06-23T18:28:49.108030Z"
    }
   },
   "cell_type": "code",
   "source": [
    "import onnxruntime as ort\n",
    "import numpy as np\n",
    "import torch"
   ],
   "id": "aaf4d42c88bb1ebc",
   "outputs": [],
   "execution_count": 107
  },
  {
   "metadata": {
    "ExecuteTime": {
     "end_time": "2025-06-23T18:28:51.231415Z",
     "start_time": "2025-06-23T18:28:51.226970Z"
    }
   },
   "cell_type": "code",
   "source": [
    "def run_inference_onnx(sess, loader, max_samples=1000):\n",
    "    times = []\n",
    "    import time\n",
    "    for i, (images, labels) in enumerate(loader):\n",
    "        if i >= max_samples:\n",
    "            break\n",
    "        input_array = images.numpy()\n",
    "        input_name = sess.get_inputs()[0].name\n",
    "        start = time.time()\n",
    "        outputs = sess.run(None, {input_name: input_array})\n",
    "        end = time.time()\n",
    "        times.append(end - start)\n",
    "    avg_time = np.mean(times)\n",
    "    return avg_time"
   ],
   "id": "1c5f8568b583c80f",
   "outputs": [],
   "execution_count": 108
  },
  {
   "metadata": {
    "ExecuteTime": {
     "end_time": "2025-06-23T18:29:22.457908Z",
     "start_time": "2025-06-23T18:28:54.820709Z"
    }
   },
   "cell_type": "code",
   "source": [
    "sess_base = ort.InferenceSession(\"model_base.onnx\")\n",
    "sess_sparse = ort.InferenceSession(\"model_sparse.onnx\")\n",
    "\n",
    "avg_time_base = run_inference_onnx(sess_base, test_loader, max_samples=1000)\n",
    "avg_time_sparse = run_inference_onnx(sess_sparse, test_loader, max_samples=1000)\n",
    "\n",
    "print(f\"Base ONNX: {avg_time_base:.6f} s/sample\")\n",
    "print(f\"Sparse ONNX: {avg_time_sparse:.6f} s/sample\")"
   ],
   "id": "eaec47594bb22011",
   "outputs": [
    {
     "name": "stdout",
     "output_type": "stream",
     "text": [
      "Base ONNX: 0.027014 s/sample\n",
      "Sparse ONNX: 0.028614 s/sample\n"
     ]
    }
   ],
   "execution_count": 109
  },
  {
   "metadata": {
    "ExecuteTime": {
     "end_time": "2025-06-23T14:58:22.380962Z",
     "start_time": "2025-06-23T14:58:22.375959Z"
    }
   },
   "cell_type": "code",
   "source": [
    "# === Structured pruning - kanały Conv2d ===\n",
    "def get_pruned_channels(conv_layer, amount):\n",
    "    weight = conv_layer.weight.detach().cpu()\n",
    "    norms = weight.view(weight.size(0), -1).norm(p=2, dim=1)\n",
    "    num_prune = int(amount * weight.size(0))\n",
    "    keep_indices = torch.argsort(norms)[num_prune:]\n",
    "    return keep_indices.tolist()"
   ],
   "id": "d020b48ffb24edf8",
   "outputs": [],
   "execution_count": 24
  },
  {
   "metadata": {
    "ExecuteTime": {
     "end_time": "2025-06-23T20:00:50.354467Z",
     "start_time": "2025-06-23T20:00:50.331847Z"
    }
   },
   "cell_type": "code",
   "source": [
    "# Pruning 60% kanałów pierwszej i drugiej warstwy konwolucyjnej\n",
    "keep1 = get_pruned_channels(model_base.features[0], amount=0.9)\n",
    "keep2 = get_pruned_channels(model_base.features[2], amount=0.9)\n",
    "keep3 = get_pruned_channels(model_base.features[5], amount=0.9)\n",
    "structured_model = BaseNN(conv1_out=len(keep1), conv2_out= len(keep2), conv3_out=len(keep3)).to(device)"
   ],
   "id": "2f4c69f7c6c23016",
   "outputs": [],
   "execution_count": 147
  },
  {
   "metadata": {
    "ExecuteTime": {
     "end_time": "2025-06-23T20:00:53.280708Z",
     "start_time": "2025-06-23T20:00:53.266715Z"
    }
   },
   "cell_type": "code",
   "source": [
    "with torch.no_grad():\n",
    "    # Conv1\n",
    "    structured_model.features[0].weight.data = model_base.features[0].weight.data[keep1].clone()\n",
    "    structured_model.features[0].bias.data = model_base.features[0].bias.data[keep1].clone()\n",
    "\n",
    "    # Conv2 (wejście: keep1, wyjście: keep2)\n",
    "    structured_model.features[2].weight.data = model_base.features[2].weight.data[keep2][:, keep1, :, :].clone()\n",
    "    structured_model.features[2].bias.data = model_base.features[2].bias.data[keep2].clone()\n",
    "\n",
    "    # Conv3 (wejście: keep2, wyjście: keep3)\n",
    "    structured_model.features[5].weight.data = model_base.features[5].weight.data[keep3][:, keep2, :, :].clone()\n",
    "    structured_model.features[5].bias.data = model_base.features[5].bias.data[keep3].clone()\n",
    "\n",
    "    # Klasyfikator\n",
    "    structured_model.classifier[0].weight.data = model_base.classifier[0].weight.data[:, :len(keep3) * 8 * 8].clone()\n",
    "    structured_model.classifier[0].bias.data = model_base.classifier[0].bias.data.clone()"
   ],
   "id": "1a8dd446974dc2fe",
   "outputs": [],
   "execution_count": 148
  },
  {
   "metadata": {
    "ExecuteTime": {
     "end_time": "2025-06-23T20:05:53.657814Z",
     "start_time": "2025-06-23T20:00:55.914793Z"
    }
   },
   "cell_type": "code",
   "source": "trainingEpoch_loss, validationEpoch_loss = train(structured_model, epochs=7, learning_rate=0.001)",
   "id": "e07af6e15dea3e3c",
   "outputs": [
    {
     "name": "stdout",
     "output_type": "stream",
     "text": [
      "Epoch 1/10, Loss: 1.4890573726654053\n",
      "Epoch 2/10, Loss: 1.1344051064491272\n",
      "Epoch 3/10, Loss: 1.0152961684226989\n",
      "Epoch 4/10, Loss: 0.9364794162750244\n",
      "Epoch 5/10, Loss: 0.8668711552619934\n",
      "Epoch 6/10, Loss: 0.8001642560482025\n",
      "Epoch 7/10, Loss: 0.7486680005550385\n",
      "Epoch 8/10, Loss: 0.6968176655292511\n",
      "Epoch 9/10, Loss: 0.6465922172546387\n",
      "Epoch 10/10, Loss: 0.6050077926635742\n"
     ]
    }
   ],
   "execution_count": 149
  },
  {
   "metadata": {
    "ExecuteTime": {
     "end_time": "2025-06-23T20:07:37.093615Z",
     "start_time": "2025-06-23T20:07:27.166554Z"
    }
   },
   "cell_type": "code",
   "source": "test(structured_model)",
   "id": "e863e215591da35d",
   "outputs": [
    {
     "name": "stdout",
     "output_type": "stream",
     "text": [
      "Test Accuracy: 67.67%\n"
     ]
    },
    {
     "data": {
      "text/plain": [
       "67.67"
      ]
     },
     "execution_count": 150,
     "metadata": {},
     "output_type": "execute_result"
    }
   ],
   "execution_count": 150
  },
  {
   "metadata": {
    "ExecuteTime": {
     "end_time": "2025-06-23T20:07:39.381407Z",
     "start_time": "2025-06-23T20:07:39.287674Z"
    }
   },
   "cell_type": "code",
   "source": [
    "plt.plot(trainingEpoch_loss, label='train_loss')\n",
    "plt.plot(validationEpoch_loss,label='val_loss')\n",
    "plt.legend()\n",
    "plt.show()"
   ],
   "id": "9c60c8bd7d7cf95",
   "outputs": [
    {
     "data": {
      "text/plain": [
       "<Figure size 640x480 with 1 Axes>"
      ],
      "image/png": "[encoded data removed]"
     },
     "metadata": {},
     "output_type": "display_data"
    }
   ],
   "execution_count": 151
  },
  {
   "metadata": {
    "ExecuteTime": {
     "end_time": "2025-06-23T20:08:02.409543Z",
     "start_time": "2025-06-23T20:08:02.400036Z"
    }
   },
   "cell_type": "code",
   "source": "torch.save(structured_model.state_dict(), \"../models/\" + \"structured_model\" + \".pt\")",
   "id": "6fe7b3d039fe20f6",
   "outputs": [],
   "execution_count": 152
  },
  {
   "metadata": {
    "ExecuteTime": {
     "end_time": "2025-06-23T20:10:43.092022Z",
     "start_time": "2025-06-23T20:10:43.026026Z"
    }
   },
   "cell_type": "code",
   "source": [
    "# CIFAR-10: wejście 3x32x32\n",
    "dummy_input = torch.randn(1, 3, 32, 32).to(device)\n",
    "\n",
    "# 2️⃣ Policz FLOPs per sample\n",
    "flops_per_sample = FlopCountAnalysis(model_base, dummy_input).total()\n",
    "print(f\"GFLOPs per sample for base model: {flops_per_sample/10**6:.2f}\")\n",
    "\n",
    "flops_per_sample = FlopCountAnalysis(unstructured_model, dummy_input).total()\n",
    "print(f\"GFLOPs per sample for unstructured model: {flops_per_sample/10**6:.2f}\")\n",
    "\n",
    "flops_per_sample = FlopCountAnalysis(structured_model, dummy_input).total()\n",
    "print(f\"GFLOPs per sample for structured model: {flops_per_sample/10**6:.2f}\")"
   ],
   "id": "756dda89ae664ad7",
   "outputs": [
    {
     "name": "stderr",
     "output_type": "stream",
     "text": [
      "Unsupported operator aten::max_pool2d encountered 2 time(s)\n",
      "Unsupported operator aten::max_pool2d encountered 2 time(s)\n",
      "Unsupported operator aten::max_pool2d encountered 2 time(s)\n"
     ]
    },
    {
     "name": "stdout",
     "output_type": "stream",
     "text": [
      "GFLOPs per sample for base model: 94.25\n",
      "GFLOPs per sample for unstructured model: 94.25\n",
      "GFLOPs per sample for structured model: 1.66\n"
     ]
    }
   ],
   "execution_count": 153
  },
  {
   "metadata": {
    "ExecuteTime": {
     "end_time": "2025-06-23T20:12:34.912585Z",
     "start_time": "2025-06-23T20:11:50.182996Z"
    }
   },
   "cell_type": "code",
   "source": [
    "import torch\n",
    "import time\n",
    "from codecarbon import EmissionsTracker\n",
    "\n",
    "def measure_model(model, test_loader, device, num_samples=100):\n",
    "    model.eval()\n",
    "    model.to(device)\n",
    "\n",
    "    tracker = EmissionsTracker()\n",
    "    tracker.start()\n",
    "\n",
    "    inference_times = []\n",
    "    with torch.no_grad():\n",
    "        for i, (images, labels) in enumerate(test_loader):\n",
    "            if i >= num_samples:\n",
    "                break\n",
    "            images = images.to(device)\n",
    "\n",
    "            start = time.time()\n",
    "            outputs = model(images)\n",
    "            end = time.time()\n",
    "\n",
    "            inference_times.append(end - start)\n",
    "\n",
    "    emissions = tracker.stop()\n",
    "    avg_latency = sum(inference_times) / len(inference_times)\n",
    "    return avg_latency, emissions\n",
    "\n",
    "\n",
    "# Pomiar dla trzech wersji modelu\n",
    "\n",
    "device = \"cuda\" if torch.cuda.is_available() else \"cpu\"\n",
    "\n",
    "base_model = BaseNN(num_classes=10).to(device)\n",
    "base_model.load_state_dict(torch.load(\"../models/\" + \"base.pt\"))\n",
    "\n",
    "unstructured_model = BaseNN(num_classes=10).to(device)\n",
    "unstructured_model.load_state_dict(torch.load(\"../models/\" + \"unstructured_model.pt\"))\n",
    "\n",
    "structured_model = BaseNN(num_classes=10, conv1_out = len(keep1), conv2_out = len(keep2), conv3_out=len(keep3)).to(device)\n",
    "structured_model.load_state_dict(torch.load(\"../models/\" + \"structured_model.pt\"))\n",
    "\n",
    "avg_latency_base, emissions_base = measure_model(base_model, test_loader, device)\n",
    "avg_latency_unstruct, emissions_unstruct = measure_model(unstructured_model, test_loader, device)\n",
    "avg_latency_struct, emissions_struct = measure_model(structured_model, test_loader, device)\n",
    "\n",
    "# --------------------------------------------------\n",
    "# Wyniki\n",
    "\n",
    "print(\"\\n=== Wyniki pomiarów ===\")\n",
    "print(f\"Base Model       -> Latency: {avg_latency_base:.6f}s/{test_loader.batch_size}, Emisje CO₂: {emissions_base:.8f} kg\")\n",
    "print(f\"Unstructured Pr. -> Latency: {avg_latency_unstruct:.6f}s/{test_loader.batch_size}, Emisje CO₂: {emissions_unstruct:.8f} kg\")\n",
    "print(f\"Structured Pr.   -> Latency: {avg_latency_struct:.6f}s/{test_loader.batch_size}, Emisje CO₂: {emissions_struct:.8f} kg\")\n"
   ],
   "id": "77ef54087cee208f",
   "outputs": [
    {
     "name": "stderr",
     "output_type": "stream",
     "text": [
      "C:\\Users\\Adam\\AppData\\Local\\Temp\\ipykernel_6824\\948222283.py:36: FutureWarning: You are using `torch.load` with `weights_only=False` (the current default value), which uses the default pickle module implicitly. It is possible to construct malicious pickle data which will execute arbitrary code during unpickling (See https://github.com/pytorch/pytorch/blob/main/SECURITY.md#untrusted-models for more details). In a future release, the default value for `weights_only` will be flipped to `True`. This limits the functions that could be executed during unpickling. Arbitrary objects will no longer be allowed to be loaded via this mode unless they are explicitly allowlisted by the user via `torch.serialization.add_safe_globals`. We recommend you start setting `weights_only=True` for any use case where you don't have full control of the loaded file. Please open an issue on GitHub for any issues related to this experimental feature.\n",
      "  base_model.load_state_dict(torch.load(\"../models/\" + \"base.pt\"))\n",
      "C:\\Users\\Adam\\AppData\\Local\\Temp\\ipykernel_6824\\948222283.py:39: FutureWarning: You are using `torch.load` with `weights_only=False` (the current default value), which uses the default pickle module implicitly. It is possible to construct malicious pickle data which will execute arbitrary code during unpickling (See https://github.com/pytorch/pytorch/blob/main/SECURITY.md#untrusted-models for more details). In a future release, the default value for `weights_only` will be flipped to `True`. This limits the functions that could be executed during unpickling. Arbitrary objects will no longer be allowed to be loaded via this mode unless they are explicitly allowlisted by the user via `torch.serialization.add_safe_globals`. We recommend you start setting `weights_only=True` for any use case where you don't have full control of the loaded file. Please open an issue on GitHub for any issues related to this experimental feature.\n",
      "  unstructured_model.load_state_dict(torch.load(\"../models/\" + \"unstructured_model.pt\"))\n",
      "C:\\Users\\Adam\\AppData\\Local\\Temp\\ipykernel_6824\\948222283.py:42: FutureWarning: You are using `torch.load` with `weights_only=False` (the current default value), which uses the default pickle module implicitly. It is possible to construct malicious pickle data which will execute arbitrary code during unpickling (See https://github.com/pytorch/pytorch/blob/main/SECURITY.md#untrusted-models for more details). In a future release, the default value for `weights_only` will be flipped to `True`. This limits the functions that could be executed during unpickling. Arbitrary objects will no longer be allowed to be loaded via this mode unless they are explicitly allowlisted by the user via `torch.serialization.add_safe_globals`. We recommend you start setting `weights_only=True` for any use case where you don't have full control of the loaded file. Please open an issue on GitHub for any issues related to this experimental feature.\n",
      "  structured_model.load_state_dict(torch.load(\"../models/\" + \"structured_model.pt\"))\n",
      "[codecarbon WARNING @ 22:11:50] Multiple instances of codecarbon are allowed to run at the same time.\n",
      "[codecarbon INFO @ 22:11:50] [setup] RAM Tracking...\n",
      "[codecarbon INFO @ 22:11:50] [setup] CPU Tracking...\n",
      "[codecarbon WARNING @ 22:11:51] No CPU tracking mode found. Falling back on estimation based on TDP for CPU. \n",
      " Windows OS detected: Please install Intel Power Gadget to measure CPU\n",
      "\n",
      "[codecarbon INFO @ 22:11:51] CPU Model on constant consumption mode: AMD Ryzen 7 4800H with Radeon Graphics\n",
      "[codecarbon WARNING @ 22:11:51] No CPU tracking mode found. Falling back on CPU constant mode.\n",
      "[codecarbon INFO @ 22:11:51] [setup] GPU Tracking...\n",
      "[codecarbon INFO @ 22:11:51] Tracking Nvidia GPU via pynvml\n",
      "[codecarbon INFO @ 22:11:51] The below tracking methods have been set up:\n",
      "                RAM Tracking Method: RAM power estimation model\n",
      "                CPU Tracking Method: global constant\n",
      "                GPU Tracking Method: pynvml\n",
      "            \n",
      "[codecarbon INFO @ 22:11:51] >>> Tracker's metadata:\n",
      "[codecarbon INFO @ 22:11:51]   Platform system: Windows-11-10.0.26100-SP0\n",
      "[codecarbon INFO @ 22:11:51]   Python version: 3.12.9\n",
      "[codecarbon INFO @ 22:11:51]   CodeCarbon version: 3.0.2\n",
      "[codecarbon INFO @ 22:11:51]   Available RAM : 31.872 GB\n",
      "[codecarbon INFO @ 22:11:51]   CPU count: 16 thread(s) in 16 physical CPU(s)\n",
      "[codecarbon INFO @ 22:11:51]   CPU model: AMD Ryzen 7 4800H with Radeon Graphics\n",
      "[codecarbon INFO @ 22:11:51]   GPU count: 1\n",
      "[codecarbon INFO @ 22:11:52]   GPU model: 1 x NVIDIA GeForce RTX 2060\n",
      "[codecarbon INFO @ 22:11:55] Emissions data (if any) will be saved to file C:\\Users\\Adam\\PycharmProjects\\ssn-projekt\\src\\emissions.csv\n",
      "[codecarbon INFO @ 22:12:05] Energy consumed for RAM : 0.000055 kWh. RAM Power : 20.0 W\n",
      "[codecarbon INFO @ 22:12:05] Delta energy consumed for CPU with constant : 0.000996 kWh, power : 360.0 W\n",
      "[codecarbon INFO @ 22:12:05] Energy consumed for All CPU : 0.000996 kWh\n",
      "[codecarbon INFO @ 22:12:05] Energy consumed for all GPUs : 0.000028 kWh. Total GPU Power : 9.990026609718948 W\n",
      "[codecarbon INFO @ 22:12:05] 0.001079 kWh of electricity used since the beginning.\n",
      "[codecarbon WARNING @ 22:12:05] Multiple instances of codecarbon are allowed to run at the same time.\n",
      "[codecarbon INFO @ 22:12:05] [setup] RAM Tracking...\n",
      "[codecarbon INFO @ 22:12:05] [setup] CPU Tracking...\n",
      "[codecarbon WARNING @ 22:12:06] No CPU tracking mode found. Falling back on estimation based on TDP for CPU. \n",
      " Windows OS detected: Please install Intel Power Gadget to measure CPU\n",
      "\n",
      "[codecarbon INFO @ 22:12:06] CPU Model on constant consumption mode: AMD Ryzen 7 4800H with Radeon Graphics\n",
      "[codecarbon WARNING @ 22:12:06] No CPU tracking mode found. Falling back on CPU constant mode.\n",
      "[codecarbon INFO @ 22:12:06] [setup] GPU Tracking...\n",
      "[codecarbon INFO @ 22:12:06] Tracking Nvidia GPU via pynvml\n",
      "[codecarbon INFO @ 22:12:06] The below tracking methods have been set up:\n",
      "                RAM Tracking Method: RAM power estimation model\n",
      "                CPU Tracking Method: global constant\n",
      "                GPU Tracking Method: pynvml\n",
      "            \n",
      "[codecarbon INFO @ 22:12:06] >>> Tracker's metadata:\n",
      "[codecarbon INFO @ 22:12:06]   Platform system: Windows-11-10.0.26100-SP0\n",
      "[codecarbon INFO @ 22:12:06]   Python version: 3.12.9\n",
      "[codecarbon INFO @ 22:12:06]   CodeCarbon version: 3.0.2\n",
      "[codecarbon INFO @ 22:12:06]   Available RAM : 31.872 GB\n",
      "[codecarbon INFO @ 22:12:06]   CPU count: 16 thread(s) in 16 physical CPU(s)\n",
      "[codecarbon INFO @ 22:12:06]   CPU model: AMD Ryzen 7 4800H with Radeon Graphics\n",
      "[codecarbon INFO @ 22:12:06]   GPU count: 1\n",
      "[codecarbon INFO @ 22:12:06]   GPU model: 1 x NVIDIA GeForce RTX 2060\n",
      "[codecarbon INFO @ 22:12:10] Emissions data (if any) will be saved to file C:\\Users\\Adam\\PycharmProjects\\ssn-projekt\\src\\emissions.csv\n",
      "[codecarbon INFO @ 22:12:20] Energy consumed for RAM : 0.000056 kWh. RAM Power : 20.0 W\n",
      "[codecarbon INFO @ 22:12:20] Delta energy consumed for CPU with constant : 0.001004 kWh, power : 360.0 W\n",
      "[codecarbon INFO @ 22:12:20] Energy consumed for All CPU : 0.001004 kWh\n",
      "[codecarbon INFO @ 22:12:20] Energy consumed for all GPUs : 0.000025 kWh. Total GPU Power : 8.987980892728878 W\n",
      "[codecarbon INFO @ 22:12:20] 0.001085 kWh of electricity used since the beginning.\n",
      "[codecarbon WARNING @ 22:12:20] Multiple instances of codecarbon are allowed to run at the same time.\n",
      "[codecarbon INFO @ 22:12:20] [setup] RAM Tracking...\n",
      "[codecarbon INFO @ 22:12:20] [setup] CPU Tracking...\n",
      "[codecarbon WARNING @ 22:12:22] No CPU tracking mode found. Falling back on estimation based on TDP for CPU. \n",
      " Windows OS detected: Please install Intel Power Gadget to measure CPU\n",
      "\n",
      "[codecarbon INFO @ 22:12:22] CPU Model on constant consumption mode: AMD Ryzen 7 4800H with Radeon Graphics\n",
      "[codecarbon WARNING @ 22:12:22] No CPU tracking mode found. Falling back on CPU constant mode.\n",
      "[codecarbon INFO @ 22:12:22] [setup] GPU Tracking...\n",
      "[codecarbon INFO @ 22:12:22] Tracking Nvidia GPU via pynvml\n",
      "[codecarbon INFO @ 22:12:22] The below tracking methods have been set up:\n",
      "                RAM Tracking Method: RAM power estimation model\n",
      "                CPU Tracking Method: global constant\n",
      "                GPU Tracking Method: pynvml\n",
      "            \n",
      "[codecarbon INFO @ 22:12:22] >>> Tracker's metadata:\n",
      "[codecarbon INFO @ 22:12:22]   Platform system: Windows-11-10.0.26100-SP0\n",
      "[codecarbon INFO @ 22:12:22]   Python version: 3.12.9\n",
      "[codecarbon INFO @ 22:12:22]   CodeCarbon version: 3.0.2\n",
      "[codecarbon INFO @ 22:12:22]   Available RAM : 31.872 GB\n",
      "[codecarbon INFO @ 22:12:22]   CPU count: 16 thread(s) in 16 physical CPU(s)\n",
      "[codecarbon INFO @ 22:12:22]   CPU model: AMD Ryzen 7 4800H with Radeon Graphics\n",
      "[codecarbon INFO @ 22:12:22]   GPU count: 1\n",
      "[codecarbon INFO @ 22:12:22]   GPU model: 1 x NVIDIA GeForce RTX 2060\n",
      "[codecarbon INFO @ 22:12:25] Emissions data (if any) will be saved to file C:\\Users\\Adam\\PycharmProjects\\ssn-projekt\\src\\emissions.csv\n",
      "[codecarbon INFO @ 22:12:34] Energy consumed for RAM : 0.000052 kWh. RAM Power : 20.0 W\n",
      "[codecarbon INFO @ 22:12:34] Delta energy consumed for CPU with constant : 0.000945 kWh, power : 360.0 W\n",
      "[codecarbon INFO @ 22:12:34] Energy consumed for All CPU : 0.000945 kWh\n",
      "[codecarbon INFO @ 22:12:34] Energy consumed for all GPUs : 0.000020 kWh. Total GPU Power : 7.52571209613482 W\n",
      "[codecarbon INFO @ 22:12:34] 0.001017 kWh of electricity used since the beginning.\n"
     ]
    },
    {
     "name": "stdout",
     "output_type": "stream",
     "text": [
      "\n",
      "=== Wyniki pomiarów ===\n",
      "Base Model       -> Latency: 0.001377s/64, Emisje CO₂: 0.00071395 kg\n",
      "Unstructured Pr. -> Latency: 0.001367s/64, Emisje CO₂: 0.00071802 kg\n",
      "Structured Pr.   -> Latency: 0.001302s/64, Emisje CO₂: 0.00067336 kg\n"
     ]
    }
   ],
   "execution_count": 155
  },
  {
   "metadata": {
    "ExecuteTime": {
     "end_time": "2025-06-23T20:20:59.284387Z",
     "start_time": "2025-06-23T20:20:59.277144Z"
    }
   },
   "cell_type": "code",
   "source": [
    "import os\n",
    "\n",
    "size_MB_base = os.path.getsize(\"../models/base.pt\") / (1024 * 1024)\n",
    "size_MB_unstructured = os.path.getsize(\"../models/unstructured_model.pt\") / (1024 * 1024)\n",
    "size_MB_structured = os.path.getsize(\"../models/structured_model.pt\") / (1024 * 1024)\n",
    "print(f\"Base model size: {size_MB_base:.2f} MB\")\n",
    "print(f\"Unstructured model size: {size_MB_unstructured:.2f} MB\")\n",
    "print(f\"Structured model size: {size_MB_structured:.2f} MB\")"
   ],
   "id": "62cf7a69e84af2ed",
   "outputs": [
    {
     "name": "stdout",
     "output_type": "stream",
     "text": [
      "Base model size: 4.53 MB\n",
      "Unstructured model size: 4.53 MB\n",
      "Structured model size: 0.91 MB\n"
     ]
    }
   ],
   "execution_count": 156
  }
 ],
 "metadata": {
  "kernelspec": {
   "display_name": "Python 3",
   "language": "python",
   "name": "python3"
  },
  "language_info": {
   "codemirror_mode": {
    "name": "ipython",
    "version": 2
   },
   "file_extension": ".py",
   "mimetype": "text/x-python",
   "name": "python",
   "nbconvert_exporter": "python",
   "pygments_lexer": "ipython2",
   "version": "2.7.6"
  }
 },
 "nbformat": 4,
 "nbformat_minor": 5
}
