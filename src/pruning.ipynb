{
 "cells": [
  {
   "cell_type": "code",
   "id": "initial_id",
   "metadata": {
    "collapsed": true,
    "ExecuteTime": {
     "end_time": "2025-05-11T23:06:30.829216Z",
     "start_time": "2025-05-11T23:06:30.821389Z"
    }
   },
   "source": [
    "import matplotlib.pyplot as plt\n",
    "import torch\n",
    "from torch.utils.data import DataLoader, random_split\n",
    "import torchvision\n",
    "import torch.nn as nn\n",
    "from torchvision.transforms import v2\n",
    "import multiprocessing\n",
    "import torch.nn.utils.prune as prune\n",
    "import torch.nn.functional as F\n"
   ],
   "outputs": [],
   "execution_count": 11
  },
  {
   "metadata": {
    "ExecuteTime": {
     "end_time": "2025-05-11T23:16:26.854471Z",
     "start_time": "2025-05-11T23:16:26.849257Z"
    }
   },
   "cell_type": "code",
   "source": "print(torch.cuda.is_available())",
   "id": "e0859d293dcf910d",
   "outputs": [
    {
     "name": "stdout",
     "output_type": "stream",
     "text": [
      "True\n"
     ]
    }
   ],
   "execution_count": 18
  },
  {
   "metadata": {
    "ExecuteTime": {
     "end_time": "2025-05-11T22:49:19.304755Z",
     "start_time": "2025-05-11T22:49:19.297588Z"
    }
   },
   "cell_type": "code",
   "source": [
    "# run variables\n",
    "\n",
    "seed = 42\n",
    "file_name = 'base_pruned'\n",
    "# file_name = 'student_self_taught'\n",
    "\n",
    "class BaseNN(nn.Module):\n",
    "    def __init__(self, num_classes=10):\n",
    "        super(BaseNN, self).__init__()\n",
    "\n",
    "        ### teacher\n",
    "        self.features = nn.Sequential(\n",
    "            nn.Conv2d(3, 128, kernel_size=3, padding=1),\n",
    "            nn.ReLU(),\n",
    "            nn.Conv2d(128, 64, kernel_size=3, padding=1),\n",
    "            nn.ReLU(),\n",
    "            nn.MaxPool2d(kernel_size=2, stride=2),\n",
    "            nn.Conv2d(64, 64, kernel_size=3, padding=1),\n",
    "            nn.ReLU(),\n",
    "            nn.Conv2d(64, 32, kernel_size=3, padding=1),\n",
    "            nn.ReLU(),\n",
    "            nn.MaxPool2d(kernel_size=2, stride=2),\n",
    "        )\n",
    "        self.classifier = nn.Sequential(\n",
    "            nn.Linear(2048, 512),\n",
    "            nn.ReLU(),\n",
    "            nn.Dropout(0.1),\n",
    "            nn.Linear(512, num_classes)\n",
    "        )\n",
    "\n",
    "        ### student\n",
    "        # self.features = nn.Sequential(\n",
    "        #     nn.Conv2d(3, 16, kernel_size=3, padding=1),\n",
    "        #     nn.ReLU(),\n",
    "        #     nn.MaxPool2d(kernel_size=2, stride=2),\n",
    "        #     nn.Conv2d(16, 16, kernel_size=3, padding=1),\n",
    "        #     nn.ReLU(),\n",
    "        #     nn.MaxPool2d(kernel_size=2, stride=2),\n",
    "        # )\n",
    "        # self.classifier = nn.Sequential(\n",
    "        #     nn.Linear(1024, 256),\n",
    "        #     nn.ReLU(),\n",
    "        #     nn.Dropout(0.1),\n",
    "        #     nn.Linear(256, num_classes)\n",
    "        # )\n",
    "\n",
    "    def forward(self, x):\n",
    "        x = self.features(x)\n",
    "        x = torch.flatten(x, 1)\n",
    "        x = self.classifier(x)\n",
    "        return x"
   ],
   "id": "d4fcbd8c27e5803d",
   "outputs": [],
   "execution_count": 3
  },
  {
   "metadata": {
    "ExecuteTime": {
     "end_time": "2025-05-11T22:49:45.371425Z",
     "start_time": "2025-05-11T22:49:45.359389Z"
    }
   },
   "cell_type": "code",
   "source": [
    "# device settings\n",
    "\n",
    "num_workers = 2\n",
    "\n",
    "print(torch.cuda.get_device_name(torch.cuda.current_device()))\n",
    "\n",
    "#device = torch.accelerator.current_accelerator().type if torch.accelerator.is_available() else \"cpu\"\n",
    "\n",
    "device = \"cuda\" if torch.cuda.is_available() else \"cpu\"\n",
    "\n",
    "print(f\"Using {device} device\")"
   ],
   "id": "d38b3b647c6fcab6",
   "outputs": [
    {
     "name": "stdout",
     "output_type": "stream",
     "text": [
      "NVIDIA GeForce RTX 2060\n",
      "Using cuda device\n"
     ]
    }
   ],
   "execution_count": 4
  },
  {
   "metadata": {
    "ExecuteTime": {
     "end_time": "2025-05-11T22:59:52.030497Z",
     "start_time": "2025-05-11T22:59:50.556439Z"
    }
   },
   "cell_type": "code",
   "source": [
    "# define datasets and loaders\n",
    "\n",
    "transform = v2.Compose([\n",
    "    v2.ToImage(),\n",
    "    v2.ToDtype(torch.float32, scale=True),\n",
    "    v2.Normalize(mean=[0.485, 0.456, 0.406], std=[0.229, 0.224, 0.225]),\n",
    "])\n",
    "\n",
    "train_dataset = torchvision.datasets.CIFAR10(\"./../data\", train=True, transform=transform, download=True)\n",
    "test_dataset = torchvision.datasets.CIFAR10(\"./../data\", train=False, transform=transform, download=True)\n",
    "\n",
    "train_dataset, validation_dataset =  random_split(train_dataset, [0.8, 0.2])\n",
    "\n",
    "print('train set size:', len(train_dataset))\n",
    "print('validation set size:', len(validation_dataset))\n",
    "print('test set size:', len(test_dataset))\n",
    "\n",
    "train_loader = DataLoader(train_dataset, batch_size=64, shuffle=True, num_workers=num_workers)\n",
    "validation_loader = DataLoader(validation_dataset, batch_size=128, shuffle=True, num_workers=num_workers)\n",
    "test_loader = DataLoader(test_dataset, batch_size=64, shuffle=False, num_workers=num_workers)\n",
    "\n",
    "class_names = [\"airplane\", \"automobile\", \"bird\", \"cat\", \"deer\", \"dog\", \"frog\", \"horse\", \"ship\", \"truck\"]"
   ],
   "id": "24253639fd75c073",
   "outputs": [
    {
     "name": "stdout",
     "output_type": "stream",
     "text": [
      "Files already downloaded and verified\n",
      "Files already downloaded and verified\n",
      "train set size: 40000\n",
      "validation set size: 10000\n",
      "test set size: 10000\n"
     ]
    }
   ],
   "execution_count": 5
  },
  {
   "metadata": {
    "ExecuteTime": {
     "end_time": "2025-05-11T23:00:04.589879Z",
     "start_time": "2025-05-11T23:00:04.582034Z"
    }
   },
   "cell_type": "code",
   "source": [
    "def train(model, epochs, learning_rate):\n",
    "    trainingEpoch_loss = []\n",
    "    validationEpoch_loss = []\n",
    "    criterion = nn.CrossEntropyLoss()\n",
    "    optimizer = torch.optim.Adam(model.parameters(), lr=learning_rate)\n",
    "\n",
    "    for epoch in range(epochs):\n",
    "        # training\n",
    "        model.train()\n",
    "        running_loss = 0.0\n",
    "        for inputs, labels in train_loader:\n",
    "            inputs, labels = inputs.to(device), labels.to(device)\n",
    "\n",
    "            optimizer.zero_grad()\n",
    "            outputs = model(inputs)\n",
    "            loss = criterion(outputs, labels)\n",
    "            loss.backward()\n",
    "            optimizer.step()\n",
    "\n",
    "            running_loss += loss.item()\n",
    "\n",
    "        print(f\"Epoch {epoch+1}/{epochs}, Loss: {running_loss / len(train_loader)}\")\n",
    "        trainingEpoch_loss.append(running_loss / len(train_loader))\n",
    "\n",
    "        # validation\n",
    "        model.eval()\n",
    "        validation_loss = 0.0\n",
    "        for inputs, labels in validation_loader:\n",
    "            inputs, labels = inputs.to(device), labels.to(device)\n",
    "\n",
    "            outputs = model(inputs)\n",
    "            loss = criterion(outputs, labels)\n",
    "\n",
    "            validation_loss += loss.item()\n",
    "\n",
    "        validationEpoch_loss.append(validation_loss / len(validation_loader))\n",
    "\n",
    "    return trainingEpoch_loss, validationEpoch_loss"
   ],
   "id": "e01509899c40d22e",
   "outputs": [],
   "execution_count": 6
  },
  {
   "metadata": {
    "ExecuteTime": {
     "end_time": "2025-05-11T23:00:21.494990Z",
     "start_time": "2025-05-11T23:00:21.489930Z"
    }
   },
   "cell_type": "code",
   "source": [
    "def test(model):\n",
    "    model.eval()\n",
    "\n",
    "    correct = 0\n",
    "    total = 0\n",
    "\n",
    "    with torch.no_grad():\n",
    "        for inputs, labels in test_loader:\n",
    "            inputs, labels = inputs.to(device), labels.to(device)\n",
    "\n",
    "            outputs = model(inputs)\n",
    "            _, predicted = torch.max(outputs.data, 1)\n",
    "\n",
    "            total += labels.size(0)\n",
    "            correct += (predicted == labels).sum().item()\n",
    "\n",
    "    accuracy = 100 * correct / total\n",
    "    print(f\"Test Accuracy: {accuracy:.2f}%\")\n",
    "    return accuracy"
   ],
   "id": "619077d019e61ed4",
   "outputs": [],
   "execution_count": 7
  },
  {
   "metadata": {
    "ExecuteTime": {
     "end_time": "2025-05-11T23:01:36.381547Z",
     "start_time": "2025-05-11T23:01:36.287364Z"
    }
   },
   "cell_type": "code",
   "source": [
    "torch.manual_seed(seed)\n",
    "model_base = BaseNN(num_classes=10).to(device)\n"
   ],
   "id": "e4e3053f7ed533b",
   "outputs": [],
   "execution_count": 9
  },
  {
   "metadata": {
    "ExecuteTime": {
     "end_time": "2025-05-11T23:06:30.741925Z",
     "start_time": "2025-05-11T23:01:40.624740Z"
    }
   },
   "cell_type": "code",
   "source": "trainingEpoch_loss, validationEpoch_loss = train(model_base, epochs=10, learning_rate=0.001)",
   "id": "246d587409692b18",
   "outputs": [
    {
     "name": "stdout",
     "output_type": "stream",
     "text": [
      "Epoch 1/10, Loss: 1.4040568173408507\n",
      "Epoch 2/10, Loss: 0.9313389938354493\n",
      "Epoch 4/10, Loss: 0.5812270737171173\n",
      "Epoch 5/10, Loss: 0.4447835987329483\n",
      "Epoch 6/10, Loss: 0.31887144092321396\n",
      "Epoch 3/10, Loss: 0.7309231795310974\n",
      "Epoch 7/10, Loss: 0.2456826867520809\n",
      "Epoch 8/10, Loss: 0.1893038306683302\n",
      "Epoch 9/10, Loss: 0.1533369359701872\n",
      "Epoch 10/10, Loss: 0.1299334236934781\n"
     ]
    }
   ],
   "execution_count": 10
  },
  {
   "metadata": {
    "ExecuteTime": {
     "end_time": "2025-05-11T23:14:21.831012Z",
     "start_time": "2025-05-11T23:14:11.086943Z"
    }
   },
   "cell_type": "code",
   "source": "test(model_base)",
   "id": "278741bcf39770d2",
   "outputs": [
    {
     "name": "stdout",
     "output_type": "stream",
     "text": [
      "Test Accuracy: 72.36%\n"
     ]
    },
    {
     "data": {
      "text/plain": [
       "72.36"
      ]
     },
     "execution_count": 15,
     "metadata": {},
     "output_type": "execute_result"
    }
   ],
   "execution_count": 15
  },
  {
   "metadata": {
    "ExecuteTime": {
     "end_time": "2025-05-11T23:25:22.562090Z",
     "start_time": "2025-05-11T23:25:22.467332Z"
    }
   },
   "cell_type": "code",
   "source": [
    "torch.manual_seed(seed)\n",
    "model_base = BaseNN(num_classes=10).to(device)\n",
    "to_prune = [\n",
    "    (model_base.features[0], 'weight'),\n",
    "    (model_base.features[2], 'weight'),\n",
    "    (model_base.features[5], 'weight'),\n",
    "    (model_base.features[7], 'weight'),\n",
    "    (model_base.classifier[0], 'weight'),\n",
    "    (model_base.classifier[3], 'weight'),\n",
    "]\n",
    "\n",
    "prune.global_unstructured(\n",
    "    to_prune,\n",
    "    pruning_method=prune.L1Unstructured,\n",
    "    amount=0.8,\n",
    ")"
   ],
   "id": "6c82a287ac4193f7",
   "outputs": [],
   "execution_count": 26
  },
  {
   "metadata": {
    "ExecuteTime": {
     "end_time": "2025-05-11T23:25:27.062668Z",
     "start_time": "2025-05-11T23:25:27.023354Z"
    }
   },
   "cell_type": "code",
   "source": [
    "for (module, _) in to_prune:\n",
    "    sparsity = 100. * float(torch.sum(module.weight == 0)) / module.weight.nelement()\n",
    "    print(f\"Sparsity in {module.__class__.__name__}: {sparsity:.2f}%\")"
   ],
   "id": "504014e446c1e76c",
   "outputs": [
    {
     "name": "stdout",
     "output_type": "stream",
     "text": [
      "Sparsity in Conv2d: 9.14%\n",
      "Sparsity in Conv2d: 62.55%\n",
      "Sparsity in Conv2d: 44.25%\n",
      "Sparsity in Conv2d: 44.30%\n",
      "Sparsity in Linear: 83.53%\n",
      "Sparsity in Linear: 41.91%\n"
     ]
    }
   ],
   "execution_count": 27
  },
  {
   "metadata": {
    "ExecuteTime": {
     "end_time": "2025-05-11T23:30:24.216944Z",
     "start_time": "2025-05-11T23:25:38.164747Z"
    }
   },
   "cell_type": "code",
   "source": "trainingEpoch_loss, validationEpoch_loss = train(model_base, epochs=10, learning_rate=0.001)",
   "id": "d020b48ffb24edf8",
   "outputs": [
    {
     "name": "stdout",
     "output_type": "stream",
     "text": [
      "Epoch 1/10, Loss: 1.494864939212799\n",
      "Epoch 2/10, Loss: 1.056314612197876\n",
      "Epoch 3/10, Loss: 0.8388438291072845\n",
      "Epoch 4/10, Loss: 0.7041443522453308\n",
      "Epoch 5/10, Loss: 0.5933612693309784\n",
      "Epoch 6/10, Loss: 0.5056564187288284\n",
      "Epoch 7/10, Loss: 0.43067469470500946\n",
      "Epoch 8/10, Loss: 0.35933805131912233\n",
      "Epoch 9/10, Loss: 0.29892502924203873\n",
      "Epoch 10/10, Loss: 0.2596704077124596\n"
     ]
    }
   ],
   "execution_count": 28
  },
  {
   "metadata": {
    "ExecuteTime": {
     "end_time": "2025-05-11T23:33:01.661914Z",
     "start_time": "2025-05-11T23:32:51.209991Z"
    }
   },
   "cell_type": "code",
   "source": "test(model_base)",
   "id": "2f4c69f7c6c23016",
   "outputs": [
    {
     "name": "stdout",
     "output_type": "stream",
     "text": [
      "Test Accuracy: 73.12%\n"
     ]
    },
    {
     "data": {
      "text/plain": [
       "73.12"
      ]
     },
     "execution_count": 29,
     "metadata": {},
     "output_type": "execute_result"
    }
   ],
   "execution_count": 29
  },
  {
   "metadata": {
    "ExecuteTime": {
     "end_time": "2025-05-11T23:33:35.883044Z",
     "start_time": "2025-05-11T23:33:35.878574Z"
    }
   },
   "cell_type": "code",
   "source": [
    "# (opcjonalnie) usunięcie masek, by model był gotowy do eksportu\n",
    "for module, name in to_prune:\n",
    "    prune.remove(module, name)"
   ],
   "id": "9c60c8bd7d7cf95",
   "outputs": [],
   "execution_count": 30
  },
  {
   "metadata": {
    "ExecuteTime": {
     "end_time": "2025-05-11T23:33:37.431562Z",
     "start_time": "2025-05-11T23:33:37.415560Z"
    }
   },
   "cell_type": "code",
   "source": "torch.save(model_base.state_dict(), \"../models/\" + file_name + \".pt\")",
   "id": "960805f282cd2737",
   "outputs": [],
   "execution_count": 31
  }
 ],
 "metadata": {
  "kernelspec": {
   "display_name": "Python 3",
   "language": "python",
   "name": "python3"
  },
  "language_info": {
   "codemirror_mode": {
    "name": "ipython",
    "version": 2
   },
   "file_extension": ".py",
   "mimetype": "text/x-python",
   "name": "python",
   "nbconvert_exporter": "python",
   "pygments_lexer": "ipython2",
   "version": "2.7.6"
  }
 },
 "nbformat": 4,
 "nbformat_minor": 5
}
