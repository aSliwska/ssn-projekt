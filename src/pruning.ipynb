{
 "cells": [
  {
   "cell_type": "code",
   "id": "initial_id",
   "metadata": {
    "collapsed": true,
    "ExecuteTime": {
     "end_time": "2025-05-12T21:14:40.272860Z",
     "start_time": "2025-05-12T21:14:40.268562Z"
    }
   },
   "source": [
    "import copy\n",
    "\n",
    "import matplotlib.pyplot as plt\n",
    "import torch\n",
    "from torch.utils.data import DataLoader, random_split\n",
    "import torchvision\n",
    "import torch.nn as nn\n",
    "from torchvision.transforms import v2\n",
    "import multiprocessing\n",
    "import torch.nn.utils.prune as prune\n",
    "import torch.nn.functional as F\n"
   ],
   "outputs": [],
   "execution_count": 49
  },
  {
   "metadata": {
    "ExecuteTime": {
     "end_time": "2025-05-12T21:01:50.041594Z",
     "start_time": "2025-05-12T21:01:50.032208Z"
    }
   },
   "cell_type": "code",
   "source": "print(torch.cuda.is_available())",
   "id": "e0859d293dcf910d",
   "outputs": [
    {
     "name": "stdout",
     "output_type": "stream",
     "text": [
      "True\n"
     ]
    }
   ],
   "execution_count": 33
  },
  {
   "metadata": {
    "ExecuteTime": {
     "end_time": "2025-05-12T21:48:02.739838Z",
     "start_time": "2025-05-12T21:48:02.733499Z"
    }
   },
   "cell_type": "code",
   "source": [
    "# run variables\n",
    "\n",
    "seed = 42\n",
    "file_name = 'base_pruned'\n",
    "# file_name = 'student_self_taught'\n",
    "\n",
    "class BaseNN(nn.Module):\n",
    "    def __init__(self, conv1_out = 128, num_classes=10):\n",
    "        super(BaseNN, self).__init__()\n",
    "\n",
    "        ### teacher\n",
    "        self.features = nn.Sequential(\n",
    "            nn.Conv2d(3, conv1_out, kernel_size=3, padding=1),\n",
    "            nn.ReLU(),\n",
    "            nn.Conv2d(conv1_out, 64, kernel_size=3, padding=1),\n",
    "            nn.ReLU(),\n",
    "            nn.MaxPool2d(kernel_size=2, stride=2),\n",
    "            nn.Conv2d(64, 64, kernel_size=3, padding=1),\n",
    "            nn.ReLU(),\n",
    "            nn.Conv2d(64, 32, kernel_size=3, padding=1),\n",
    "            nn.ReLU(),\n",
    "            nn.MaxPool2d(kernel_size=2, stride=2),\n",
    "        )\n",
    "        self.classifier = nn.Sequential(\n",
    "            nn.Linear(2048, 512),\n",
    "            nn.ReLU(),\n",
    "            nn.Dropout(0.1),\n",
    "            nn.Linear(512, num_classes)\n",
    "        )\n",
    "\n",
    "        ### student\n",
    "        # self.features = nn.Sequential(\n",
    "        #     nn.Conv2d(3, 16, kernel_size=3, padding=1),\n",
    "        #     nn.ReLU(),\n",
    "        #     nn.MaxPool2d(kernel_size=2, stride=2),\n",
    "        #     nn.Conv2d(16, 16, kernel_size=3, padding=1),\n",
    "        #     nn.ReLU(),\n",
    "        #     nn.MaxPool2d(kernel_size=2, stride=2),\n",
    "        # )\n",
    "        # self.classifier = nn.Sequential(\n",
    "        #     nn.Linear(1024, 256),\n",
    "        #     nn.ReLU(),\n",
    "        #     nn.Dropout(0.1),\n",
    "        #     nn.Linear(256, num_classes)\n",
    "        # )\n",
    "\n",
    "    def forward(self, x):\n",
    "        x = self.features(x)\n",
    "        x = torch.flatten(x, 1)\n",
    "        x = self.classifier(x)\n",
    "        return x"
   ],
   "id": "d4fcbd8c27e5803d",
   "outputs": [],
   "execution_count": 72
  },
  {
   "metadata": {
    "ExecuteTime": {
     "end_time": "2025-05-12T21:01:58.766243Z",
     "start_time": "2025-05-12T21:01:58.751083Z"
    }
   },
   "cell_type": "code",
   "source": [
    "# device settings\n",
    "\n",
    "num_workers = 2\n",
    "\n",
    "print(torch.cuda.get_device_name(torch.cuda.current_device()))\n",
    "\n",
    "#device = torch.accelerator.current_accelerator().type if torch.accelerator.is_available() else \"cpu\"\n",
    "\n",
    "device = \"cuda\" if torch.cuda.is_available() else \"cpu\"\n",
    "\n",
    "print(f\"Using {device} device\")"
   ],
   "id": "d38b3b647c6fcab6",
   "outputs": [
    {
     "name": "stdout",
     "output_type": "stream",
     "text": [
      "NVIDIA GeForce RTX 2060\n",
      "Using cuda device\n"
     ]
    }
   ],
   "execution_count": 36
  },
  {
   "metadata": {
    "ExecuteTime": {
     "end_time": "2025-05-12T21:07:36.848787Z",
     "start_time": "2025-05-12T21:07:34.317979Z"
    }
   },
   "cell_type": "code",
   "source": [
    "# define datasets and loaders\n",
    "\n",
    "transform = v2.Compose([\n",
    "    v2.ToImage(),\n",
    "    v2.ToDtype(torch.float32, scale=True),\n",
    "    v2.Normalize(mean=[0.485, 0.456, 0.406], std=[0.229, 0.224, 0.225]),\n",
    "])\n",
    "\n",
    "train_dataset = torchvision.datasets.CIFAR10(\"./../data\", train=True, transform=transform, download=True)\n",
    "test_dataset = torchvision.datasets.CIFAR10(\"./../data\", train=False, transform=transform, download=True)\n",
    "\n",
    "train_dataset, validation_dataset =  random_split(train_dataset, [0.8, 0.2])\n",
    "\n",
    "print('train set size:', len(train_dataset))\n",
    "print('validation set size:', len(validation_dataset))\n",
    "print('test set size:', len(test_dataset))\n",
    "\n",
    "train_loader = DataLoader(train_dataset, batch_size=64, shuffle=True, num_workers=num_workers)\n",
    "validation_loader = DataLoader(validation_dataset, batch_size=64, shuffle=True, num_workers=num_workers)\n",
    "test_loader = DataLoader(test_dataset, batch_size=64, shuffle=False, num_workers=num_workers)\n",
    "\n",
    "class_names = [\"airplane\", \"automobile\", \"bird\", \"cat\", \"deer\", \"dog\", \"frog\", \"horse\", \"ship\", \"truck\"]"
   ],
   "id": "24253639fd75c073",
   "outputs": [
    {
     "name": "stdout",
     "output_type": "stream",
     "text": [
      "Files already downloaded and verified\n",
      "Files already downloaded and verified\n",
      "train set size: 40000\n",
      "validation set size: 10000\n",
      "test set size: 10000\n"
     ]
    }
   ],
   "execution_count": 44
  },
  {
   "metadata": {
    "ExecuteTime": {
     "end_time": "2025-05-12T21:02:10.087801Z",
     "start_time": "2025-05-12T21:02:10.072842Z"
    }
   },
   "cell_type": "code",
   "source": [
    "def train(model, epochs, learning_rate):\n",
    "    trainingEpoch_loss = []\n",
    "    validationEpoch_loss = []\n",
    "    criterion = nn.CrossEntropyLoss()\n",
    "    optimizer = torch.optim.Adam(model.parameters(), lr=learning_rate)\n",
    "\n",
    "    for epoch in range(epochs):\n",
    "        # training\n",
    "        model.train()\n",
    "        running_loss = 0.0\n",
    "        for inputs, labels in train_loader:\n",
    "            inputs, labels = inputs.to(device), labels.to(device)\n",
    "\n",
    "            optimizer.zero_grad()\n",
    "            outputs = model(inputs)\n",
    "            loss = criterion(outputs, labels)\n",
    "            loss.backward()\n",
    "            optimizer.step()\n",
    "\n",
    "            running_loss += loss.item()\n",
    "\n",
    "        print(f\"Epoch {epoch+1}/{epochs}, Loss: {running_loss / len(train_loader)}\")\n",
    "        trainingEpoch_loss.append(running_loss / len(train_loader))\n",
    "\n",
    "        # validation\n",
    "        model.eval()\n",
    "        validation_loss = 0.0\n",
    "        for inputs, labels in validation_loader:\n",
    "            inputs, labels = inputs.to(device), labels.to(device)\n",
    "\n",
    "            outputs = model(inputs)\n",
    "            loss = criterion(outputs, labels)\n",
    "\n",
    "            validation_loss += loss.item()\n",
    "\n",
    "        validationEpoch_loss.append(validation_loss / len(validation_loader))\n",
    "\n",
    "    return trainingEpoch_loss, validationEpoch_loss"
   ],
   "id": "e01509899c40d22e",
   "outputs": [],
   "execution_count": 38
  },
  {
   "metadata": {
    "ExecuteTime": {
     "end_time": "2025-05-12T21:02:13.758133Z",
     "start_time": "2025-05-12T21:02:13.746527Z"
    }
   },
   "cell_type": "code",
   "source": [
    "def test(model):\n",
    "    model.eval()\n",
    "\n",
    "    correct = 0\n",
    "    total = 0\n",
    "\n",
    "    with torch.no_grad():\n",
    "        for inputs, labels in test_loader:\n",
    "            inputs, labels = inputs.to(device), labels.to(device)\n",
    "\n",
    "            outputs = model(inputs)\n",
    "            _, predicted = torch.max(outputs.data, 1)\n",
    "\n",
    "            total += labels.size(0)\n",
    "            correct += (predicted == labels).sum().item()\n",
    "\n",
    "    accuracy = 100 * correct / total\n",
    "    print(f\"Test Accuracy: {accuracy:.2f}%\")\n",
    "    return accuracy"
   ],
   "id": "619077d019e61ed4",
   "outputs": [],
   "execution_count": 39
  },
  {
   "metadata": {
    "ExecuteTime": {
     "end_time": "2025-05-12T21:22:00.444035Z",
     "start_time": "2025-05-12T21:22:00.421659Z"
    }
   },
   "cell_type": "code",
   "source": [
    "torch.manual_seed(seed)\n",
    "model_base = BaseNN(num_classes=10).to(device)\n"
   ],
   "id": "e4e3053f7ed533b",
   "outputs": [],
   "execution_count": 57
  },
  {
   "metadata": {
    "ExecuteTime": {
     "end_time": "2025-05-12T21:27:00.538851Z",
     "start_time": "2025-05-12T21:22:02.816201Z"
    }
   },
   "cell_type": "code",
   "source": "trainingEpoch_loss, validationEpoch_loss = train(model_base, epochs=10, learning_rate=0.001)",
   "id": "246d587409692b18",
   "outputs": [
    {
     "name": "stdout",
     "output_type": "stream",
     "text": [
      "Epoch 1/10, Loss: 1.394992379283905\n",
      "Epoch 2/10, Loss: 0.910749391746521\n",
      "Epoch 3/10, Loss: 0.7008289664268493\n",
      "Epoch 4/10, Loss: 0.5391978739261627\n",
      "Epoch 5/10, Loss: 0.39849857199192046\n",
      "Epoch 6/10, Loss: 0.2833144622325897\n",
      "Epoch 7/10, Loss: 0.20346237179636956\n",
      "Epoch 8/10, Loss: 0.15738942106366158\n",
      "Epoch 9/10, Loss: 0.13843745221942663\n",
      "Epoch 10/10, Loss: 0.12825698957666753\n"
     ]
    }
   ],
   "execution_count": 58
  },
  {
   "metadata": {
    "ExecuteTime": {
     "end_time": "2025-05-12T21:27:24.131201Z",
     "start_time": "2025-05-12T21:27:13.915550Z"
    }
   },
   "cell_type": "code",
   "source": "test(model_base)",
   "id": "278741bcf39770d2",
   "outputs": [
    {
     "name": "stdout",
     "output_type": "stream",
     "text": [
      "Test Accuracy: 73.15%\n"
     ]
    },
    {
     "data": {
      "text/plain": [
       "73.15"
      ]
     },
     "execution_count": 59,
     "metadata": {},
     "output_type": "execute_result"
    }
   ],
   "execution_count": 59
  },
  {
   "metadata": {
    "ExecuteTime": {
     "end_time": "2025-05-12T21:27:46.613044Z",
     "start_time": "2025-05-12T21:27:46.472340Z"
    }
   },
   "cell_type": "code",
   "source": [
    "pruned_model = copy.deepcopy(model_base)\n",
    "to_prune = [\n",
    "    (pruned_model.features[0], 'weight'),\n",
    "    (pruned_model.features[2], 'weight'),\n",
    "    (pruned_model.features[5], 'weight'),\n",
    "    (pruned_model.features[7], 'weight'),\n",
    "    (pruned_model.classifier[0], 'weight'),\n",
    "    (pruned_model.classifier[3], 'weight'),\n",
    "]\n",
    "\n",
    "prune.global_unstructured(\n",
    "    to_prune,\n",
    "    pruning_method=prune.L1Unstructured,\n",
    "    amount=0.8,\n",
    ")"
   ],
   "id": "6c82a287ac4193f7",
   "outputs": [],
   "execution_count": 60
  },
  {
   "metadata": {
    "ExecuteTime": {
     "end_time": "2025-05-12T21:27:49.560930Z",
     "start_time": "2025-05-12T21:27:49.516504Z"
    }
   },
   "cell_type": "code",
   "source": [
    "for (module, _) in to_prune:\n",
    "    sparsity = 100. * float(torch.sum(module.weight == 0)) / module.weight.nelement()\n",
    "    print(f\"Sparsity in {module.__class__.__name__}: {sparsity:.2f}%\")"
   ],
   "id": "504014e446c1e76c",
   "outputs": [
    {
     "name": "stdout",
     "output_type": "stream",
     "text": [
      "Sparsity in Conv2d: 42.48%\n",
      "Sparsity in Conv2d: 84.11%\n",
      "Sparsity in Conv2d: 83.53%\n",
      "Sparsity in Conv2d: 73.45%\n",
      "Sparsity in Linear: 79.85%\n",
      "Sparsity in Linear: 75.53%\n"
     ]
    }
   ],
   "execution_count": 61
  },
  {
   "metadata": {
    "ExecuteTime": {
     "end_time": "2025-05-12T21:32:54.438203Z",
     "start_time": "2025-05-12T21:27:54.472307Z"
    }
   },
   "cell_type": "code",
   "source": "trainingEpoch_loss, validationEpoch_loss = train(pruned_model, epochs=10, learning_rate=0.001)",
   "id": "d020b48ffb24edf8",
   "outputs": [
    {
     "name": "stdout",
     "output_type": "stream",
     "text": [
      "Epoch 1/10, Loss: 0.2623787738263607\n",
      "Epoch 2/10, Loss: 0.1002238373786211\n",
      "Epoch 3/10, Loss: 0.064100375540182\n",
      "Epoch 4/10, Loss: 0.05431569690480828\n",
      "Epoch 5/10, Loss: 0.05003045916259289\n",
      "Epoch 6/10, Loss: 0.04500716479923576\n",
      "Epoch 7/10, Loss: 0.0435512925138697\n",
      "Epoch 8/10, Loss: 0.042859381295274945\n",
      "Epoch 9/10, Loss: 0.03539651275193319\n",
      "Epoch 10/10, Loss: 0.03438207645555958\n"
     ]
    }
   ],
   "execution_count": 62
  },
  {
   "metadata": {
    "ExecuteTime": {
     "end_time": "2025-05-12T21:33:33.181738Z",
     "start_time": "2025-05-12T21:33:22.587622Z"
    }
   },
   "cell_type": "code",
   "source": "test(pruned_model)",
   "id": "2f4c69f7c6c23016",
   "outputs": [
    {
     "name": "stdout",
     "output_type": "stream",
     "text": [
      "Test Accuracy: 74.28%\n"
     ]
    },
    {
     "data": {
      "text/plain": [
       "74.28"
      ]
     },
     "execution_count": 63,
     "metadata": {},
     "output_type": "execute_result"
    }
   ],
   "execution_count": 63
  },
  {
   "metadata": {
    "ExecuteTime": {
     "end_time": "2025-05-12T21:33:36.251829Z",
     "start_time": "2025-05-12T21:33:36.247738Z"
    }
   },
   "cell_type": "code",
   "source": [
    "# (opcjonalnie) usunięcie masek, by model był gotowy do eksportu\n",
    "for module, name in to_prune:\n",
    "    prune.remove(module, name)"
   ],
   "id": "9c60c8bd7d7cf95",
   "outputs": [],
   "execution_count": 64
  },
  {
   "metadata": {
    "ExecuteTime": {
     "end_time": "2025-05-12T21:33:39.123010Z",
     "start_time": "2025-05-12T21:33:39.106559Z"
    }
   },
   "cell_type": "code",
   "source": "torch.save(pruned_model.state_dict(), \"../models/\" + file_name + \".pt\")",
   "id": "960805f282cd2737",
   "outputs": [],
   "execution_count": 65
  },
  {
   "metadata": {
    "ExecuteTime": {
     "end_time": "2025-05-12T21:42:07.586382Z",
     "start_time": "2025-05-12T21:42:07.580210Z"
    }
   },
   "cell_type": "code",
   "source": [
    "# === Structured pruning: kanały Conv2d ===\n",
    "def get_pruned_channels(conv_layer, amount):\n",
    "    weight = conv_layer.weight.detach().cpu()\n",
    "    norms = weight.view(weight.size(0), -1).norm(p=2, dim=1)\n",
    "    num_prune = int(amount * weight.size(0))\n",
    "    prune_indices = torch.argsort(norms)[:num_prune]\n",
    "    keep_indices = torch.argsort(norms)[num_prune:]\n",
    "    return keep_indices.tolist()"
   ],
   "id": "b70d38e2a66ad449",
   "outputs": [],
   "execution_count": 66
  },
  {
   "metadata": {
    "ExecuteTime": {
     "end_time": "2025-05-12T21:48:11.679803Z",
     "start_time": "2025-05-12T21:48:11.651315Z"
    }
   },
   "cell_type": "code",
   "source": [
    "keep = get_pruned_channels(model_base.features[0], amount=0.5)\n",
    "pruned_conv_model = BaseNN(conv1_out=len(keep), num_classes=10).to(device)"
   ],
   "id": "334806add4cd74c6",
   "outputs": [],
   "execution_count": 73
  },
  {
   "metadata": {
    "ExecuteTime": {
     "end_time": "2025-05-12T21:53:11.514268Z",
     "start_time": "2025-05-12T21:48:13.186137Z"
    }
   },
   "cell_type": "code",
   "source": "train(pruned_conv_model, epochs=10, learning_rate=0.001)",
   "id": "8269d238e1fd82e6",
   "outputs": [
    {
     "name": "stdout",
     "output_type": "stream",
     "text": [
      "Epoch 1/10, Loss: 1.3979026472091676\n",
      "Epoch 2/10, Loss: 0.9206561213493347\n",
      "Epoch 3/10, Loss: 0.7185071380615234\n",
      "Epoch 4/10, Loss: 0.571894864320755\n",
      "Epoch 5/10, Loss: 0.43536783180236815\n",
      "Epoch 6/10, Loss: 0.3214219146490097\n",
      "Epoch 7/10, Loss: 0.2346030507683754\n",
      "Epoch 8/10, Loss: 0.18979957507550715\n",
      "Epoch 9/10, Loss: 0.15605480465590954\n",
      "Epoch 10/10, Loss: 0.12942429059743882\n"
     ]
    },
    {
     "data": {
      "text/plain": [
       "([1.3979026472091676,\n",
       "  0.9206561213493347,\n",
       "  0.7185071380615234,\n",
       "  0.571894864320755,\n",
       "  0.43536783180236815,\n",
       "  0.3214219146490097,\n",
       "  0.2346030507683754,\n",
       "  0.18979957507550715,\n",
       "  0.15605480465590954,\n",
       "  0.12942429059743882],\n",
       " [1.0840710431906828,\n",
       "  0.8283173024274741,\n",
       "  0.7873738983254523,\n",
       "  0.7937244482480796,\n",
       "  0.7859747411718794,\n",
       "  0.944733291294924,\n",
       "  1.0018971938236503,\n",
       "  1.1450536600343741,\n",
       "  1.1957154201853806,\n",
       "  1.349167570946323])"
      ]
     },
     "execution_count": 74,
     "metadata": {},
     "output_type": "execute_result"
    }
   ],
   "execution_count": 74
  },
  {
   "metadata": {
    "ExecuteTime": {
     "end_time": "2025-05-12T21:53:39.951332Z",
     "start_time": "2025-05-12T21:53:29.975454Z"
    }
   },
   "cell_type": "code",
   "source": "test(pruned_conv_model)",
   "id": "54179a5b1873cd16",
   "outputs": [
    {
     "name": "stdout",
     "output_type": "stream",
     "text": [
      "Test Accuracy: 72.68%\n"
     ]
    },
    {
     "data": {
      "text/plain": [
       "72.68"
      ]
     },
     "execution_count": 75,
     "metadata": {},
     "output_type": "execute_result"
    }
   ],
   "execution_count": 75
  },
  {
   "metadata": {
    "ExecuteTime": {
     "end_time": "2025-05-12T21:53:44.803404Z",
     "start_time": "2025-05-12T21:53:44.787370Z"
    }
   },
   "cell_type": "code",
   "source": "torch.save(pruned_conv_model.state_dict(), \"../models/\" + \"pruned_conv_model\" + \".pt\")",
   "id": "f212730760e400d6",
   "outputs": [],
   "execution_count": 76
  }
 ],
 "metadata": {
  "kernelspec": {
   "display_name": "Python 3",
   "language": "python",
   "name": "python3"
  },
  "language_info": {
   "codemirror_mode": {
    "name": "ipython",
    "version": 2
   },
   "file_extension": ".py",
   "mimetype": "text/x-python",
   "name": "python",
   "nbconvert_exporter": "python",
   "pygments_lexer": "ipython2",
   "version": "2.7.6"
  }
 },
 "nbformat": 4,
 "nbformat_minor": 5
}
