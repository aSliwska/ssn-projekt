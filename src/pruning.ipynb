{
 "cells": [
  {
   "cell_type": "code",
   "id": "initial_id",
   "metadata": {
    "collapsed": true,
    "ExecuteTime": {
     "end_time": "2025-05-13T09:08:44.937731Z",
     "start_time": "2025-05-13T09:08:38.511558Z"
    }
   },
   "source": [
    "import copy\n",
    "\n",
    "import matplotlib.pyplot as plt\n",
    "import torch\n",
    "from torch.utils.data import DataLoader, random_split\n",
    "import torchvision\n",
    "import torch.nn as nn\n",
    "from torchvision.transforms import v2\n",
    "import multiprocessing\n",
    "import torch.nn.utils.prune as prune\n",
    "import torch.nn.functional as F\n"
   ],
   "outputs": [],
   "execution_count": 1
  },
  {
   "metadata": {
    "ExecuteTime": {
     "end_time": "2025-05-13T09:11:34.284540Z",
     "start_time": "2025-05-13T09:11:34.234323Z"
    }
   },
   "cell_type": "code",
   "source": "print(torch.cuda.is_available())",
   "id": "e0859d293dcf910d",
   "outputs": [
    {
     "name": "stdout",
     "output_type": "stream",
     "text": [
      "True\n"
     ]
    }
   ],
   "execution_count": 2
  },
  {
   "metadata": {
    "ExecuteTime": {
     "end_time": "2025-05-13T09:11:35.481205Z",
     "start_time": "2025-05-13T09:11:35.473168Z"
    }
   },
   "cell_type": "code",
   "source": [
    "# run variables\n",
    "\n",
    "seed = 42\n",
    "file_name = 'base_pruned'\n",
    "# file_name = 'student_self_taught'\n",
    "\n",
    "class BaseNN(nn.Module):\n",
    "    def __init__(self, conv1_out = 128, conv2_out = 64, conv3_out = 32, num_classes=10):\n",
    "        super(BaseNN, self).__init__()\n",
    "\n",
    "        ### teacher\n",
    "        self.features = nn.Sequential(\n",
    "            nn.Conv2d(3, conv1_out, kernel_size=3, padding=1),\n",
    "            nn.ReLU(),\n",
    "            nn.Conv2d(conv1_out, conv2_out, kernel_size=3, padding=1),\n",
    "            nn.ReLU(),\n",
    "            nn.MaxPool2d(kernel_size=2, stride=2),\n",
    "            nn.Conv2d(conv2_out, conv2_out, kernel_size=3, padding=1),\n",
    "            nn.ReLU(),\n",
    "            nn.Conv2d(conv2_out, conv3_out, kernel_size=3, padding=1),\n",
    "            nn.ReLU(),\n",
    "            nn.MaxPool2d(kernel_size=2, stride=2),\n",
    "        )\n",
    "        self.classifier = nn.Sequential(\n",
    "            nn.Linear(2048, 512),\n",
    "            nn.ReLU(),\n",
    "            nn.Dropout(0.1),\n",
    "            nn.Linear(512, num_classes)\n",
    "        )\n",
    "\n",
    "        ### student\n",
    "        # self.features = nn.Sequential(\n",
    "        #     nn.Conv2d(3, 16, kernel_size=3, padding=1),\n",
    "        #     nn.ReLU(),\n",
    "        #     nn.MaxPool2d(kernel_size=2, stride=2),\n",
    "        #     nn.Conv2d(16, 16, kernel_size=3, padding=1),\n",
    "        #     nn.ReLU(),\n",
    "        #     nn.MaxPool2d(kernel_size=2, stride=2),\n",
    "        # )\n",
    "        # self.classifier = nn.Sequential(\n",
    "        #     nn.Linear(1024, 256),\n",
    "        #     nn.ReLU(),\n",
    "        #     nn.Dropout(0.1),\n",
    "        #     nn.Linear(256, num_classes)\n",
    "        # )\n",
    "\n",
    "    def forward(self, x):\n",
    "        x = self.features(x)\n",
    "        x = torch.flatten(x, 1)\n",
    "        x = self.classifier(x)\n",
    "        return x"
   ],
   "id": "d4fcbd8c27e5803d",
   "outputs": [],
   "execution_count": 3
  },
  {
   "metadata": {
    "ExecuteTime": {
     "end_time": "2025-05-13T09:11:42.712914Z",
     "start_time": "2025-05-13T09:11:42.701587Z"
    }
   },
   "cell_type": "code",
   "source": [
    "# device settings\n",
    "\n",
    "num_workers = 2\n",
    "\n",
    "print(torch.cuda.get_device_name(torch.cuda.current_device()))\n",
    "\n",
    "#device = torch.accelerator.current_accelerator().type if torch.accelerator.is_available() else \"cpu\"\n",
    "\n",
    "device = \"cuda\" if torch.cuda.is_available() else \"cpu\"\n",
    "\n",
    "print(f\"Using {device} device\")"
   ],
   "id": "d38b3b647c6fcab6",
   "outputs": [
    {
     "name": "stdout",
     "output_type": "stream",
     "text": [
      "NVIDIA GeForce RTX 2060\n",
      "Using cuda device\n"
     ]
    }
   ],
   "execution_count": 4
  },
  {
   "metadata": {
    "ExecuteTime": {
     "end_time": "2025-05-13T09:11:45.909520Z",
     "start_time": "2025-05-13T09:11:44.454820Z"
    }
   },
   "cell_type": "code",
   "source": [
    "# define datasets and loaders\n",
    "\n",
    "transform = v2.Compose([\n",
    "    v2.ToImage(),\n",
    "    v2.ToDtype(torch.float32, scale=True),\n",
    "    v2.Normalize(mean=[0.485, 0.456, 0.406], std=[0.229, 0.224, 0.225]),\n",
    "])\n",
    "\n",
    "train_dataset = torchvision.datasets.CIFAR10(\"./../data\", train=True, transform=transform, download=True)\n",
    "test_dataset = torchvision.datasets.CIFAR10(\"./../data\", train=False, transform=transform, download=True)\n",
    "\n",
    "train_dataset, validation_dataset =  random_split(train_dataset, [0.8, 0.2])\n",
    "\n",
    "print('train set size:', len(train_dataset))\n",
    "print('validation set size:', len(validation_dataset))\n",
    "print('test set size:', len(test_dataset))\n",
    "\n",
    "train_loader = DataLoader(train_dataset, batch_size=64, shuffle=True, num_workers=num_workers)\n",
    "validation_loader = DataLoader(validation_dataset, batch_size=64, shuffle=True, num_workers=num_workers)\n",
    "test_loader = DataLoader(test_dataset, batch_size=64, shuffle=False, num_workers=num_workers)\n",
    "\n",
    "class_names = [\"airplane\", \"automobile\", \"bird\", \"cat\", \"deer\", \"dog\", \"frog\", \"horse\", \"ship\", \"truck\"]"
   ],
   "id": "24253639fd75c073",
   "outputs": [
    {
     "name": "stdout",
     "output_type": "stream",
     "text": [
      "Files already downloaded and verified\n",
      "Files already downloaded and verified\n",
      "train set size: 40000\n",
      "validation set size: 10000\n",
      "test set size: 10000\n"
     ]
    }
   ],
   "execution_count": 5
  },
  {
   "metadata": {
    "ExecuteTime": {
     "end_time": "2025-05-13T09:11:49.612079Z",
     "start_time": "2025-05-13T09:11:49.597937Z"
    }
   },
   "cell_type": "code",
   "source": [
    "def train(model, epochs, learning_rate):\n",
    "    trainingEpoch_loss = []\n",
    "    validationEpoch_loss = []\n",
    "    criterion = nn.CrossEntropyLoss()\n",
    "    optimizer = torch.optim.Adam(model.parameters(), lr=learning_rate)\n",
    "\n",
    "    for epoch in range(epochs):\n",
    "        # training\n",
    "        model.train()\n",
    "        running_loss = 0.0\n",
    "        for inputs, labels in train_loader:\n",
    "            inputs, labels = inputs.to(device), labels.to(device)\n",
    "\n",
    "            optimizer.zero_grad()\n",
    "            outputs = model(inputs)\n",
    "            loss = criterion(outputs, labels)\n",
    "            loss.backward()\n",
    "            optimizer.step()\n",
    "\n",
    "            running_loss += loss.item()\n",
    "\n",
    "        print(f\"Epoch {epoch+1}/{epochs}, Loss: {running_loss / len(train_loader)}\")\n",
    "        trainingEpoch_loss.append(running_loss / len(train_loader))\n",
    "\n",
    "        # validation\n",
    "        model.eval()\n",
    "        validation_loss = 0.0\n",
    "        for inputs, labels in validation_loader:\n",
    "            inputs, labels = inputs.to(device), labels.to(device)\n",
    "\n",
    "            outputs = model(inputs)\n",
    "            loss = criterion(outputs, labels)\n",
    "\n",
    "            validation_loss += loss.item()\n",
    "\n",
    "        validationEpoch_loss.append(validation_loss / len(validation_loader))\n",
    "\n",
    "    return trainingEpoch_loss, validationEpoch_loss"
   ],
   "id": "e01509899c40d22e",
   "outputs": [],
   "execution_count": 6
  },
  {
   "metadata": {
    "ExecuteTime": {
     "end_time": "2025-05-13T09:11:52.455863Z",
     "start_time": "2025-05-13T09:11:52.450611Z"
    }
   },
   "cell_type": "code",
   "source": [
    "def test(model):\n",
    "    model.eval()\n",
    "\n",
    "    correct = 0\n",
    "    total = 0\n",
    "\n",
    "    with torch.no_grad():\n",
    "        for inputs, labels in test_loader:\n",
    "            inputs, labels = inputs.to(device), labels.to(device)\n",
    "\n",
    "            outputs = model(inputs)\n",
    "            _, predicted = torch.max(outputs.data, 1)\n",
    "\n",
    "            total += labels.size(0)\n",
    "            correct += (predicted == labels).sum().item()\n",
    "\n",
    "    accuracy = 100 * correct / total\n",
    "    print(f\"Test Accuracy: {accuracy:.2f}%\")\n",
    "    return accuracy"
   ],
   "id": "619077d019e61ed4",
   "outputs": [],
   "execution_count": 7
  },
  {
   "metadata": {
    "ExecuteTime": {
     "end_time": "2025-05-13T09:11:56.819504Z",
     "start_time": "2025-05-13T09:11:56.678033Z"
    }
   },
   "cell_type": "code",
   "source": [
    "torch.manual_seed(seed)\n",
    "model_base = BaseNN(num_classes=10).to(device)\n"
   ],
   "id": "e4e3053f7ed533b",
   "outputs": [],
   "execution_count": 8
  },
  {
   "metadata": {
    "ExecuteTime": {
     "end_time": "2025-05-13T09:16:55.419309Z",
     "start_time": "2025-05-13T09:11:58.877749Z"
    }
   },
   "cell_type": "code",
   "source": "trainingEpoch_loss, validationEpoch_loss = train(model_base, epochs=10, learning_rate=0.001)",
   "id": "246d587409692b18",
   "outputs": [
    {
     "name": "stdout",
     "output_type": "stream",
     "text": [
      "Epoch 1/10, Loss: 1.3935775758743285\n",
      "Epoch 2/10, Loss: 0.9089925354957581\n",
      "Epoch 3/10, Loss: 0.7178989406585693\n",
      "Epoch 4/10, Loss: 0.5670861113548279\n",
      "Epoch 5/10, Loss: 0.4369517149209976\n",
      "Epoch 6/10, Loss: 0.32411869415044786\n",
      "Epoch 7/10, Loss: 0.2390675737321377\n",
      "Epoch 8/10, Loss: 0.19385855768918991\n",
      "Epoch 9/10, Loss: 0.1528088714286685\n",
      "Epoch 10/10, Loss: 0.13444784644395114\n"
     ]
    }
   ],
   "execution_count": 9
  },
  {
   "metadata": {
    "ExecuteTime": {
     "end_time": "2025-05-13T09:20:05.260078Z",
     "start_time": "2025-05-13T09:19:54.768359Z"
    }
   },
   "cell_type": "code",
   "source": "test(model_base)",
   "id": "278741bcf39770d2",
   "outputs": [
    {
     "name": "stdout",
     "output_type": "stream",
     "text": [
      "Test Accuracy: 74.16%\n"
     ]
    },
    {
     "data": {
      "text/plain": [
       "74.16"
      ]
     },
     "execution_count": 10,
     "metadata": {},
     "output_type": "execute_result"
    }
   ],
   "execution_count": 10
  },
  {
   "metadata": {
    "ExecuteTime": {
     "end_time": "2025-05-13T09:24:39.240249Z",
     "start_time": "2025-05-13T09:24:39.234794Z"
    }
   },
   "cell_type": "code",
   "source": [
    "def count_parameters(model):\n",
    "    total = sum(p.numel() for p in model.parameters())\n",
    "    trainable = sum(p.numel() for p in model.parameters() if p.requires_grad)\n",
    "    return total, trainable"
   ],
   "id": "4ca92656640e3a84",
   "outputs": [],
   "execution_count": 21
  },
  {
   "metadata": {
    "ExecuteTime": {
     "end_time": "2025-05-13T09:24:57.166870Z",
     "start_time": "2025-05-13T09:24:57.162753Z"
    }
   },
   "cell_type": "code",
   "source": [
    "total, trainable = count_parameters(model_base)\n",
    "\n",
    "print(f\"📦 Liczba wszystkich parametrów: {total}\")"
   ],
   "id": "923f9e0dad91478d",
   "outputs": [
    {
     "name": "stdout",
     "output_type": "stream",
     "text": [
      "📦 Liczba wszystkich parametrów: 1186986\n"
     ]
    }
   ],
   "execution_count": 23
  },
  {
   "metadata": {
    "ExecuteTime": {
     "end_time": "2025-05-13T09:20:07.386954Z",
     "start_time": "2025-05-13T09:20:07.227174Z"
    }
   },
   "cell_type": "code",
   "source": [
    "plt.plot(trainingEpoch_loss, label='train_loss')\n",
    "plt.plot(validationEpoch_loss,label='val_loss')\n",
    "plt.legend()\n",
    "plt.show()"
   ],
   "id": "247ceb18d9b692bb",
   "outputs": [
    {
     "data": {
      "text/plain": [
       "<Figure size 640x480 with 1 Axes>"
      ],
      "image/png": "[encoded data removed]"
     },
     "metadata": {},
     "output_type": "display_data"
    }
   ],
   "execution_count": 11
  },
  {
   "metadata": {
    "ExecuteTime": {
     "end_time": "2025-05-13T09:20:09.921825Z",
     "start_time": "2025-05-13T09:20:09.916691Z"
    }
   },
   "cell_type": "code",
   "source": [
    "# === Sparsity ===\n",
    "def calculate_sparsity(model):\n",
    "    zero, total = 0, 0\n",
    "    for p in model.parameters():\n",
    "        total += p.numel()\n",
    "        zero += (p == 0).sum().item()\n",
    "    return 100.0 * zero / total"
   ],
   "id": "6c82a287ac4193f7",
   "outputs": [],
   "execution_count": 12
  },
  {
   "metadata": {
    "ExecuteTime": {
     "end_time": "2025-05-13T09:58:07.883813Z",
     "start_time": "2025-05-13T09:58:07.767104Z"
    }
   },
   "cell_type": "code",
   "source": [
    "# === Unstructured pruning ===\n",
    "unstructured_model = copy.deepcopy(model_base)\n",
    "prune.l1_unstructured(unstructured_model.classifier[0], name='weight', amount=0.8)\n",
    "prune.l1_unstructured(unstructured_model.classifier[3], name='weight', amount=0.8)\n",
    "\n",
    "prune.l1_unstructured(unstructured_model.features[0], name='weight', amount=0.8)\n",
    "prune.l1_unstructured(unstructured_model.features[2], name='weight', amount=0.8)\n",
    "\n",
    "print(f\"Sparsity: {calculate_sparsity(unstructured_model):.2f}%\")\n",
    "\n",
    "# === Usuwanie masek pruningowych ===\n",
    "for module in [unstructured_model.classifier[0], unstructured_model.classifier[3], unstructured_model.features[0], unstructured_model.features[2]]:\n",
    "    prune.remove(module, 'weight')\n",
    "\n",
    "print(f\"Sparsity: {calculate_sparsity(unstructured_model):.2f}%\")\n"
   ],
   "id": "cb8c02e41689d424",
   "outputs": [
    {
     "name": "stdout",
     "output_type": "stream",
     "text": [
      "Sparsity: 0.00%\n",
      "Sparsity: 76.22%\n"
     ]
    }
   ],
   "execution_count": 33
  },
  {
   "metadata": {
    "ExecuteTime": {
     "end_time": "2025-05-13T10:02:01.058232Z",
     "start_time": "2025-05-13T09:58:10.821364Z"
    }
   },
   "cell_type": "code",
   "source": "trainingEpoch_loss, validationEpoch_loss = train(unstructured_model, epochs=3, learning_rate=0.001)",
   "id": "fbca733fe5bf77e5",
   "outputs": [
    {
     "name": "stdout",
     "output_type": "stream",
     "text": [
      "Epoch 1/3, Loss: 0.24053179274201394\n",
      "Epoch 2/3, Loss: 0.13655116394162178\n",
      "Epoch 3/3, Loss: 0.11108614333719015\n"
     ]
    }
   ],
   "execution_count": 34
  },
  {
   "metadata": {
    "ExecuteTime": {
     "end_time": "2025-05-13T10:10:28.267141Z",
     "start_time": "2025-05-13T10:10:17.865831Z"
    }
   },
   "cell_type": "code",
   "source": "test(unstructured_model)",
   "id": "14fc489d28dcbb5f",
   "outputs": [
    {
     "name": "stdout",
     "output_type": "stream",
     "text": [
      "Test Accuracy: 74.29%\n"
     ]
    },
    {
     "data": {
      "text/plain": [
       "74.29"
      ]
     },
     "execution_count": 35,
     "metadata": {},
     "output_type": "execute_result"
    }
   ],
   "execution_count": 35
  },
  {
   "metadata": {
    "ExecuteTime": {
     "end_time": "2025-05-13T10:10:29.713310Z",
     "start_time": "2025-05-13T10:10:29.708321Z"
    }
   },
   "cell_type": "code",
   "source": [
    "def count_nonzero_parameters(model):\n",
    "    total_nonzero = 0\n",
    "    for name, param in model.named_parameters():\n",
    "        if 'weight' in name:\n",
    "            total_nonzero += (param != 0).sum().item()\n",
    "    return total_nonzero"
   ],
   "id": "e122c301639763a2",
   "outputs": [],
   "execution_count": 36
  },
  {
   "metadata": {
    "ExecuteTime": {
     "end_time": "2025-05-13T10:10:31.299840Z",
     "start_time": "2025-05-13T10:10:31.294888Z"
    }
   },
   "cell_type": "code",
   "source": [
    "total, trainable = count_parameters(unstructured_model)\n",
    "\n",
    "print(f\"📦 Liczba wszystkich parametrów: {total}\")"
   ],
   "id": "98b326576e20cb5f",
   "outputs": [
    {
     "name": "stdout",
     "output_type": "stream",
     "text": [
      "📦 Liczba wszystkich parametrów: 1186986\n"
     ]
    }
   ],
   "execution_count": 37
  },
  {
   "metadata": {
    "ExecuteTime": {
     "end_time": "2025-05-13T10:10:38.435251Z",
     "start_time": "2025-05-13T10:10:38.424692Z"
    }
   },
   "cell_type": "code",
   "source": [
    "zeros_weight_count = count_nonzero_parameters(unstructured_model)\n",
    "print(f\"📦 Liczba niezerowych parametrów: {zeros_weight_count}\")"
   ],
   "id": "5e14bf565e1eaa14",
   "outputs": [
    {
     "name": "stdout",
     "output_type": "stream",
     "text": [
      "📦 Liczba niezerowych parametrów: 753565\n"
     ]
    }
   ],
   "execution_count": 38
  },
  {
   "metadata": {
    "ExecuteTime": {
     "end_time": "2025-05-13T10:10:40.187609Z",
     "start_time": "2025-05-13T10:10:40.082089Z"
    }
   },
   "cell_type": "code",
   "source": [
    "plt.plot(trainingEpoch_loss, label='train_loss')\n",
    "plt.plot(validationEpoch_loss,label='val_loss')\n",
    "plt.legend()\n",
    "plt.show()"
   ],
   "id": "e6317ab8a6932bb1",
   "outputs": [
    {
     "data": {
      "text/plain": [
       "<Figure size 640x480 with 1 Axes>"
      ],
      "image/png": "[encoded data removed]"
     },
     "metadata": {},
     "output_type": "display_data"
    }
   ],
   "execution_count": 39
  },
  {
   "metadata": {
    "ExecuteTime": {
     "end_time": "2025-05-13T10:10:44.880502Z",
     "start_time": "2025-05-13T10:10:44.862087Z"
    }
   },
   "cell_type": "code",
   "source": "torch.save(unstructured_model.state_dict(), \"../models/\" + \"unstructured_model\" + \".pt\")",
   "id": "7b433cd772b62cc6",
   "outputs": [],
   "execution_count": 40
  },
  {
   "metadata": {
    "ExecuteTime": {
     "end_time": "2025-05-13T10:10:46.206977Z",
     "start_time": "2025-05-13T10:10:46.201660Z"
    }
   },
   "cell_type": "code",
   "source": [
    "# === Structured pruning - kanały Conv2d ===\n",
    "def get_pruned_channels(conv_layer, amount):\n",
    "    weight = conv_layer.weight.detach().cpu()\n",
    "    norms = weight.view(weight.size(0), -1).norm(p=2, dim=1)\n",
    "    num_prune = int(amount * weight.size(0))\n",
    "    keep_indices = torch.argsort(norms)[num_prune:]\n",
    "    return keep_indices.tolist()"
   ],
   "id": "d020b48ffb24edf8",
   "outputs": [],
   "execution_count": 41
  },
  {
   "metadata": {
    "ExecuteTime": {
     "end_time": "2025-05-13T10:10:48.145241Z",
     "start_time": "2025-05-13T10:10:48.118416Z"
    }
   },
   "cell_type": "code",
   "source": [
    "# Pruning 50% kanałów pierwszej i drugiej warstwy konwolucyjnej\n",
    "keep1 = get_pruned_channels(model_base.features[0], amount=0.5)\n",
    "keep2 = get_pruned_channels(model_base.features[2], amount=0.5)\n",
    "structured_model = BaseNN(conv1_out=len(keep1), conv2_out= len(keep2)).to(device)"
   ],
   "id": "2f4c69f7c6c23016",
   "outputs": [],
   "execution_count": 42
  },
  {
   "metadata": {
    "ExecuteTime": {
     "end_time": "2025-05-13T10:15:22.313265Z",
     "start_time": "2025-05-13T10:10:51.090290Z"
    }
   },
   "cell_type": "code",
   "source": "trainingEpoch_loss, validationEpoch_loss = train(structured_model, epochs=10, learning_rate=0.001)",
   "id": "e07af6e15dea3e3c",
   "outputs": [
    {
     "name": "stdout",
     "output_type": "stream",
     "text": [
      "Epoch 1/10, Loss: 1.4144269971847534\n",
      "Epoch 2/10, Loss: 0.9745868720054627\n",
      "Epoch 3/10, Loss: 0.77206976313591\n",
      "Epoch 4/10, Loss: 0.6187857872009277\n",
      "Epoch 5/10, Loss: 0.4866355870962143\n",
      "Epoch 6/10, Loss: 0.3629067531108856\n",
      "Epoch 7/10, Loss: 0.2678003911137581\n",
      "Epoch 8/10, Loss: 0.19920517013072966\n",
      "Epoch 9/10, Loss: 0.1668464062511921\n",
      "Epoch 10/10, Loss: 0.14616774046421052\n"
     ]
    }
   ],
   "execution_count": 43
  },
  {
   "metadata": {
    "ExecuteTime": {
     "end_time": "2025-05-13T10:17:52.594645Z",
     "start_time": "2025-05-13T10:17:42.266030Z"
    }
   },
   "cell_type": "code",
   "source": "test(structured_model)",
   "id": "e863e215591da35d",
   "outputs": [
    {
     "name": "stdout",
     "output_type": "stream",
     "text": [
      "Test Accuracy: 70.84%\n"
     ]
    },
    {
     "data": {
      "text/plain": [
       "70.84"
      ]
     },
     "execution_count": 44,
     "metadata": {},
     "output_type": "execute_result"
    }
   ],
   "execution_count": 44
  },
  {
   "metadata": {
    "ExecuteTime": {
     "end_time": "2025-05-13T10:17:54.862317Z",
     "start_time": "2025-05-13T10:17:54.766862Z"
    }
   },
   "cell_type": "code",
   "source": [
    "plt.plot(trainingEpoch_loss, label='train_loss')\n",
    "plt.plot(validationEpoch_loss,label='val_loss')\n",
    "plt.legend()\n",
    "plt.show()"
   ],
   "id": "9c60c8bd7d7cf95",
   "outputs": [
    {
     "data": {
      "text/plain": [
       "<Figure size 640x480 with 1 Axes>"
      ],
      "image/png": "[encoded data removed]"
     },
     "metadata": {},
     "output_type": "display_data"
    }
   ],
   "execution_count": 45
  },
  {
   "metadata": {
    "ExecuteTime": {
     "end_time": "2025-05-13T10:17:59.269388Z",
     "start_time": "2025-05-13T10:17:59.253479Z"
    }
   },
   "cell_type": "code",
   "source": "torch.save(structured_model.state_dict(), \"../models/\" + \"structured_model\" + \".pt\")",
   "id": "6fe7b3d039fe20f6",
   "outputs": [],
   "execution_count": 46
  }
 ],
 "metadata": {
  "kernelspec": {
   "display_name": "Python 3",
   "language": "python",
   "name": "python3"
  },
  "language_info": {
   "codemirror_mode": {
    "name": "ipython",
    "version": 2
   },
   "file_extension": ".py",
   "mimetype": "text/x-python",
   "name": "python",
   "nbconvert_exporter": "python",
   "pygments_lexer": "ipython2",
   "version": "2.7.6"
  }
 },
 "nbformat": 4,
 "nbformat_minor": 5
}
