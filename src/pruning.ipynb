{
 "cells": [
  {
   "cell_type": "code",
   "id": "initial_id",
   "metadata": {
    "collapsed": true,
    "ExecuteTime": {
     "end_time": "2025-05-13T09:08:44.937731Z",
     "start_time": "2025-05-13T09:08:38.511558Z"
    }
   },
   "source": [
    "import copy\n",
    "\n",
    "import matplotlib.pyplot as plt\n",
    "import torch\n",
    "from torch.utils.data import DataLoader, random_split\n",
    "import torchvision\n",
    "import torch.nn as nn\n",
    "from torchvision.transforms import v2\n",
    "import multiprocessing\n",
    "import torch.nn.utils.prune as prune\n",
    "import torch.nn.functional as F\n"
   ],
   "outputs": [],
   "execution_count": 1
  },
  {
   "metadata": {
    "ExecuteTime": {
     "end_time": "2025-05-13T09:11:34.284540Z",
     "start_time": "2025-05-13T09:11:34.234323Z"
    }
   },
   "cell_type": "code",
   "source": "print(torch.cuda.is_available())",
   "id": "e0859d293dcf910d",
   "outputs": [
    {
     "name": "stdout",
     "output_type": "stream",
     "text": [
      "True\n"
     ]
    }
   ],
   "execution_count": 2
  },
  {
   "metadata": {
    "ExecuteTime": {
     "end_time": "2025-05-13T09:11:35.481205Z",
     "start_time": "2025-05-13T09:11:35.473168Z"
    }
   },
   "cell_type": "code",
   "source": [
    "# run variables\n",
    "\n",
    "seed = 42\n",
    "file_name = 'base_pruned'\n",
    "# file_name = 'student_self_taught'\n",
    "\n",
    "class BaseNN(nn.Module):\n",
    "    def __init__(self, conv1_out = 128, conv2_out = 64, conv3_out = 32, num_classes=10):\n",
    "        super(BaseNN, self).__init__()\n",
    "\n",
    "        ### teacher\n",
    "        self.features = nn.Sequential(\n",
    "            nn.Conv2d(3, conv1_out, kernel_size=3, padding=1),\n",
    "            nn.ReLU(),\n",
    "            nn.Conv2d(conv1_out, conv2_out, kernel_size=3, padding=1),\n",
    "            nn.ReLU(),\n",
    "            nn.MaxPool2d(kernel_size=2, stride=2),\n",
    "            nn.Conv2d(conv2_out, conv2_out, kernel_size=3, padding=1),\n",
    "            nn.ReLU(),\n",
    "            nn.Conv2d(conv2_out, conv3_out, kernel_size=3, padding=1),\n",
    "            nn.ReLU(),\n",
    "            nn.MaxPool2d(kernel_size=2, stride=2),\n",
    "        )\n",
    "        self.classifier = nn.Sequential(\n",
    "            nn.Linear(2048, 512),\n",
    "            nn.ReLU(),\n",
    "            nn.Dropout(0.1),\n",
    "            nn.Linear(512, num_classes)\n",
    "        )\n",
    "\n",
    "        ### student\n",
    "        # self.features = nn.Sequential(\n",
    "        #     nn.Conv2d(3, 16, kernel_size=3, padding=1),\n",
    "        #     nn.ReLU(),\n",
    "        #     nn.MaxPool2d(kernel_size=2, stride=2),\n",
    "        #     nn.Conv2d(16, 16, kernel_size=3, padding=1),\n",
    "        #     nn.ReLU(),\n",
    "        #     nn.MaxPool2d(kernel_size=2, stride=2),\n",
    "        # )\n",
    "        # self.classifier = nn.Sequential(\n",
    "        #     nn.Linear(1024, 256),\n",
    "        #     nn.ReLU(),\n",
    "        #     nn.Dropout(0.1),\n",
    "        #     nn.Linear(256, num_classes)\n",
    "        # )\n",
    "\n",
    "    def forward(self, x):\n",
    "        x = self.features(x)\n",
    "        x = torch.flatten(x, 1)\n",
    "        x = self.classifier(x)\n",
    "        return x"
   ],
   "id": "d4fcbd8c27e5803d",
   "outputs": [],
   "execution_count": 3
  },
  {
   "metadata": {
    "ExecuteTime": {
     "end_time": "2025-05-13T09:11:42.712914Z",
     "start_time": "2025-05-13T09:11:42.701587Z"
    }
   },
   "cell_type": "code",
   "source": [
    "# device settings\n",
    "\n",
    "num_workers = 2\n",
    "\n",
    "print(torch.cuda.get_device_name(torch.cuda.current_device()))\n",
    "\n",
    "#device = torch.accelerator.current_accelerator().type if torch.accelerator.is_available() else \"cpu\"\n",
    "\n",
    "device = \"cuda\" if torch.cuda.is_available() else \"cpu\"\n",
    "\n",
    "print(f\"Using {device} device\")"
   ],
   "id": "d38b3b647c6fcab6",
   "outputs": [
    {
     "name": "stdout",
     "output_type": "stream",
     "text": [
      "NVIDIA GeForce RTX 2060\n",
      "Using cuda device\n"
     ]
    }
   ],
   "execution_count": 4
  },
  {
   "metadata": {
    "ExecuteTime": {
     "end_time": "2025-05-13T09:11:45.909520Z",
     "start_time": "2025-05-13T09:11:44.454820Z"
    }
   },
   "cell_type": "code",
   "source": [
    "# define datasets and loaders\n",
    "\n",
    "transform = v2.Compose([\n",
    "    v2.ToImage(),\n",
    "    v2.ToDtype(torch.float32, scale=True),\n",
    "    v2.Normalize(mean=[0.485, 0.456, 0.406], std=[0.229, 0.224, 0.225]),\n",
    "])\n",
    "\n",
    "train_dataset = torchvision.datasets.CIFAR10(\"./../data\", train=True, transform=transform, download=True)\n",
    "test_dataset = torchvision.datasets.CIFAR10(\"./../data\", train=False, transform=transform, download=True)\n",
    "\n",
    "train_dataset, validation_dataset =  random_split(train_dataset, [0.8, 0.2])\n",
    "\n",
    "print('train set size:', len(train_dataset))\n",
    "print('validation set size:', len(validation_dataset))\n",
    "print('test set size:', len(test_dataset))\n",
    "\n",
    "train_loader = DataLoader(train_dataset, batch_size=64, shuffle=True, num_workers=num_workers)\n",
    "validation_loader = DataLoader(validation_dataset, batch_size=64, shuffle=True, num_workers=num_workers)\n",
    "test_loader = DataLoader(test_dataset, batch_size=64, shuffle=False, num_workers=num_workers)\n",
    "\n",
    "class_names = [\"airplane\", \"automobile\", \"bird\", \"cat\", \"deer\", \"dog\", \"frog\", \"horse\", \"ship\", \"truck\"]"
   ],
   "id": "24253639fd75c073",
   "outputs": [
    {
     "name": "stdout",
     "output_type": "stream",
     "text": [
      "Files already downloaded and verified\n",
      "Files already downloaded and verified\n",
      "train set size: 40000\n",
      "validation set size: 10000\n",
      "test set size: 10000\n"
     ]
    }
   ],
   "execution_count": 5
  },
  {
   "metadata": {
    "ExecuteTime": {
     "end_time": "2025-05-13T09:11:49.612079Z",
     "start_time": "2025-05-13T09:11:49.597937Z"
    }
   },
   "cell_type": "code",
   "source": [
    "def train(model, epochs, learning_rate):\n",
    "    trainingEpoch_loss = []\n",
    "    validationEpoch_loss = []\n",
    "    criterion = nn.CrossEntropyLoss()\n",
    "    optimizer = torch.optim.Adam(model.parameters(), lr=learning_rate)\n",
    "\n",
    "    for epoch in range(epochs):\n",
    "        # training\n",
    "        model.train()\n",
    "        running_loss = 0.0\n",
    "        for inputs, labels in train_loader:\n",
    "            inputs, labels = inputs.to(device), labels.to(device)\n",
    "\n",
    "            optimizer.zero_grad()\n",
    "            outputs = model(inputs)\n",
    "            loss = criterion(outputs, labels)\n",
    "            loss.backward()\n",
    "            optimizer.step()\n",
    "\n",
    "            running_loss += loss.item()\n",
    "\n",
    "        print(f\"Epoch {epoch+1}/{epochs}, Loss: {running_loss / len(train_loader)}\")\n",
    "        trainingEpoch_loss.append(running_loss / len(train_loader))\n",
    "\n",
    "        # validation\n",
    "        model.eval()\n",
    "        validation_loss = 0.0\n",
    "        for inputs, labels in validation_loader:\n",
    "            inputs, labels = inputs.to(device), labels.to(device)\n",
    "\n",
    "            outputs = model(inputs)\n",
    "            loss = criterion(outputs, labels)\n",
    "\n",
    "            validation_loss += loss.item()\n",
    "\n",
    "        validationEpoch_loss.append(validation_loss / len(validation_loader))\n",
    "\n",
    "    return trainingEpoch_loss, validationEpoch_loss"
   ],
   "id": "e01509899c40d22e",
   "outputs": [],
   "execution_count": 6
  },
  {
   "metadata": {
    "ExecuteTime": {
     "end_time": "2025-05-13T09:11:52.455863Z",
     "start_time": "2025-05-13T09:11:52.450611Z"
    }
   },
   "cell_type": "code",
   "source": [
    "def test(model):\n",
    "    model.eval()\n",
    "\n",
    "    correct = 0\n",
    "    total = 0\n",
    "\n",
    "    with torch.no_grad():\n",
    "        for inputs, labels in test_loader:\n",
    "            inputs, labels = inputs.to(device), labels.to(device)\n",
    "\n",
    "            outputs = model(inputs)\n",
    "            _, predicted = torch.max(outputs.data, 1)\n",
    "\n",
    "            total += labels.size(0)\n",
    "            correct += (predicted == labels).sum().item()\n",
    "\n",
    "    accuracy = 100 * correct / total\n",
    "    print(f\"Test Accuracy: {accuracy:.2f}%\")\n",
    "    return accuracy"
   ],
   "id": "619077d019e61ed4",
   "outputs": [],
   "execution_count": 7
  },
  {
   "metadata": {
    "ExecuteTime": {
     "end_time": "2025-05-13T09:11:56.819504Z",
     "start_time": "2025-05-13T09:11:56.678033Z"
    }
   },
   "cell_type": "code",
   "source": [
    "torch.manual_seed(seed)\n",
    "model_base = BaseNN(num_classes=10).to(device)\n"
   ],
   "id": "e4e3053f7ed533b",
   "outputs": [],
   "execution_count": 8
  },
  {
   "metadata": {
    "ExecuteTime": {
     "end_time": "2025-05-13T09:16:55.419309Z",
     "start_time": "2025-05-13T09:11:58.877749Z"
    }
   },
   "cell_type": "code",
   "source": "trainingEpoch_loss, validationEpoch_loss = train(model_base, epochs=10, learning_rate=0.001)",
   "id": "246d587409692b18",
   "outputs": [
    {
     "name": "stdout",
     "output_type": "stream",
     "text": [
      "Epoch 1/10, Loss: 1.3935775758743285\n",
      "Epoch 2/10, Loss: 0.9089925354957581\n",
      "Epoch 3/10, Loss: 0.7178989406585693\n",
      "Epoch 4/10, Loss: 0.5670861113548279\n",
      "Epoch 5/10, Loss: 0.4369517149209976\n",
      "Epoch 6/10, Loss: 0.32411869415044786\n",
      "Epoch 7/10, Loss: 0.2390675737321377\n",
      "Epoch 8/10, Loss: 0.19385855768918991\n",
      "Epoch 9/10, Loss: 0.1528088714286685\n",
      "Epoch 10/10, Loss: 0.13444784644395114\n"
     ]
    }
   ],
   "execution_count": 9
  },
  {
   "metadata": {
    "ExecuteTime": {
     "end_time": "2025-05-13T09:20:05.260078Z",
     "start_time": "2025-05-13T09:19:54.768359Z"
    }
   },
   "cell_type": "code",
   "source": "test(model_base)",
   "id": "278741bcf39770d2",
   "outputs": [
    {
     "name": "stdout",
     "output_type": "stream",
     "text": [
      "Test Accuracy: 74.16%\n"
     ]
    },
    {
     "data": {
      "text/plain": [
       "74.16"
      ]
     },
     "execution_count": 10,
     "metadata": {},
     "output_type": "execute_result"
    }
   ],
   "execution_count": 10
  },
  {
   "metadata": {
    "ExecuteTime": {
     "end_time": "2025-05-13T09:24:39.240249Z",
     "start_time": "2025-05-13T09:24:39.234794Z"
    }
   },
   "cell_type": "code",
   "source": [
    "def count_parameters(model):\n",
    "    total = sum(p.numel() for p in model.parameters())\n",
    "    trainable = sum(p.numel() for p in model.parameters() if p.requires_grad)\n",
    "    return total, trainable"
   ],
   "id": "4ca92656640e3a84",
   "outputs": [],
   "execution_count": 21
  },
  {
   "metadata": {
    "ExecuteTime": {
     "end_time": "2025-05-13T09:24:57.166870Z",
     "start_time": "2025-05-13T09:24:57.162753Z"
    }
   },
   "cell_type": "code",
   "source": [
    "total, trainable = count_parameters(model_base)\n",
    "\n",
    "print(f\"📦 Liczba wszystkich parametrów: {total}\")"
   ],
   "id": "923f9e0dad91478d",
   "outputs": [
    {
     "name": "stdout",
     "output_type": "stream",
     "text": [
      "📦 Liczba wszystkich parametrów: 1186986\n"
     ]
    }
   ],
   "execution_count": 23
  },
  {
   "metadata": {
    "ExecuteTime": {
     "end_time": "2025-05-13T09:20:07.386954Z",
     "start_time": "2025-05-13T09:20:07.227174Z"
    }
   },
   "cell_type": "code",
   "source": [
    "plt.plot(trainingEpoch_loss, label='train_loss')\n",
    "plt.plot(validationEpoch_loss,label='val_loss')\n",
    "plt.legend()\n",
    "plt.show()"
   ],
   "id": "247ceb18d9b692bb",
   "outputs": [
    {
     "data": {
      "text/plain": [
       "<Figure size 640x480 with 1 Axes>"
      ],
      "image/png": "[encoded data removed]"
     },
     "metadata": {},
     "output_type": "display_data"
    }
   ],
   "execution_count": 11
  },
  {
   "metadata": {
    "ExecuteTime": {
     "end_time": "2025-05-13T09:20:09.921825Z",
     "start_time": "2025-05-13T09:20:09.916691Z"
    }
   },
   "cell_type": "code",
   "source": [
    "# === Sparsity ===\n",
    "def calculate_sparsity(model):\n",
    "    zero, total = 0, 0\n",
    "    for p in model.parameters():\n",
    "        total += p.numel()\n",
    "        zero += (p == 0).sum().item()\n",
    "    return 100.0 * zero / total"
   ],
   "id": "6c82a287ac4193f7",
   "outputs": [],
   "execution_count": 12
  },
  {
   "metadata": {
    "ExecuteTime": {
     "end_time": "2025-05-13T13:56:46.307127Z",
     "start_time": "2025-05-13T13:56:46.224544Z"
    }
   },
   "cell_type": "code",
   "source": [
    "# === Unstructured pruning ===\n",
    "unstructured_model = copy.deepcopy(model_base)\n",
    "prune.l1_unstructured(unstructured_model.classifier[0], name='weight', amount=0.9)\n",
    "prune.l1_unstructured(unstructured_model.classifier[3], name='weight', amount=0.9)\n",
    "\n",
    "prune.l1_unstructured(unstructured_model.features[0], name='weight', amount=0.9)\n",
    "prune.l1_unstructured(unstructured_model.features[2], name='weight', amount=0.9)\n"
   ],
   "id": "cb8c02e41689d424",
   "outputs": [
    {
     "data": {
      "text/plain": [
       "Conv2d(128, 64, kernel_size=(3, 3), stride=(1, 1), padding=(1, 1))"
      ]
     },
     "execution_count": 72,
     "metadata": {},
     "output_type": "execute_result"
    }
   ],
   "execution_count": 72
  },
  {
   "metadata": {
    "ExecuteTime": {
     "end_time": "2025-05-13T13:59:17.931120Z",
     "start_time": "2025-05-13T13:56:48.391987Z"
    }
   },
   "cell_type": "code",
   "source": "trainingEpoch_loss, validationEpoch_loss = train(unstructured_model, epochs=5, learning_rate=0.0001)",
   "id": "fbca733fe5bf77e5",
   "outputs": [
    {
     "name": "stdout",
     "output_type": "stream",
     "text": [
      "Epoch 1/5, Loss: 1.5071732011795045\n",
      "Epoch 2/5, Loss: 0.8564978482246399\n",
      "Epoch 3/5, Loss: 0.7025823557376861\n",
      "Epoch 4/5, Loss: 0.6255858516216278\n",
      "Epoch 5/5, Loss: 0.5689669598579407\n"
     ]
    }
   ],
   "execution_count": 73
  },
  {
   "metadata": {
    "ExecuteTime": {
     "end_time": "2025-05-13T13:59:29.308772Z",
     "start_time": "2025-05-13T13:59:19.245126Z"
    }
   },
   "cell_type": "code",
   "source": "test(unstructured_model)",
   "id": "14fc489d28dcbb5f",
   "outputs": [
    {
     "name": "stdout",
     "output_type": "stream",
     "text": [
      "Test Accuracy: 69.25%\n"
     ]
    },
    {
     "data": {
      "text/plain": [
       "69.25"
      ]
     },
     "execution_count": 74,
     "metadata": {},
     "output_type": "execute_result"
    }
   ],
   "execution_count": 74
  },
  {
   "metadata": {
    "ExecuteTime": {
     "end_time": "2025-05-13T13:59:31.048454Z",
     "start_time": "2025-05-13T13:59:31.037346Z"
    }
   },
   "cell_type": "code",
   "source": [
    "def count_nonzero_parameters(model):\n",
    "    total_nonzero = 0\n",
    "    for name, param in model.named_parameters():\n",
    "        if 'weight' in name:\n",
    "            total_nonzero += (param != 0).sum().item()\n",
    "    return total_nonzero"
   ],
   "id": "e122c301639763a2",
   "outputs": [],
   "execution_count": 75
  },
  {
   "metadata": {
    "ExecuteTime": {
     "end_time": "2025-05-13T13:45:10.017271Z",
     "start_time": "2025-05-13T13:45:10.010425Z"
    }
   },
   "cell_type": "code",
   "source": [
    "total, trainable = count_parameters(unstructured_model)\n",
    "\n",
    "print(f\"📦 Liczba wszystkich parametrów: {total}\")"
   ],
   "id": "98b326576e20cb5f",
   "outputs": [
    {
     "name": "stdout",
     "output_type": "stream",
     "text": [
      "📦 Liczba wszystkich parametrów: 1186986\n"
     ]
    }
   ],
   "execution_count": 53
  },
  {
   "metadata": {
    "ExecuteTime": {
     "end_time": "2025-05-13T13:45:11.200384Z",
     "start_time": "2025-05-13T13:45:11.180253Z"
    }
   },
   "cell_type": "code",
   "source": [
    "zeros_weight_count = count_nonzero_parameters(unstructured_model)\n",
    "print(f\"📦 Liczba niezerowych parametrów: {zeros_weight_count}\")"
   ],
   "id": "5e14bf565e1eaa14",
   "outputs": [
    {
     "name": "stdout",
     "output_type": "stream",
     "text": [
      "📦 Liczba niezerowych parametrów: 754819\n"
     ]
    }
   ],
   "execution_count": 54
  },
  {
   "metadata": {
    "ExecuteTime": {
     "end_time": "2025-05-13T13:59:32.910219Z",
     "start_time": "2025-05-13T13:59:32.807389Z"
    }
   },
   "cell_type": "code",
   "source": [
    "plt.plot(trainingEpoch_loss, label='train_loss')\n",
    "plt.plot(validationEpoch_loss,label='val_loss')\n",
    "plt.legend()\n",
    "plt.show()"
   ],
   "id": "e6317ab8a6932bb1",
   "outputs": [
    {
     "data": {
      "text/plain": [
       "<Figure size 640x480 with 1 Axes>"
      ],
      "image/png": "[encoded data removed]"
     },
     "metadata": {},
     "output_type": "display_data"
    }
   ],
   "execution_count": 76
  },
  {
   "metadata": {
    "ExecuteTime": {
     "end_time": "2025-05-13T14:00:06.932086Z",
     "start_time": "2025-05-13T14:00:06.908571Z"
    }
   },
   "cell_type": "code",
   "source": "torch.save(unstructured_model.state_dict(), \"../models/\" + \"unstructured_model\" + \".pt\")",
   "id": "7b433cd772b62cc6",
   "outputs": [],
   "execution_count": 77
  },
  {
   "metadata": {
    "ExecuteTime": {
     "end_time": "2025-05-13T14:00:08.379969Z",
     "start_time": "2025-05-13T14:00:08.375339Z"
    }
   },
   "cell_type": "code",
   "source": [
    "# === Structured pruning - kanały Conv2d ===\n",
    "def get_pruned_channels(conv_layer, amount):\n",
    "    weight = conv_layer.weight.detach().cpu()\n",
    "    norms = weight.view(weight.size(0), -1).norm(p=2, dim=1)\n",
    "    num_prune = int(amount * weight.size(0))\n",
    "    keep_indices = torch.argsort(norms)[num_prune:]\n",
    "    return keep_indices.tolist()"
   ],
   "id": "d020b48ffb24edf8",
   "outputs": [],
   "execution_count": 78
  },
  {
   "metadata": {
    "ExecuteTime": {
     "end_time": "2025-05-13T14:00:20.009494Z",
     "start_time": "2025-05-13T14:00:19.968943Z"
    }
   },
   "cell_type": "code",
   "source": [
    "# Pruning 50% kanałów pierwszej i drugiej warstwy konwolucyjnej\n",
    "keep1 = get_pruned_channels(model_base.features[0], amount=0.6)\n",
    "keep2 = get_pruned_channels(model_base.features[2], amount=0.6)\n",
    "structured_model = BaseNN(conv1_out=len(keep1), conv2_out= len(keep2)).to(device)"
   ],
   "id": "2f4c69f7c6c23016",
   "outputs": [],
   "execution_count": 79
  },
  {
   "metadata": {
    "ExecuteTime": {
     "end_time": "2025-05-13T14:02:49.687732Z",
     "start_time": "2025-05-13T14:00:25.427103Z"
    }
   },
   "cell_type": "code",
   "source": "trainingEpoch_loss, validationEpoch_loss = train(structured_model, epochs=5, learning_rate=0.001)",
   "id": "e07af6e15dea3e3c",
   "outputs": [
    {
     "name": "stdout",
     "output_type": "stream",
     "text": [
      "Epoch 1/5, Loss: 1.4240591919898986\n",
      "Epoch 2/5, Loss: 0.9914686311721802\n",
      "Epoch 3/5, Loss: 0.7827530177116394\n",
      "Epoch 4/5, Loss: 0.6339201741695404\n",
      "Epoch 5/5, Loss: 0.4918081557512283\n"
     ]
    }
   ],
   "execution_count": 80
  },
  {
   "metadata": {
    "ExecuteTime": {
     "end_time": "2025-05-13T14:03:04.289734Z",
     "start_time": "2025-05-13T14:02:53.783947Z"
    }
   },
   "cell_type": "code",
   "source": "test(structured_model)",
   "id": "e863e215591da35d",
   "outputs": [
    {
     "name": "stdout",
     "output_type": "stream",
     "text": [
      "Test Accuracy: 72.11%\n"
     ]
    },
    {
     "data": {
      "text/plain": [
       "72.11"
      ]
     },
     "execution_count": 81,
     "metadata": {},
     "output_type": "execute_result"
    }
   ],
   "execution_count": 81
  },
  {
   "metadata": {
    "ExecuteTime": {
     "end_time": "2025-05-13T14:03:10.509562Z",
     "start_time": "2025-05-13T14:03:10.397806Z"
    }
   },
   "cell_type": "code",
   "source": [
    "plt.plot(trainingEpoch_loss, label='train_loss')\n",
    "plt.plot(validationEpoch_loss,label='val_loss')\n",
    "plt.legend()\n",
    "plt.show()"
   ],
   "id": "9c60c8bd7d7cf95",
   "outputs": [
    {
     "data": {
      "text/plain": [
       "<Figure size 640x480 with 1 Axes>"
      ],
      "image/png": "[encoded data removed]"
     },
     "metadata": {},
     "output_type": "display_data"
    }
   ],
   "execution_count": 82
  },
  {
   "metadata": {
    "ExecuteTime": {
     "end_time": "2025-05-13T10:17:59.269388Z",
     "start_time": "2025-05-13T10:17:59.253479Z"
    }
   },
   "cell_type": "code",
   "source": "torch.save(structured_model.state_dict(), \"../models/\" + \"structured_model\" + \".pt\")",
   "id": "6fe7b3d039fe20f6",
   "outputs": [],
   "execution_count": 46
  }
 ],
 "metadata": {
  "kernelspec": {
   "display_name": "Python 3",
   "language": "python",
   "name": "python3"
  },
  "language_info": {
   "codemirror_mode": {
    "name": "ipython",
    "version": 2
   },
   "file_extension": ".py",
   "mimetype": "text/x-python",
   "name": "python",
   "nbconvert_exporter": "python",
   "pygments_lexer": "ipython2",
   "version": "2.7.6"
  }
 },
 "nbformat": 4,
 "nbformat_minor": 5
}
