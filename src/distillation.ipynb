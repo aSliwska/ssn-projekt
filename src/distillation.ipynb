{
 "cells": [
  {
   "cell_type": "code",
   "execution_count": 15,
   "id": "5d2dc402",
   "metadata": {},
   "outputs": [],
   "source": [
    "import matplotlib.pyplot as plt\n",
    "import torch\n",
    "from torch.utils.data import DataLoader, random_split\n",
    "from torchvision.datasets import CIFAR10\n",
    "import torch.nn as nn\n",
    "from torchvision.transforms import v2\n",
    "import multiprocessing\n"
   ]
  },
  {
   "cell_type": "code",
   "execution_count": 16,
   "id": "f307c59f",
   "metadata": {},
   "outputs": [],
   "source": [
    "# run variables\n",
    "\n",
    "seed = 42\n",
    "epochs = 100\n",
    "model_teacher_name = 'base2'\n",
    "model_save_name = 'student2'"
   ]
  },
  {
   "cell_type": "code",
   "execution_count": 17,
   "id": "7a475559",
   "metadata": {},
   "outputs": [
    {
     "name": "stdout",
     "output_type": "stream",
     "text": [
      "AMD Radeon RX 7800 XT\n",
      "Using cuda device\n"
     ]
    }
   ],
   "source": [
    "# device settings\n",
    "\n",
    "num_workers = multiprocessing.cpu_count() // 2\n",
    "\n",
    "print(torch.cuda.get_device_name(torch.cuda.current_device()))\n",
    "\n",
    "device = torch.accelerator.current_accelerator().type if torch.accelerator.is_available() else \"cpu\"\n",
    "print(f\"Using {device} device\")"
   ]
  },
  {
   "cell_type": "code",
   "execution_count": 18,
   "id": "e57cdc63",
   "metadata": {},
   "outputs": [
    {
     "name": "stdout",
     "output_type": "stream",
     "text": [
      "train set size: 40000\n",
      "validation set size: 10000\n",
      "test set size: 10000\n"
     ]
    }
   ],
   "source": [
    "# define datasets and loaders\n",
    "\n",
    "transform = v2.Compose([\n",
    "    v2.ToImage(),\n",
    "    v2.ToDtype(torch.float32, scale=True),\n",
    "    v2.Normalize(mean=[0.485, 0.456, 0.406], std=[0.229, 0.224, 0.225]),\n",
    "])\n",
    "\n",
    "train_dataset = CIFAR10(\"./../data\", train=True, transform=transform, download=True)\n",
    "test_dataset = CIFAR10(\"./../data\", train=False, transform=transform, download=True)\n",
    "\n",
    "train_dataset, validation_dataset =  random_split(train_dataset, [0.8, 0.2])\n",
    "\n",
    "print('train set size:', len(train_dataset))\n",
    "print('validation set size:', len(validation_dataset))\n",
    "print('test set size:', len(test_dataset))\n",
    "\n",
    "train_loader = DataLoader(train_dataset, batch_size=128, shuffle=True, num_workers=num_workers)\n",
    "validation_loader = DataLoader(validation_dataset, batch_size=128, shuffle=True, num_workers=num_workers)\n",
    "test_loader = DataLoader(test_dataset, batch_size=128, shuffle=False, num_workers=num_workers)\n",
    "\n",
    "class_names = [\"airplane\", \"automobile\", \"bird\", \"cat\", \"deer\", \"dog\", \"frog\", \"horse\", \"ship\", \"truck\"]"
   ]
  },
  {
   "cell_type": "code",
   "execution_count": null,
   "id": "fb4488f2",
   "metadata": {},
   "outputs": [],
   "source": [
    "class BaseNN(nn.Module):\n",
    "    def __init__(self, num_classes=10):\n",
    "        super(BaseNN, self).__init__()\n",
    "        self.features = nn.Sequential( # [3, 32, 32]\n",
    "            nn.Conv2d(3, 32, kernel_size=3, padding=1), # [32, 32, 32]\n",
    "            nn.ReLU(),\n",
    "            nn.Conv2d(32, 32, kernel_size=3, padding=1), # [32, 32, 32]\n",
    "            nn.ReLU(),\n",
    "            nn.MaxPool2d(kernel_size=2, stride=2), # [32, 16, 16]\n",
    "            nn.Dropout(0.3),\n",
    "\n",
    "            nn.Conv2d(32, 64, kernel_size=3, padding=1), # [64, 16, 16]\n",
    "            nn.ReLU(),\n",
    "            nn.Conv2d(64, 64, kernel_size=3, padding=1), # [64, 16, 16]\n",
    "            nn.ReLU(),\n",
    "            nn.Dropout(0.2),\n",
    "            nn.MaxPool2d(kernel_size=2, stride=2), # [64, 8, 8]\n",
    "            nn.Dropout(0.3),\n",
    "\n",
    "            nn.Conv2d(64, 128, kernel_size=3, padding=1), # [128, 8, 8]\n",
    "            nn.ReLU(),\n",
    "            nn.Dropout(0.3),\n",
    "            nn.Conv2d(128, 128, kernel_size=3, padding=1), # [128, 8, 8]\n",
    "            nn.ReLU(),\n",
    "            nn.Dropout(0.3),\n",
    "            nn.Conv2d(128, 128, kernel_size=3, padding=1), # [128, 8, 8]\n",
    "            nn.ReLU(),\n",
    "            nn.Dropout(0.3),\n",
    "            nn.MaxPool2d(kernel_size=2, stride=2), # [128, 4, 4]\n",
    "            nn.Dropout(0.3),\n",
    "        )\n",
    "        self.classifier = nn.Sequential(\n",
    "            nn.Linear(128*4*4, 256),\n",
    "            nn.ReLU(),\n",
    "            nn.Dropout(0.3),\n",
    "            nn.Linear(256, num_classes)\n",
    "        )\n",
    "\n",
    "    def forward(self, x):\n",
    "        x = self.features(x)\n",
    "        x = torch.flatten(x, 1)\n",
    "        x = self.classifier(x)\n",
    "        return x"
   ]
  },
  {
   "cell_type": "code",
   "execution_count": null,
   "id": "03d8156d",
   "metadata": {},
   "outputs": [],
   "source": [
    "class StudentNN(nn.Module):\n",
    "    def __init__(self, num_classes=10):\n",
    "        super(StudentNN, self).__init__()\n",
    "        self.features = nn.Sequential(\n",
    "            nn.Conv2d(3, 16, kernel_size=3, padding=1),\n",
    "            nn.ReLU(),\n",
    "            nn.MaxPool2d(kernel_size=2, stride=2),\n",
    "            nn.Dropout(0.2),\n",
    "\n",
    "            nn.Conv2d(16, 32, kernel_size=3, padding=1),\n",
    "            nn.ReLU(),\n",
    "            nn.MaxPool2d(kernel_size=2, stride=2),\n",
    "            nn.Dropout(0.2),\n",
    "\n",
    "            nn.Conv2d(32, 64, kernel_size=3, padding=1),\n",
    "            nn.ReLU(),\n",
    "            nn.MaxPool2d(kernel_size=2, stride=2),\n",
    "            nn.Dropout(0.2),\n",
    "        )\n",
    "        self.classifier = nn.Sequential(\n",
    "            nn.Linear(64*4*4, 128),\n",
    "            nn.ReLU(),\n",
    "            nn.Dropout(0.2),\n",
    "            nn.Linear(128, num_classes)\n",
    "        )\n",
    "\n",
    "    def forward(self, x):\n",
    "        x = self.features(x)\n",
    "        x = torch.flatten(x, 1)\n",
    "        x = self.classifier(x)\n",
    "        return x"
   ]
  },
  {
   "cell_type": "code",
   "execution_count": 21,
   "id": "927a8bef",
   "metadata": {},
   "outputs": [],
   "source": [
    "model_teacher = BaseNN(num_classes=10).to(device)\n",
    "model_teacher.load_state_dict(torch.load(\"../models/\"+model_teacher_name+\".pt\"))\n",
    "model_teacher.eval()\n",
    "\n",
    "torch.manual_seed(seed)\n",
    "model_student = StudentNN(num_classes=10).to(device)"
   ]
  },
  {
   "cell_type": "code",
   "execution_count": 22,
   "id": "afdd866b",
   "metadata": {},
   "outputs": [
    {
     "name": "stdout",
     "output_type": "stream",
     "text": [
      "model_teacher parameters: 961,706\n",
      "model_student parameters: 156,074\n",
      "Student's feature extractor output shape:  torch.Size([128, 64, 4, 4])\n",
      "Teacher's feature extractor output shape:  torch.Size([128, 128, 4, 4])\n"
     ]
    }
   ],
   "source": [
    "# print important network parameters\n",
    "\n",
    "total_params_base = \"{:,}\".format(sum(p.numel() for p in model_teacher.parameters()))\n",
    "total_params_student = \"{:,}\".format(sum(p.numel() for p in model_student.parameters()))\n",
    "print(f\"model_teacher parameters: {total_params_base}\")\n",
    "print(f\"model_student parameters: {total_params_student}\")\n",
    "\n",
    "for inputs, labels in test_loader:\n",
    "    inputs, labels = inputs.to(device), labels.to(device)\n",
    "    \n",
    "    with torch.no_grad():\n",
    "        outputs = model_teacher(inputs)\n",
    "        \n",
    "    features_student = model_student.features(inputs)\n",
    "    features_teacher = model_teacher.features(inputs)\n",
    "    break\n",
    "\n",
    "print(\"Student's feature extractor output shape: \", features_student.shape)\n",
    "print(\"Teacher's feature extractor output shape: \", features_teacher.shape)"
   ]
  },
  {
   "cell_type": "code",
   "execution_count": null,
   "id": "78f538e7",
   "metadata": {},
   "outputs": [],
   "source": [
    "def train(teacher, student, epochs, learning_rate, teaching_weight, T):\n",
    "    trainingEpoch_loss = []\n",
    "    validationEpoch_loss = []\n",
    "    ce_loss = nn.CrossEntropyLoss()\n",
    "    optimizer = torch.optim.Adam(student.parameters(), lr=learning_rate)\n",
    "\n",
    "    teacher.eval()\n",
    "\n",
    "    for epoch in range(epochs):\n",
    "        # training\n",
    "        student.train()\n",
    "        running_loss = 0.0\n",
    "        for inputs, labels in train_loader:\n",
    "            inputs, labels = inputs.to(device), labels.to(device)\n",
    "\n",
    "            optimizer.zero_grad()\n",
    "\n",
    "            with torch.no_grad():\n",
    "                teacher_output = teacher(inputs)\n",
    "\n",
    "            student_output = student(inputs)\n",
    "\n",
    "            teacher_output_softmax = nn.functional.softmax(teacher_output / T, dim=-1)\n",
    "            student_output_softmax = nn.functional.log_softmax(student_output / T, dim=-1)\n",
    "\n",
    "            teaching_loss = torch.sum(teacher_output_softmax * (teacher_output_softmax.log() - student_output_softmax)) / student_output_softmax.size()[0] * (T**2)\n",
    "            self_teaching_loss = ce_loss(student_output, labels)\n",
    "\n",
    "            loss = teaching_weight * teaching_loss + (1. - teaching_weight) * self_teaching_loss\n",
    "\n",
    "            loss.backward()\n",
    "            optimizer.step()\n",
    "\n",
    "            running_loss += loss.item()\n",
    "\n",
    "        print(f\"Epoch {epoch+1}/{epochs}, Loss: {running_loss / len(train_loader)}\")\n",
    "        trainingEpoch_loss.append(running_loss / len(train_loader))\n",
    "    \n",
    "        # validation\n",
    "        student.eval()\n",
    "        validation_loss = 0.0\n",
    "        for inputs, labels in validation_loader:\n",
    "            inputs, labels = inputs.to(device), labels.to(device)\n",
    "            \n",
    "            with torch.no_grad():\n",
    "                teacher_output = teacher(inputs)\n",
    "\n",
    "            student_output = student(inputs)\n",
    "\n",
    "            teacher_output_softmax = nn.functional.softmax(teacher_output / T, dim=-1)\n",
    "            student_output_softmax = nn.functional.log_softmax(student_output / T, dim=-1)\n",
    "\n",
    "            teaching_loss = torch.sum(teacher_output_softmax * (teacher_output_softmax.log() - student_output_softmax)) / student_output_softmax.size()[0] * (T**2)\n",
    "            self_teaching_loss = ce_loss(student_output, labels)\n",
    "\n",
    "            loss = teaching_weight * teaching_loss + (1. - teaching_weight) * self_teaching_loss\n",
    "\n",
    "            validation_loss += loss.item()\n",
    "\n",
    "        validationEpoch_loss.append(validation_loss / len(validation_loader))\n",
    "        \n",
    "    return trainingEpoch_loss, validationEpoch_loss"
   ]
  },
  {
   "cell_type": "code",
   "execution_count": null,
   "id": "f3b767fa",
   "metadata": {},
   "outputs": [
    {
     "name": "stdout",
     "output_type": "stream",
     "text": [
      "Epoch 1/100, Loss: 2.549817205617984\n",
      "Epoch 2/100, Loss: 1.7906333573710043\n",
      "Epoch 3/100, Loss: 1.5347348082179841\n",
      "Epoch 4/100, Loss: 1.3634908747749206\n",
      "Epoch 5/100, Loss: 1.2426743855872475\n",
      "Epoch 6/100, Loss: 1.1313435391496165\n",
      "Epoch 7/100, Loss: 1.0625793419706935\n",
      "Epoch 8/100, Loss: 0.9956131061425986\n",
      "Epoch 9/100, Loss: 0.9416200274857469\n",
      "Epoch 10/100, Loss: 0.904500311746384\n",
      "Epoch 11/100, Loss: 0.8645537114752748\n",
      "Epoch 12/100, Loss: 0.8362995738419481\n",
      "Epoch 13/100, Loss: 0.8077035555824305\n",
      "Epoch 14/100, Loss: 0.786362679621663\n",
      "Epoch 15/100, Loss: 0.7699867789737713\n",
      "Epoch 16/100, Loss: 0.7469107125894711\n",
      "Epoch 17/100, Loss: 0.7373254600043495\n",
      "Epoch 18/100, Loss: 0.7356115274916822\n",
      "Epoch 19/100, Loss: 0.7206648302535279\n",
      "Epoch 20/100, Loss: 0.6985796362447282\n",
      "Epoch 21/100, Loss: 0.6953719425886965\n",
      "Epoch 22/100, Loss: 0.6831525385189361\n",
      "Epoch 23/100, Loss: 0.6794747479807455\n",
      "Epoch 24/100, Loss: 0.6757023953401242\n",
      "Epoch 25/100, Loss: 0.6696319730517963\n",
      "Epoch 26/100, Loss: 0.6629218135398036\n",
      "Epoch 27/100, Loss: 0.6556194611250783\n",
      "Epoch 28/100, Loss: 0.6521636172414969\n",
      "Epoch 29/100, Loss: 0.6412138965564033\n",
      "Epoch 30/100, Loss: 0.6400528429224849\n",
      "Epoch 31/100, Loss: 0.6386432175438244\n",
      "Epoch 32/100, Loss: 0.6287014050224718\n",
      "Epoch 33/100, Loss: 0.6313985014875857\n",
      "Epoch 34/100, Loss: 0.6260954241592663\n",
      "Epoch 35/100, Loss: 0.6192022235439227\n",
      "Epoch 36/100, Loss: 0.6199257209087713\n",
      "Epoch 37/100, Loss: 0.6136361632865077\n",
      "Epoch 38/100, Loss: 0.6097009859907742\n",
      "Epoch 39/100, Loss: 0.609120174623526\n",
      "Epoch 40/100, Loss: 0.6061316832376364\n",
      "Epoch 41/100, Loss: 0.6029301165772704\n",
      "Epoch 42/100, Loss: 0.5974769104783908\n",
      "Epoch 43/100, Loss: 0.5956628423529311\n",
      "Epoch 44/100, Loss: 0.5937495949550178\n",
      "Epoch 45/100, Loss: 0.5941616759513514\n",
      "Epoch 46/100, Loss: 0.5940971584937063\n",
      "Epoch 47/100, Loss: 0.5914164914871557\n",
      "Epoch 48/100, Loss: 0.5849997563103136\n",
      "Epoch 49/100, Loss: 0.5852946560984602\n",
      "Epoch 50/100, Loss: 0.58422729687188\n",
      "Epoch 51/100, Loss: 0.5879598259925842\n",
      "Epoch 52/100, Loss: 0.5767739546565583\n",
      "Epoch 53/100, Loss: 0.5769750738677125\n",
      "Epoch 54/100, Loss: 0.5766604825521049\n",
      "Epoch 55/100, Loss: 0.5763951572366416\n",
      "Epoch 56/100, Loss: 0.5782630485467637\n",
      "Epoch 57/100, Loss: 0.5754385316333832\n",
      "Epoch 58/100, Loss: 0.5695057477052219\n",
      "Epoch 59/100, Loss: 0.5742670525186739\n",
      "Epoch 60/100, Loss: 0.5736145394297835\n",
      "Epoch 61/100, Loss: 0.5749041406681743\n",
      "Epoch 62/100, Loss: 0.5641860137351404\n",
      "Epoch 63/100, Loss: 0.5654355563675634\n",
      "Epoch 64/100, Loss: 0.5636040927312626\n",
      "Epoch 65/100, Loss: 0.5642143905924532\n",
      "Epoch 66/100, Loss: 0.5627099331765891\n",
      "Epoch 67/100, Loss: 0.5558359743878484\n",
      "Epoch 68/100, Loss: 0.5578253279669216\n",
      "Epoch 69/100, Loss: 0.5578283939879543\n",
      "Epoch 70/100, Loss: 0.5560272506441171\n",
      "Epoch 71/100, Loss: 0.5628252667360032\n",
      "Epoch 72/100, Loss: 0.5586971867198761\n",
      "Epoch 73/100, Loss: 0.5534429036009426\n",
      "Epoch 74/100, Loss: 0.5587722978081566\n",
      "Epoch 75/100, Loss: 0.5501119986700174\n",
      "Epoch 76/100, Loss: 0.5536443072195631\n",
      "Epoch 77/100, Loss: 0.553726327400238\n",
      "Epoch 78/100, Loss: 0.5492201057105018\n",
      "Epoch 79/100, Loss: 0.5529812308736503\n",
      "Epoch 80/100, Loss: 0.5539697776206385\n",
      "Epoch 81/100, Loss: 0.550026464195678\n",
      "Epoch 82/100, Loss: 0.5507296582761283\n",
      "Epoch 83/100, Loss: 0.5493476766938219\n",
      "Epoch 84/100, Loss: 0.5498672129627996\n",
      "Epoch 85/100, Loss: 0.5472366008133934\n",
      "Epoch 86/100, Loss: 0.5503781606404545\n",
      "Epoch 87/100, Loss: 0.5438047754117095\n",
      "Epoch 88/100, Loss: 0.5460792928458021\n",
      "Epoch 89/100, Loss: 0.5435988226066382\n",
      "Epoch 90/100, Loss: 0.5396398085946092\n",
      "Epoch 91/100, Loss: 0.5410820598990772\n",
      "Epoch 92/100, Loss: 0.5447832280264114\n",
      "Epoch 93/100, Loss: 0.5435102452485325\n",
      "Epoch 94/100, Loss: 0.5430436545667557\n",
      "Epoch 95/100, Loss: 0.5407098499349893\n",
      "Epoch 96/100, Loss: 0.5404072499122864\n",
      "Epoch 97/100, Loss: 0.536235865026998\n",
      "Epoch 98/100, Loss: 0.5392462323648861\n",
      "Epoch 99/100, Loss: 0.5362250922967832\n",
      "Epoch 100/100, Loss: 0.5425217745783991\n"
     ]
    }
   ],
   "source": [
    "trainingEpoch_loss, validationEpoch_loss = train(teacher=model_teacher, student=model_student, epochs=epochs, learning_rate=0.001, teaching_weight=0.8, T=2.)"
   ]
  },
  {
   "cell_type": "markdown",
   "id": "330c56a0",
   "metadata": {},
   "source": [
    "3m 53s"
   ]
  },
  {
   "cell_type": "code",
   "execution_count": 25,
   "id": "c8ef343f",
   "metadata": {},
   "outputs": [],
   "source": [
    "torch.save(model_student.state_dict(), \"../models/\"+model_save_name+\".pt\")"
   ]
  },
  {
   "cell_type": "code",
   "execution_count": 26,
   "id": "e8523d04",
   "metadata": {},
   "outputs": [],
   "source": [
    "def test(model):\n",
    "    model.eval()\n",
    "\n",
    "    correct = 0\n",
    "    total = 0\n",
    "\n",
    "    with torch.no_grad():\n",
    "        for inputs, labels in test_loader:\n",
    "            inputs, labels = inputs.to(device), labels.to(device)\n",
    "\n",
    "            outputs = model(inputs)\n",
    "            _, predicted = torch.max(outputs.data, 1)\n",
    "\n",
    "            total += labels.size(0)\n",
    "            correct += (predicted == labels).sum().item()\n",
    "\n",
    "    accuracy = 100 * correct / total\n",
    "    print(f\"Test Accuracy: {accuracy:.2f}%\")\n",
    "    return accuracy"
   ]
  },
  {
   "cell_type": "code",
   "execution_count": 27,
   "id": "98e754aa",
   "metadata": {},
   "outputs": [
    {
     "name": "stdout",
     "output_type": "stream",
     "text": [
      "Test Accuracy: 77.05%\n"
     ]
    },
    {
     "data": {
      "text/plain": [
       "77.05"
      ]
     },
     "execution_count": 27,
     "metadata": {},
     "output_type": "execute_result"
    }
   ],
   "source": [
    "test(model_student)"
   ]
  },
  {
   "cell_type": "code",
   "execution_count": 28,
   "id": "3f493231",
   "metadata": {},
   "outputs": [
    {
     "data": {
      "image/png": "[encoded data removed]",
      "text/plain": [
       "<Figure size 640x480 with 1 Axes>"
      ]
     },
     "metadata": {},
     "output_type": "display_data"
    }
   ],
   "source": [
    "plt.plot(trainingEpoch_loss, label='train_loss')\n",
    "plt.plot(validationEpoch_loss,label='val_loss')\n",
    "plt.legend()\n",
    "# plt.ylim(top=2)\n",
    "plt.show()"
   ]
  }
 ],
 "metadata": {
  "kernelspec": {
   "display_name": "Python 3",
   "language": "python",
   "name": "python3"
  },
  "language_info": {
   "codemirror_mode": {
    "name": "ipython",
    "version": 3
   },
   "file_extension": ".py",
   "mimetype": "text/x-python",
   "name": "python",
   "nbconvert_exporter": "python",
   "pygments_lexer": "ipython3",
   "version": "3.13.3"
  }
 },
 "nbformat": 4,
 "nbformat_minor": 5
}
