{
 "cells": [
  {
   "cell_type": "code",
   "execution_count": null,
   "id": "5d2dc402",
   "metadata": {},
   "outputs": [],
   "source": [
    "import matplotlib.pyplot as plt\n",
    "import torch\n",
    "from torch.utils.data import DataLoader, random_split\n",
    "from torchvision.datasets import CIFAR10\n",
    "import torch.nn as nn\n",
    "from torchvision.transforms import v2\n",
    "import multiprocessing\n"
   ]
  },
  {
   "cell_type": "code",
   "execution_count": 56,
   "id": "f307c59f",
   "metadata": {},
   "outputs": [],
   "source": [
    "# run variables\n",
    "\n",
    "seed = 42"
   ]
  },
  {
   "cell_type": "code",
   "execution_count": 57,
   "id": "7a475559",
   "metadata": {},
   "outputs": [
    {
     "name": "stdout",
     "output_type": "stream",
     "text": [
      "AMD Radeon RX 7800 XT\n",
      "Using cuda device\n"
     ]
    }
   ],
   "source": [
    "# device settings\n",
    "\n",
    "num_workers = multiprocessing.cpu_count() // 2\n",
    "\n",
    "print(torch.cuda.get_device_name(torch.cuda.current_device()))\n",
    "\n",
    "device = torch.accelerator.current_accelerator().type if torch.accelerator.is_available() else \"cpu\"\n",
    "print(f\"Using {device} device\")"
   ]
  },
  {
   "cell_type": "code",
   "execution_count": null,
   "id": "e57cdc63",
   "metadata": {},
   "outputs": [
    {
     "name": "stdout",
     "output_type": "stream",
     "text": [
      "train set size: 40000\n",
      "validation set size: 10000\n",
      "test set size: 10000\n"
     ]
    }
   ],
   "source": [
    "# define datasets and loaders\n",
    "\n",
    "transform = v2.Compose([\n",
    "    v2.ToImage(),\n",
    "    v2.ToDtype(torch.float32, scale=True),\n",
    "    v2.Normalize(mean=[0.485, 0.456, 0.406], std=[0.229, 0.224, 0.225]),\n",
    "])\n",
    "\n",
    "train_dataset = CIFAR10(\"./../data\", train=True, transform=transform, download=True)\n",
    "test_dataset = CIFAR10(\"./../data\", train=False, transform=transform, download=True)\n",
    "\n",
    "train_dataset, validation_dataset =  random_split(train_dataset, [0.8, 0.2])\n",
    "\n",
    "print('train set size:', len(train_dataset))\n",
    "print('validation set size:', len(validation_dataset))\n",
    "print('test set size:', len(test_dataset))\n",
    "\n",
    "train_loader = DataLoader(train_dataset, batch_size=128, shuffle=True, num_workers=num_workers)\n",
    "validation_loader = DataLoader(validation_dataset, batch_size=128, shuffle=True, num_workers=num_workers)\n",
    "test_loader = DataLoader(test_dataset, batch_size=128, shuffle=False, num_workers=num_workers)\n",
    "\n",
    "class_names = [\"airplane\", \"automobile\", \"bird\", \"cat\", \"deer\", \"dog\", \"frog\", \"horse\", \"ship\", \"truck\"]"
   ]
  },
  {
   "cell_type": "code",
   "execution_count": 59,
   "id": "fb4488f2",
   "metadata": {},
   "outputs": [],
   "source": [
    "class BaseNN(nn.Module):\n",
    "    def __init__(self, num_classes=10):\n",
    "        super(BaseNN, self).__init__()\n",
    "        self.features = nn.Sequential(\n",
    "            nn.Conv2d(3, 128, kernel_size=3, padding=1),\n",
    "            nn.ReLU(),\n",
    "            nn.Conv2d(128, 64, kernel_size=3, padding=1),\n",
    "            nn.ReLU(),\n",
    "            nn.MaxPool2d(kernel_size=2, stride=2),\n",
    "            nn.Conv2d(64, 64, kernel_size=3, padding=1),\n",
    "            nn.ReLU(),\n",
    "            nn.Conv2d(64, 32, kernel_size=3, padding=1),\n",
    "            nn.ReLU(),\n",
    "            nn.MaxPool2d(kernel_size=2, stride=2),\n",
    "        )\n",
    "        self.classifier = nn.Sequential(\n",
    "            nn.Linear(2048, 512),\n",
    "            nn.ReLU(),\n",
    "            nn.Dropout(0.1),\n",
    "            nn.Linear(512, num_classes)\n",
    "        )\n",
    "\n",
    "    def forward(self, x):\n",
    "        x = self.features(x)\n",
    "        conv_output = x\n",
    "        x = torch.flatten(x, 1)\n",
    "        x = self.classifier(x)\n",
    "        return x, conv_output"
   ]
  },
  {
   "cell_type": "code",
   "execution_count": 60,
   "id": "03d8156d",
   "metadata": {},
   "outputs": [],
   "source": [
    "class StudentNN(nn.Module):\n",
    "    def __init__(self, num_classes=10):\n",
    "        super(StudentNN, self).__init__()\n",
    "        self.features = nn.Sequential(\n",
    "            nn.Conv2d(3, 16, kernel_size=3, padding=1),\n",
    "            nn.ReLU(),\n",
    "            nn.MaxPool2d(kernel_size=2, stride=2),\n",
    "            nn.Conv2d(16, 16, kernel_size=3, padding=1),\n",
    "            nn.ReLU(),\n",
    "            nn.MaxPool2d(kernel_size=2, stride=2),\n",
    "        )\n",
    "        self.regressor = nn.Sequential(\n",
    "            nn.Conv2d(16, 32, kernel_size=3, padding=1)\n",
    "        )\n",
    "        self.classifier = nn.Sequential(\n",
    "            nn.Linear(1024, 256),\n",
    "            nn.ReLU(),\n",
    "            nn.Dropout(0.1),\n",
    "            nn.Linear(256, num_classes)\n",
    "        )\n",
    "\n",
    "    def forward(self, x):\n",
    "        x = self.features(x)\n",
    "        intermediate_teaching_layer_output = self.regressor(x)\n",
    "        x = torch.flatten(x, 1)\n",
    "        x = self.classifier(x)\n",
    "        return x, intermediate_teaching_layer_output"
   ]
  },
  {
   "cell_type": "code",
   "execution_count": 61,
   "id": "927a8bef",
   "metadata": {},
   "outputs": [],
   "source": [
    "model_teacher = BaseNN(num_classes=10).to(device)\n",
    "model_teacher.load_state_dict(torch.load(\"../models/base.pt\"))\n",
    "model_teacher.eval()\n",
    "\n",
    "torch.manual_seed(seed)\n",
    "model_student = StudentNN(num_classes=10).to(device)"
   ]
  },
  {
   "cell_type": "code",
   "execution_count": 62,
   "id": "afdd866b",
   "metadata": {},
   "outputs": [
    {
     "name": "stdout",
     "output_type": "stream",
     "text": [
      "model_teacher parameters: 1,186,986\n",
      "model_student parameters: 272,378\n",
      "Student's feature extractor output shape:  torch.Size([128, 16, 8, 8])\n",
      "Teacher's feature extractor output shape:  torch.Size([128, 32, 8, 8])\n"
     ]
    }
   ],
   "source": [
    "# print important network parameters\n",
    "\n",
    "total_params_base = \"{:,}\".format(sum(p.numel() for p in model_teacher.parameters()))\n",
    "total_params_student = \"{:,}\".format(sum(p.numel() for p in model_student.parameters()))\n",
    "print(f\"model_teacher parameters: {total_params_base}\")\n",
    "print(f\"model_student parameters: {total_params_student}\")\n",
    "\n",
    "for inputs, labels in test_loader:\n",
    "    inputs, labels = inputs.to(device), labels.to(device)\n",
    "    \n",
    "    with torch.no_grad():\n",
    "        outputs = model_teacher(inputs)\n",
    "        \n",
    "    features_student = model_student.features(inputs)\n",
    "    features_teacher = model_teacher.features(inputs)\n",
    "    break\n",
    "\n",
    "print(\"Student's feature extractor output shape: \", features_student.shape)\n",
    "print(\"Teacher's feature extractor output shape: \", features_teacher.shape)"
   ]
  },
  {
   "cell_type": "code",
   "execution_count": 63,
   "id": "78f538e7",
   "metadata": {},
   "outputs": [],
   "source": [
    "def train(teacher, student, epochs, learning_rate, teaching_weight, self_teaching_weight):\n",
    "    trainingEpoch_loss = []\n",
    "    validationEpoch_loss = []\n",
    "    ce_loss = nn.CrossEntropyLoss()\n",
    "    mse_loss = nn.MSELoss()\n",
    "    optimizer = torch.optim.Adam(student.parameters(), lr=learning_rate)\n",
    "\n",
    "    teacher.eval()\n",
    "\n",
    "    for epoch in range(epochs):\n",
    "        # training\n",
    "        student.train()\n",
    "        running_loss = 0.0\n",
    "        for inputs, labels in train_loader:\n",
    "            inputs, labels = inputs.to(device), labels.to(device)\n",
    "\n",
    "            optimizer.zero_grad()\n",
    "\n",
    "            with torch.no_grad():\n",
    "                _, teacher_conv_output = teacher(inputs)\n",
    "\n",
    "            student_output, intermediate_teaching_layer_output = student(inputs)\n",
    "\n",
    "            teaching_loss = mse_loss(intermediate_teaching_layer_output, teacher_conv_output)\n",
    "            self_teaching_loss = ce_loss(student_output, labels)\n",
    "            loss = teaching_weight * teaching_loss + self_teaching_weight * self_teaching_loss\n",
    "\n",
    "            loss.backward()\n",
    "            optimizer.step()\n",
    "\n",
    "            running_loss += loss.item()\n",
    "\n",
    "        print(f\"Epoch {epoch+1}/{epochs}, Loss: {running_loss / len(train_loader)}\")\n",
    "        trainingEpoch_loss.append(running_loss / len(train_loader))\n",
    "    \n",
    "        # validation\n",
    "        student.eval()\n",
    "        validation_loss = 0.0\n",
    "        for inputs, labels in validation_loader:\n",
    "            inputs, labels = inputs.to(device), labels.to(device)\n",
    "            \n",
    "            with torch.no_grad():\n",
    "                _, teacher_conv_output = teacher(inputs)\n",
    "\n",
    "            student_output, intermediate_teaching_layer_output = student(inputs)\n",
    "\n",
    "            teaching_loss = mse_loss(intermediate_teaching_layer_output, teacher_conv_output)\n",
    "            self_teaching_loss = ce_loss(student_output, labels)\n",
    "            loss = teaching_weight * teaching_loss + self_teaching_weight * self_teaching_loss\n",
    "\n",
    "            validation_loss += loss.item()\n",
    "\n",
    "        validationEpoch_loss.append(validation_loss / len(validation_loader))\n",
    "        \n",
    "    return trainingEpoch_loss, validationEpoch_loss"
   ]
  },
  {
   "cell_type": "code",
   "execution_count": 64,
   "id": "f3b767fa",
   "metadata": {},
   "outputs": [
    {
     "name": "stdout",
     "output_type": "stream",
     "text": [
      "Epoch 1/10, Loss: 1.8214595477801923\n",
      "Epoch 2/10, Loss: 1.4240510151409114\n",
      "Epoch 3/10, Loss: 1.2648170379023203\n",
      "Epoch 4/10, Loss: 1.162593689970315\n",
      "Epoch 5/10, Loss: 1.076127474681257\n",
      "Epoch 6/10, Loss: 1.0116532519221686\n",
      "Epoch 7/10, Loss: 0.9445975950350777\n",
      "Epoch 8/10, Loss: 0.8970218965420708\n",
      "Epoch 9/10, Loss: 0.8483976653208748\n",
      "Epoch 10/10, Loss: 0.7992614083015881\n"
     ]
    }
   ],
   "source": [
    "trainingEpoch_loss, validationEpoch_loss = train(teacher=model_teacher, student=model_student, epochs=10, learning_rate=0.001, teaching_weight=0.25, self_teaching_weight=0.75)"
   ]
  },
  {
   "cell_type": "code",
   "execution_count": 65,
   "id": "c8ef343f",
   "metadata": {},
   "outputs": [],
   "source": [
    "torch.save(model_student.state_dict(), \"../models/student.pt\")"
   ]
  },
  {
   "cell_type": "code",
   "execution_count": 66,
   "id": "e8523d04",
   "metadata": {},
   "outputs": [],
   "source": [
    "def test(model):\n",
    "    model.eval()\n",
    "\n",
    "    correct = 0\n",
    "    total = 0\n",
    "\n",
    "    with torch.no_grad():\n",
    "        for inputs, labels in test_loader:\n",
    "            inputs, labels = inputs.to(device), labels.to(device)\n",
    "\n",
    "            outputs, _ = model(inputs)\n",
    "            _, predicted = torch.max(outputs.data, 1)\n",
    "\n",
    "            total += labels.size(0)\n",
    "            correct += (predicted == labels).sum().item()\n",
    "\n",
    "    accuracy = 100 * correct / total\n",
    "    print(f\"Test Accuracy: {accuracy:.2f}%\")\n",
    "    return accuracy"
   ]
  },
  {
   "cell_type": "code",
   "execution_count": 67,
   "id": "98e754aa",
   "metadata": {},
   "outputs": [
    {
     "name": "stdout",
     "output_type": "stream",
     "text": [
      "Test Accuracy: 69.24%\n"
     ]
    },
    {
     "data": {
      "text/plain": [
       "69.24"
      ]
     },
     "execution_count": 67,
     "metadata": {},
     "output_type": "execute_result"
    }
   ],
   "source": [
    "test(model_student)"
   ]
  },
  {
   "cell_type": "code",
   "execution_count": 68,
   "id": "3f493231",
   "metadata": {},
   "outputs": [
    {
     "data": {
      "image/png": "[encoded data removed]",
      "text/plain": [
       "<Figure size 640x480 with 1 Axes>"
      ]
     },
     "metadata": {},
     "output_type": "display_data"
    }
   ],
   "source": [
    "plt.plot(trainingEpoch_loss, label='train_loss')\n",
    "plt.plot(validationEpoch_loss,label='val_loss')\n",
    "plt.legend()\n",
    "plt.ylim(top=2)\n",
    "plt.show()"
   ]
  }
 ],
 "metadata": {
  "kernelspec": {
   "display_name": "Python 3",
   "language": "python",
   "name": "python3"
  },
  "language_info": {
   "codemirror_mode": {
    "name": "ipython",
    "version": 3
   },
   "file_extension": ".py",
   "mimetype": "text/x-python",
   "name": "python",
   "nbconvert_exporter": "python",
   "pygments_lexer": "ipython3",
   "version": "3.12.10"
  }
 },
 "nbformat": 4,
 "nbformat_minor": 5
}
